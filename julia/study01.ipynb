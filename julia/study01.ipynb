{
 "cells": [
  {
   "cell_type": "code",
   "execution_count": 1,
   "id": "1aff95bf",
   "metadata": {},
   "outputs": [
    {
     "data": {
      "text/plain": [
       "3.23"
      ]
     },
     "execution_count": 1,
     "metadata": {},
     "output_type": "execute_result"
    }
   ],
   "source": [
    "δ=3.23"
   ]
  },
  {
   "cell_type": "code",
   "execution_count": 3,
   "id": "ecfa15f1",
   "metadata": {},
   "outputs": [
    {
     "data": {
      "text/plain": [
       "7.5259"
      ]
     },
     "execution_count": 3,
     "metadata": {},
     "output_type": "execute_result"
    }
   ],
   "source": [
    "δ*2.33"
   ]
  },
  {
   "cell_type": "code",
   "execution_count": 4,
   "id": "b3e441cd",
   "metadata": {},
   "outputs": [
    {
     "data": {
      "text/plain": [
       "3.33"
      ]
     },
     "execution_count": 4,
     "metadata": {},
     "output_type": "execute_result"
    }
   ],
   "source": [
    "ε=3.33"
   ]
  },
  {
   "cell_type": "code",
   "execution_count": 5,
   "id": "a31a14a6",
   "metadata": {},
   "outputs": [
    {
     "data": {
      "text/plain": [
       "π = 3.1415926535897..."
      ]
     },
     "execution_count": 5,
     "metadata": {},
     "output_type": "execute_result"
    }
   ],
   "source": [
    "π"
   ]
  },
  {
   "cell_type": "code",
   "execution_count": 7,
   "id": "15cee075",
   "metadata": {},
   "outputs": [
    {
     "data": {
      "text/plain": [
       "2.718281828459045"
      ]
     },
     "execution_count": 7,
     "metadata": {},
     "output_type": "execute_result"
    }
   ],
   "source": [
    "exp(1.)"
   ]
  },
  {
   "cell_type": "code",
   "execution_count": 8,
   "id": "e3958abb",
   "metadata": {},
   "outputs": [
    {
     "data": {
      "text/plain": [
       "Int64"
      ]
     },
     "execution_count": 8,
     "metadata": {},
     "output_type": "execute_result"
    }
   ],
   "source": [
    "typeof(1)"
   ]
  },
  {
   "cell_type": "code",
   "execution_count": 9,
   "id": "92fde31c",
   "metadata": {},
   "outputs": [
    {
     "data": {
      "text/plain": [
       "UInt64"
      ]
     },
     "execution_count": 9,
     "metadata": {},
     "output_type": "execute_result"
    }
   ],
   "source": [
    "UInt"
   ]
  },
  {
   "cell_type": "code",
   "execution_count": 10,
   "id": "53b8da29",
   "metadata": {},
   "outputs": [
    {
     "data": {
      "text/plain": [
       "Int64"
      ]
     },
     "execution_count": 10,
     "metadata": {},
     "output_type": "execute_result"
    }
   ],
   "source": [
    "Int"
   ]
  },
  {
   "cell_type": "code",
   "execution_count": 11,
   "id": "e9837d39",
   "metadata": {},
   "outputs": [
    {
     "data": {
      "text/plain": [
       "0.00023"
      ]
     },
     "execution_count": 11,
     "metadata": {},
     "output_type": "execute_result"
    }
   ],
   "source": [
    "2.3e-4"
   ]
  },
  {
   "cell_type": "code",
   "execution_count": 12,
   "id": "5ac0fa35",
   "metadata": {},
   "outputs": [
    {
     "data": {
      "text/plain": [
       "Float64"
      ]
     },
     "execution_count": 12,
     "metadata": {},
     "output_type": "execute_result"
    }
   ],
   "source": [
    "typeof(1.)"
   ]
  },
  {
   "cell_type": "code",
   "execution_count": 14,
   "id": "210289c8",
   "metadata": {},
   "outputs": [
    {
     "data": {
      "text/plain": [
       "2.220446049250313e-16"
      ]
     },
     "execution_count": 14,
     "metadata": {},
     "output_type": "execute_result"
    }
   ],
   "source": [
    "eps(Float64)"
   ]
  },
  {
   "cell_type": "code",
   "execution_count": 15,
   "id": "79f4fd97",
   "metadata": {},
   "outputs": [
    {
     "data": {
      "text/plain": [
       "41.10099999999999"
      ]
     },
     "execution_count": 15,
     "metadata": {},
     "output_type": "execute_result"
    }
   ],
   "source": [
    "x=2.3; 2x+3x^3"
   ]
  },
  {
   "cell_type": "code",
   "execution_count": 16,
   "id": "498bf15d",
   "metadata": {},
   "outputs": [
    {
     "data": {
      "text/plain": [
       "3-element Array{Int64,1}:\n",
       "  1\n",
       "  8\n",
       " 27"
      ]
     },
     "execution_count": 16,
     "metadata": {},
     "output_type": "execute_result"
    }
   ],
   "source": [
    "[1,2,3].^3"
   ]
  },
  {
   "cell_type": "code",
   "execution_count": 17,
   "id": "7eff2cd4",
   "metadata": {},
   "outputs": [
    {
     "data": {
      "text/plain": [
       "3-element Array{Int64,1}:\n",
       "      531441\n",
       "    16777216\n",
       " 13841287201"
      ]
     },
     "execution_count": 17,
     "metadata": {},
     "output_type": "execute_result"
    }
   ],
   "source": [
    "[3,4,7].^12"
   ]
  },
  {
   "cell_type": "code",
   "execution_count": 18,
   "id": "1c59358b",
   "metadata": {},
   "outputs": [
    {
     "data": {
      "text/plain": [
       "3-element Array{Int64,1}:\n",
       "  2\n",
       "  6\n",
       " 12"
      ]
     },
     "execution_count": 18,
     "metadata": {},
     "output_type": "execute_result"
    }
   ],
   "source": [
    "[1,2,3].*[2,3,4]"
   ]
  },
  {
   "cell_type": "code",
   "execution_count": 19,
   "id": "c41a3c9e",
   "metadata": {},
   "outputs": [
    {
     "data": {
      "text/plain": [
       "true"
      ]
     },
     "execution_count": 19,
     "metadata": {},
     "output_type": "execute_result"
    }
   ],
   "source": [
    "2.3 ≤ 4"
   ]
  },
  {
   "cell_type": "code",
   "execution_count": 20,
   "id": "c9e401b9",
   "metadata": {},
   "outputs": [
    {
     "data": {
      "text/plain": [
       "false"
      ]
     },
     "execution_count": 20,
     "metadata": {},
     "output_type": "execute_result"
    }
   ],
   "source": [
    "3.2<=2"
   ]
  },
  {
   "cell_type": "code",
   "execution_count": 21,
   "id": "3cb694b2",
   "metadata": {},
   "outputs": [
    {
     "data": {
      "text/plain": [
       "false"
      ]
     },
     "execution_count": 21,
     "metadata": {},
     "output_type": "execute_result"
    }
   ],
   "source": [
    "3.2 ≤ 2"
   ]
  },
  {
   "cell_type": "code",
   "execution_count": 22,
   "id": "14a02431",
   "metadata": {},
   "outputs": [
    {
     "data": {
      "text/plain": [
       "3.3"
      ]
     },
     "execution_count": 22,
     "metadata": {},
     "output_type": "execute_result"
    }
   ],
   "source": [
    "α=3.3"
   ]
  },
  {
   "cell_type": "code",
   "execution_count": 24,
   "id": "0d2631e0",
   "metadata": {},
   "outputs": [
    {
     "data": {
      "text/plain": [
       "3.2"
      ]
     },
     "execution_count": 24,
     "metadata": {},
     "output_type": "execute_result"
    }
   ],
   "source": [
    "β=3.2"
   ]
  },
  {
   "cell_type": "code",
   "execution_count": 25,
   "id": "db704b84",
   "metadata": {},
   "outputs": [
    {
     "data": {
      "text/plain": [
       "6.5"
      ]
     },
     "execution_count": 25,
     "metadata": {},
     "output_type": "execute_result"
    }
   ],
   "source": [
    "α+β"
   ]
  },
  {
   "cell_type": "code",
   "execution_count": 26,
   "id": "7c855306",
   "metadata": {},
   "outputs": [
    {
     "data": {
      "text/plain": [
       "1.51657508881031"
      ]
     },
     "execution_count": 26,
     "metadata": {},
     "output_type": "execute_result"
    }
   ],
   "source": [
    "√2.3"
   ]
  },
  {
   "cell_type": "code",
   "execution_count": 30,
   "id": "61ffab62",
   "metadata": {},
   "outputs": [
    {
     "data": {
      "text/plain": [
       "0.0 + 1.7888543819998317im"
      ]
     },
     "execution_count": 30,
     "metadata": {},
     "output_type": "execute_result"
    }
   ],
   "source": [
    "sqrt(-3.2+0im)"
   ]
  },
  {
   "cell_type": "code",
   "execution_count": 32,
   "id": "946edce6",
   "metadata": {},
   "outputs": [
    {
     "data": {
      "text/plain": [
       "\"abcdefg\""
      ]
     },
     "execution_count": 32,
     "metadata": {},
     "output_type": "execute_result"
    }
   ],
   "source": [
    "aa=\"\"\"abcdefg\"\"\""
   ]
  },
  {
   "cell_type": "code",
   "execution_count": 38,
   "id": "c30b12af",
   "metadata": {},
   "outputs": [
    {
     "data": {
      "text/plain": [
       "(\"abc\", 'f')"
      ]
     },
     "execution_count": 38,
     "metadata": {},
     "output_type": "execute_result"
    }
   ],
   "source": [
    "aa[1:3], aa[end-1]"
   ]
  },
  {
   "cell_type": "code",
   "execution_count": 40,
   "id": "e90cfb10",
   "metadata": {},
   "outputs": [
    {
     "data": {
      "text/plain": [
       "\"∀ x ∃ y\""
      ]
     },
     "execution_count": 40,
     "metadata": {},
     "output_type": "execute_result"
    }
   ],
   "source": [
    "s = \"\\u2200 x \\u2203 y\""
   ]
  },
  {
   "cell_type": "code",
   "execution_count": 42,
   "id": "ddda96ee",
   "metadata": {},
   "outputs": [
    {
     "data": {
      "text/plain": [
       "\"abcdefgacegzz\""
      ]
     },
     "execution_count": 42,
     "metadata": {},
     "output_type": "execute_result"
    }
   ],
   "source": [
    "aa*=\"acegzz\""
   ]
  },
  {
   "cell_type": "code",
   "execution_count": 47,
   "id": "2428adaf",
   "metadata": {},
   "outputs": [
    {
     "data": {
      "text/plain": [
       "2"
      ]
     },
     "execution_count": 47,
     "metadata": {},
     "output_type": "execute_result"
    }
   ],
   "source": [
    "nextind(aa, 1)"
   ]
  },
  {
   "cell_type": "code",
   "execution_count": 48,
   "id": "cdd0d6ca",
   "metadata": {},
   "outputs": [
    {
     "data": {
      "text/plain": [
       "1"
      ]
     },
     "execution_count": 48,
     "metadata": {},
     "output_type": "execute_result"
    }
   ],
   "source": [
    "-(3,2)"
   ]
  },
  {
   "cell_type": "code",
   "execution_count": 50,
   "id": "11fef12f",
   "metadata": {},
   "outputs": [
    {
     "data": {
      "text/plain": [
       "6"
      ]
     },
     "execution_count": 50,
     "metadata": {},
     "output_type": "execute_result"
    }
   ],
   "source": [
    "+(3,2,1)"
   ]
  },
  {
   "cell_type": "code",
   "execution_count": 55,
   "id": "32509690",
   "metadata": {},
   "outputs": [
    {
     "data": {
      "text/plain": [
       "2-element Array{Array{Int64,1},1}:\n",
       " [5, 6]\n",
       " [7, 8]"
      ]
     },
     "execution_count": 55,
     "metadata": {},
     "output_type": "execute_result"
    }
   ],
   "source": [
    "A=[[1,2],[3,4]]; B=[[5,6],[7,8]]"
   ]
  },
  {
   "cell_type": "code",
   "execution_count": 71,
   "id": "98c69260",
   "metadata": {},
   "outputs": [
    {
     "data": {
      "text/plain": [
       "3"
      ]
     },
     "execution_count": 71,
     "metadata": {},
     "output_type": "execute_result"
    }
   ],
   "source": [
    "A[1][1]=3"
   ]
  },
  {
   "cell_type": "code",
   "execution_count": 76,
   "id": "4a8748cb",
   "metadata": {},
   "outputs": [
    {
     "data": {
      "text/plain": [
       "5-element Array{Float64,1}:\n",
       " 0.3141592653589793\n",
       " 0.6283185307179586\n",
       " 0.942477796076938\n",
       " 1.2566370614359172\n",
       " 1.5707963267948966"
      ]
     },
     "execution_count": 76,
     "metadata": {},
     "output_type": "execute_result"
    }
   ],
   "source": [
    "xx=[1,2,3,4,5].*0.1*pi"
   ]
  },
  {
   "cell_type": "code",
   "execution_count": 77,
   "id": "9070ed37",
   "metadata": {},
   "outputs": [
    {
     "data": {
      "text/plain": [
       "5-element Array{Float64,1}:\n",
       " 0.3090169943749474\n",
       " 0.5877852522924731\n",
       " 0.8090169943749475\n",
       " 0.9510565162951535\n",
       " 1.0"
      ]
     },
     "execution_count": 77,
     "metadata": {},
     "output_type": "execute_result"
    }
   ],
   "source": [
    "sin.(xx)"
   ]
  },
  {
   "cell_type": "code",
   "execution_count": 80,
   "id": "11d0d91a",
   "metadata": {},
   "outputs": [
    {
     "data": {
      "text/plain": [
       "5-element Array{Float64,1}:\n",
       " 0.0\n",
       " 0.0\n",
       " 0.0\n",
       " 0.0\n",
       " 0.0"
      ]
     },
     "execution_count": 80,
     "metadata": {},
     "output_type": "execute_result"
    }
   ],
   "source": [
    "yy=similar(xx)"
   ]
  },
  {
   "cell_type": "code",
   "execution_count": 87,
   "id": "ae8d8285",
   "metadata": {},
   "outputs": [
    {
     "data": {
      "text/plain": [
       "5-element Array{Float64,1}:\n",
       " 0.8140296083596739\n",
       " 0.7236090437019012\n",
       " 0.5545193359484234\n",
       " 0.304122339949009\n",
       " 6.123233995736766e-17"
      ]
     },
     "execution_count": 87,
     "metadata": {},
     "output_type": "execute_result"
    }
   ],
   "source": [
    "@.yy = sin(cos(xx))"
   ]
  },
  {
   "cell_type": "code",
   "execution_count": 86,
   "id": "0c733c3e",
   "metadata": {},
   "outputs": [
    {
     "data": {
      "text/plain": [
       "5-element Array{Float64,1}:\n",
       " 0.8140296083596739\n",
       " 0.7236090437019012\n",
       " 0.5545193359484234\n",
       " 0.304122339949009\n",
       " 6.123233995736766e-17"
      ]
     },
     "execution_count": 86,
     "metadata": {},
     "output_type": "execute_result"
    }
   ],
   "source": [
    "yy = sin.(cos.(xx))"
   ]
  },
  {
   "cell_type": "code",
   "execution_count": 88,
   "id": "a37642e3",
   "metadata": {},
   "outputs": [
    {
     "data": {
      "text/plain": [
       "0.01818181818181818"
      ]
     },
     "execution_count": 88,
     "metadata": {},
     "output_type": "execute_result"
    }
   ],
   "source": [
    "[1:5;] |> x->x.^2 |> sum |> inv"
   ]
  },
  {
   "cell_type": "code",
   "execution_count": 98,
   "id": "b27f0f8b",
   "metadata": {},
   "outputs": [
    {
     "data": {
      "text/plain": [
       "0.01818181818181818"
      ]
     },
     "execution_count": 98,
     "metadata": {},
     "output_type": "execute_result"
    }
   ],
   "source": [
    "[1:5;] |> x->x.^2 |>sum |>inv"
   ]
  },
  {
   "cell_type": "code",
   "execution_count": 92,
   "id": "05095eba",
   "metadata": {},
   "outputs": [
    {
     "data": {
      "text/plain": [
       "#7 (generic function with 1 method)"
      ]
     },
     "execution_count": 92,
     "metadata": {},
     "output_type": "execute_result"
    }
   ],
   "source": [
    "x->x.^2"
   ]
  },
  {
   "cell_type": "code",
   "execution_count": 100,
   "id": "fb3578fa",
   "metadata": {},
   "outputs": [
    {
     "name": "stdout",
     "output_type": "stream",
     "text": [
      "1\n",
      "2\n",
      "3\n",
      "4\n",
      "5\n"
     ]
    }
   ],
   "source": [
    "for ii ∈ [1,2,3,4,5]\n",
    "    println(ii)\n",
    "end"
   ]
  },
  {
   "cell_type": "code",
   "execution_count": 101,
   "id": "49e63206",
   "metadata": {},
   "outputs": [
    {
     "name": "stdout",
     "output_type": "stream",
     "text": [
      "1\n"
     ]
    }
   ],
   "source": [
    "for i=1:10:2\n",
    "    println(i)\n",
    "end\n"
   ]
  },
  {
   "cell_type": "code",
   "execution_count": 113,
   "id": "4753c750",
   "metadata": {},
   "outputs": [
    {
     "name": "stdout",
     "output_type": "stream",
     "text": [
      "0\n",
      "1\n",
      "2\n",
      "3\n",
      "4\n",
      "5\n",
      "6\n",
      "7\n",
      "8\n",
      "9\n",
      "10\n"
     ]
    }
   ],
   "source": [
    "for i in range(0, 10, step=1)\n",
    "    println(i)\n",
    "end"
   ]
  },
  {
   "cell_type": "code",
   "execution_count": 120,
   "id": "4a81738b",
   "metadata": {},
   "outputs": [
    {
     "data": {
      "text/plain": [
       "2×2 Array{Int8,2}:\n",
       " 1  3\n",
       " 2  4"
      ]
     },
     "execution_count": 120,
     "metadata": {},
     "output_type": "execute_result"
    }
   ],
   "source": [
    "Int8[[1,2]  [3, 4]]"
   ]
  },
  {
   "cell_type": "code",
   "execution_count": 122,
   "id": "060b3af4",
   "metadata": {},
   "outputs": [
    {
     "name": "stderr",
     "output_type": "stream",
     "text": [
      "┌ Info: Precompiling Plots [91a5bcdd-55d7-5caf-9e0b-520d859cae80]\n",
      "└ @ Base loading.jl:1260\n",
      "┌ Info: Saved animation to \n",
      "│   fn = /home/jiyongso/mydocs/jupyter/pytorch/tmp.gif\n",
      "└ @ Plots /home/jiyongso/.julia/packages/Plots/uCh2y/src/animation.jl:104\n"
     ]
    },
    {
     "data": {
      "text/html": [
       "<img src=\"data:image/gif;base64,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\" />"
      ],
      "text/plain": [
       "Plots.AnimatedGif(\"/home/jiyongso/mydocs/jupyter/pytorch/tmp.gif\")"
      ]
     },
     "execution_count": 122,
     "metadata": {},
     "output_type": "execute_result"
    }
   ],
   "source": [
    "using Plots\n",
    "# define the Lorenz attractor\n",
    "Base.@kwdef mutable struct Lorenz\n",
    "    dt::Float64 = 0.02\n",
    "    σ::Float64 = 10\n",
    "    ρ::Float64 = 28\n",
    "    β::Float64 = 8/3\n",
    "    x::Float64 = 1\n",
    "    y::Float64 = 1\n",
    "    z::Float64 = 1\n",
    "end\n",
    "\n",
    "function step!(l::Lorenz)\n",
    "    dx = l.σ * (l.y - l.x);         l.x += l.dt * dx\n",
    "    dy = l.x * (l.ρ - l.z) - l.y;   l.y += l.dt * dy\n",
    "    dz = l.x * l.y - l.β * l.z;     l.z += l.dt * dz\n",
    "end\n",
    "\n",
    "attractor = Lorenz()\n",
    "\n",
    "\n",
    "# initialize a 3D plot with 1 empty series\n",
    "plt = plot3d(\n",
    "    1,\n",
    "    xlim = (-30, 30),\n",
    "    ylim = (-30, 30),\n",
    "    zlim = (0, 60),\n",
    "    title = \"Lorenz Attractor\",\n",
    "    marker = 2,\n",
    ")\n",
    "\n",
    "# build an animated gif by pushing new points to the plot, saving every 10th frame\n",
    "@gif for i=1:1500\n",
    "    step!(attractor)\n",
    "    push!(plt, attractor.x, attractor.y, attractor.z)\n",
    "end every 10"
   ]
  },
  {
   "cell_type": "code",
   "execution_count": null,
   "id": "258db1d5",
   "metadata": {},
   "outputs": [],
   "source": []
  }
 ],
 "metadata": {
  "kernelspec": {
   "display_name": "Julia 1.4.1",
   "language": "julia",
   "name": "julia-1.4"
  },
  "language_info": {
   "file_extension": ".jl",
   "mimetype": "application/julia",
   "name": "julia",
   "version": "1.4.1"
  }
 },
 "nbformat": 4,
 "nbformat_minor": 5
}
