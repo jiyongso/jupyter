{
 "cells": [
  {
   "cell_type": "code",
   "execution_count": 75,
   "metadata": {},
   "outputs": [],
   "source": [
    "%reload_ext autoreload\n",
    "%autoreload 2\n",
    "import numpy as np\n",
    "\n",
    "import sys\n",
    "from numba import jit\n",
    "import matplotlib.pyplot as plt\n",
    "\n",
    "\n",
    "@jit\n",
    "def bincount(arr):\n",
    "    ar = np.array(arr, dtype = np.int)\n",
    "    amax = ar.max()\n",
    "    result = np.zeros((amax+1), dtype = np.int)\n",
    "    for ind in np.arange(ar.shape[0]) :\n",
    "        result[ar[ind]] += 1\n",
    "    return result\n",
    "\n",
    "@jit\n",
    "def bincount_with_weight(arr, weight):\n",
    "    ar, wr = np.array(arr, dtype = np.int), np.array(weight, dtype = np.float)\n",
    "    amax = ar.max()\n",
    "    result = np.zeros((amax+1), dtype = np.float)\n",
    "    for ind in np.arange(ar.shape[0]) :\n",
    "        result[ar[ind]] += wr\n",
    "    return result\n",
    "\n",
    "@jit\n",
    "def bincount2d(xa, ya):\n",
    "    xx, yy = np.array(xa, dtype=np.int), np.array(ya, dtype = np.int)\n",
    "    if xx.ndim != 1 or yy.ndim != 1 :\n",
    "        raise ValueError(\"list argements must be 1 dimension\")\n",
    "    if xx.shape != yy.shape:\n",
    "        raise ValueError(\"two list argements must have same shape\")\n",
    "    if np.any(xx<0) or np.any(yy<0) :\n",
    "        raise ValueError(\"list argement must have no negative elements\")\n",
    "    xmax, ymax = xx.max(), yy.max()\n",
    "    result = np.zeros((xmax+1, ymax+1), dtype = np.int)\n",
    "    for ind in np.arange(xx.shape[0]):\n",
    "        result[xx[ind], yy[ind]] += 1\n",
    "    return result\n",
    "\n",
    "\n",
    "                   "
   ]
  },
  {
   "cell_type": "code",
   "execution_count": 44,
   "metadata": {},
   "outputs": [
    {
     "data": {
      "text/plain": [
       "array([[0, 0, 0, 0, 0],\n",
       "       [0, 0, 0, 1, 0],\n",
       "       [0, 0, 0, 0, 1],\n",
       "       [0, 0, 1, 0, 0],\n",
       "       [0, 1, 0, 0, 0]])"
      ]
     },
     "execution_count": 44,
     "metadata": {},
     "output_type": "execute_result"
    }
   ],
   "source": [
    "pp=np.array([1.2,2.3,3.1,4])\n",
    "qq = np.array([3,4,2,1])\n",
    "bincount2d(pp, qq)"
   ]
  },
  {
   "cell_type": "code",
   "execution_count": 50,
   "metadata": {},
   "outputs": [],
   "source": [
    "xx= np.abs(np.random.normal(30., 10.0, 1000000))\n",
    "yy = np.abs(np.random.normal( 20., 8., 1000000))"
   ]
  },
  {
   "cell_type": "code",
   "execution_count": 52,
   "metadata": {},
   "outputs": [],
   "source": [
    "hh = bincount2d(xx, yy)"
   ]
  },
  {
   "cell_type": "code",
   "execution_count": 56,
   "metadata": {},
   "outputs": [
    {
     "data": {
      "text/plain": [
       "<matplotlib.image.AxesImage at 0x61ffe4b00>"
      ]
     },
     "execution_count": 56,
     "metadata": {},
     "output_type": "execute_result"
    },
    {
     "data": {
      "image/png": "[encoded data removed]",
      "text/plain": [
       "<Figure size 432x288 with 1 Axes>"
      ]
     },
     "metadata": {
      "needs_background": "light"
     },
     "output_type": "display_data"
    }
   ],
   "source": [
    "plt.imshow(hh)"
   ]
  },
  {
   "cell_type": "code",
   "execution_count": 60,
   "metadata": {},
   "outputs": [],
   "source": [
    "h2=np.histogram2d(xx, yy, bins=(int(xx.max())+1, int(yy.max())+1))"
   ]
  },
  {
   "cell_type": "code",
   "execution_count": 61,
   "metadata": {},
   "outputs": [
    {
     "data": {
      "text/plain": [
       "<matplotlib.image.AxesImage at 0x11925e2b0>"
      ]
     },
     "execution_count": 61,
     "metadata": {},
     "output_type": "execute_result"
    },
    {
     "data": {
      "image/png": "[encoded data removed]",
      "text/plain": [
       "<Figure size 432x288 with 1 Axes>"
      ]
     },
     "metadata": {
      "needs_background": "light"
     },
     "output_type": "display_data"
    }
   ],
   "source": [
    "plt.imshow(h2[0])"
   ]
  },
  {
   "cell_type": "code",
   "execution_count": 65,
   "metadata": {},
   "outputs": [
    {
     "name": "stdout",
     "output_type": "stream",
     "text": [
      "8.23 ms ± 103 µs per loop (mean ± std. dev. of 7 runs, 100 loops each)\n"
     ]
    }
   ],
   "source": [
    "%timeit bincount2d(xx, yy)"
   ]
  },
  {
   "cell_type": "code",
   "execution_count": 66,
   "metadata": {},
   "outputs": [
    {
     "name": "stdout",
     "output_type": "stream",
     "text": [
      "87 ms ± 403 µs per loop (mean ± std. dev. of 7 runs, 10 loops each)\n"
     ]
    }
   ],
   "source": [
    "%timeit np.histogram2d(xx, yy, bins=(int(xx.max())+1, int(yy.max())+1))"
   ]
  },
  {
   "cell_type": "code",
   "execution_count": 77,
   "metadata": {},
   "outputs": [
    {
     "name": "stdout",
     "output_type": "stream",
     "text": [
      "4.65 ms ± 284 µs per loop (mean ± std. dev. of 7 runs, 100 loops each)\n"
     ]
    }
   ],
   "source": [
    "%timeit bincount(xx)"
   ]
  },
  {
   "cell_type": "code",
   "execution_count": null,
   "metadata": {},
   "outputs": [],
   "source": []
  }
 ],
 "metadata": {
  "kernelspec": {
   "display_name": "Python 3",
   "language": "python",
   "name": "python3"
  },
  "language_info": {
   "codemirror_mode": {
    "name": "ipython",
    "version": 3
   },
   "file_extension": ".py",
   "mimetype": "text/x-python",
   "name": "python",
   "nbconvert_exporter": "python",
   "pygments_lexer": "ipython3",
   "version": "3.7.9"
  }
 },
 "nbformat": 4,
 "nbformat_minor": 4
}
