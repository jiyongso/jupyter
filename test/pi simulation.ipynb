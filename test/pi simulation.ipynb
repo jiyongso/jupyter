{
 "cells": [
  {
   "cell_type": "code",
   "execution_count": 8,
   "metadata": {},
   "outputs": [
    {
     "name": "stdout",
     "output_type": "stream",
     "text": [
      "Pi for N (2)=  2.7386127875258306\n",
      "Pi for N (5)=  2.9633877010385707\n",
      "Pi for N (10)=  3.04936163598207\n",
      "Pi for N (100)=  3.1320765318091053\n",
      "Pi for N (1000)=  3.1406380562059946\n",
      "Pi for N (10000)=  3.1414971639472147\n",
      "Pi for N (100000)=  3.141583104326456\n",
      "Pi for N (200000)=  3.141587878949823\n",
      "Pi for N (500000)=  3.141590743731832\n",
      "Pi for N (999999)=  3.141591698659554\n"
     ]
    }
   ],
   "source": [
    "import numpy as np\n",
    "NN = 0.0\n",
    "for i in range(1,1000000):\n",
    "    NN += 1.0/float(i)/float(i)\n",
    "    if i in (2, 5, 10, 100, 1000, 10000, 100000, 200000, 500000, 999999):\n",
    "        \n",
    "        print(\"Pi for N (%d)= \"%(i), np.sqrt(NN*6.0))\n",
    "        "
   ]
  },
  {
   "cell_type": "code",
   "execution_count": null,
   "metadata": {},
   "outputs": [],
   "source": []
  }
 ],
 "metadata": {
  "kernelspec": {
   "display_name": "Python 3",
   "language": "python",
   "name": "python3"
  },
  "language_info": {
   "codemirror_mode": {
    "name": "ipython",
    "version": 3
   },
   "file_extension": ".py",
   "mimetype": "text/x-python",
   "name": "python",
   "nbconvert_exporter": "python",
   "pygments_lexer": "ipython3",
   "version": "3.6.3"
  }
 },
 "nbformat": 4,
 "nbformat_minor": 2
}
