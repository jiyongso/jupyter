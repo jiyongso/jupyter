{
 "cells": [
  {
   "cell_type": "code",
   "execution_count": 10,
   "metadata": {},
   "outputs": [],
   "source": [
    "%matplotlib inline\n",
    "import matplotlib \n",
    "import numpy as np\n",
    "import matplotlib.pyplot as plt\n",
    " \n",
    "# use LaTeX, choose nice some looking fonts and tweak some settings\n",
    "matplotlib.rc('font', family='serif')\n",
    "matplotlib.rc('font', size=16)\n",
    "matplotlib.rc('legend', fontsize=16)\n",
    "matplotlib.rc('legend', numpoints=1)\n",
    "matplotlib.rc('legend', handlelength=1.5)\n",
    "matplotlib.rc('legend', frameon=False)\n",
    "matplotlib.rc('xtick.major', pad=7)\n",
    "matplotlib.rc('xtick.minor', pad=7)\n",
    "matplotlib.rc('text', usetex=True)\n",
    "matplotlib.rc('text.latex', \n",
    "              preamble=[r'\\usepackage[T1]{fontenc}',\n",
    "                        r'\\usepackage{amsmath}',\n",
    "                        r'\\usepackage{txfonts}',\n",
    "                        r'\\usepackage{textcomp}'])\n",
    "\n",
    "matplotlib.rc('figure', figsize=(8, 6))"
   ]
  },
  {
   "cell_type": "code",
   "execution_count": 11,
   "metadata": {},
   "outputs": [
    {
     "name": "stdout",
     "output_type": "stream",
     "text": [
      "0.7919428500788065 43577524322.023315 1319.1959273500063 0.001256832558260507\n"
     ]
    }
   ],
   "source": [
    "sig = 0.34e-9\n",
    "ee = 10.0*(1.602e-22)\n",
    "mm = 39.9e-3/(6.02e23)\n",
    "x0 = 2.0**(1.0/6.) * sig\n",
    "kk = 24. * ee *(26.0 * (sig**12/x0**14) - 7.* sig**6/x0**8)\n",
    "k3 = 24.0* ee* (364. * sig**12/x0**15 - 56. * sig**6/x0**9)\n",
    "vv = np.sqrt(kk * x0*x0/mm)\n",
    "kb = 1.38064852e-23\n",
    "aa = 1.0/x0 *kb*k3/2./kk/kk\n",
    "print(kk, k3, vv, aa)"
   ]
  },
  {
   "cell_type": "code",
   "execution_count": 2,
   "metadata": {},
   "outputs": [],
   "source": [
    "def contorset(dd):\n",
    "    d = dd*2\n",
    "    p = []\n",
    "    for i in range(dd.shape[0]):\n",
    "        for j in range(dd.shape[0]):\n",
    "            p.append(i/(3.0**i))\n",
    "    return np.array(p)"
   ]
  },
  {
   "cell_type": "code",
   "execution_count": 6,
   "metadata": {},
   "outputs": [
    {
     "data": {
      "text/plain": [
       "array([ 1,  2,  3,  4,  5,  6,  7,  8,  9, 10])"
      ]
     },
     "execution_count": 6,
     "metadata": {},
     "output_type": "execute_result"
    }
   ],
   "source": [
    "ff[:10]"
   ]
  },
  {
   "cell_type": "code",
   "execution_count": 3,
   "metadata": {},
   "outputs": [
    {
     "name": "stdout",
     "output_type": "stream",
     "text": [
      "1 1.0\n",
      "8 36.0\n",
      "49 1225.0\n"
     ]
    }
   ],
   "source": [
    "for i in range(1, 100):\n",
    "    p = np.sqrt(i*(i+1)/2)\n",
    "    if p == 1.0*int(p) :\n",
    "        print(i, i*(i+1)/2)"
   ]
  },
  {
   "cell_type": "code",
   "execution_count": 11,
   "metadata": {},
   "outputs": [
    {
     "data": {
      "text/plain": [
       "35.0"
      ]
     },
     "execution_count": 11,
     "metadata": {},
     "output_type": "execute_result"
    }
   ],
   "source": [
    "sqrt(1225)\n"
   ]
  },
  {
   "cell_type": "code",
   "execution_count": 12,
   "metadata": {},
   "outputs": [
    {
     "data": {
      "text/plain": [
       "[<matplotlib.lines.Line2D at 0x1258fb2b0>]"
      ]
     },
     "execution_count": 12,
     "metadata": {},
     "output_type": "execute_result"
    },
    {
     "data": {
      "image/png": "[encoded data removed]",
      "text/plain": [
       "<Figure size 576x432 with 1 Axes>"
      ]
     },
     "metadata": {
      "needs_background": "light"
     },
     "output_type": "display_data"
    }
   ],
   "source": [
    "xx = np.arange(-1.0, 1.0, 0.001)\n",
    "V = 1.0*(xx**2)-0.1*(xx**3)\n",
    "plt.plot(xx, V)"
   ]
  },
  {
   "cell_type": "markdown",
   "metadata": {},
   "source": [
    "Home\n",
    "------\n",
    "# Hi\n",
    "우리나라\n",
    "$$ \\sin (x) + \\cos (x) + \\left[ \\begin{array}{cc} 1 & 2 \\\\ \\alpha & \\beta \\end{array} \\right] $$  "
   ]
  },
  {
   "cell_type": "code",
   "execution_count": 2,
   "metadata": {},
   "outputs": [
    {
     "name": "stdout",
     "output_type": "stream",
     "text": [
      "4 36 288\n",
      "4 40 160\n",
      "4 48 96\n",
      "5 20 32\n",
      "6 9 288\n",
      "6 12 32\n"
     ]
    }
   ],
   "source": [
    "import numpy as np\n",
    "for i in range(1, 400) :\n",
    "    for j in range(i+1, 400) :\n",
    "        for k in range(j+1, 400):\n",
    "            if np.abs(1.0/i + 1.0/j + 1.0/k - 9.0/32.0) < 0.000000001 :\n",
    "                print(i, j, k)"
   ]
  },
  {
   "cell_type": "code",
   "execution_count": 6,
   "metadata": {},
   "outputs": [
    {
     "data": {
      "text/plain": [
       "0.17708333333333334"
      ]
     },
     "execution_count": 6,
     "metadata": {},
     "output_type": "execute_result"
    }
   ],
   "source": [
    "17./96"
   ]
  },
  {
   "cell_type": "code",
   "execution_count": 8,
   "metadata": {},
   "outputs": [
    {
     "data": {
      "text/plain": [
       "0.28125"
      ]
     },
     "execution_count": 8,
     "metadata": {},
     "output_type": "execute_result"
    }
   ],
   "source": [
    "1./4+1.0/48+1.0/96"
   ]
  },
  {
   "cell_type": "code",
   "execution_count": 9,
   "metadata": {},
   "outputs": [
    {
     "data": {
      "text/plain": [
       "0.28125"
      ]
     },
     "execution_count": 9,
     "metadata": {},
     "output_type": "execute_result"
    }
   ],
   "source": [
    "9./32"
   ]
  },
  {
   "cell_type": "code",
   "execution_count": 10,
   "metadata": {},
   "outputs": [
    {
     "data": {
      "text/plain": [
       "0.28125"
      ]
     },
     "execution_count": 10,
     "metadata": {},
     "output_type": "execute_result"
    }
   ],
   "source": [
    "1./5 + 1./20 + 1./32"
   ]
  },
  {
   "cell_type": "code",
   "execution_count": 11,
   "metadata": {},
   "outputs": [
    {
     "data": {
      "text/plain": [
       "0.28125"
      ]
     },
     "execution_count": 11,
     "metadata": {},
     "output_type": "execute_result"
    }
   ],
   "source": [
    "1./6 + 1./12 + 1./32"
   ]
  },
  {
   "cell_type": "code",
   "execution_count": 2,
   "metadata": {},
   "outputs": [
    {
     "name": "stdout",
     "output_type": "stream",
     "text": [
      "blue is my favorite color, blue is not your favorite color\n"
     ]
    }
   ],
   "source": [
    "fav_color = \"red is my favorite color, red is not your favorite color\"\n",
    "fav_color = fav_color.replace(\"red\", \"blue\")\n",
    "print(fav_color)"
   ]
  },
  {
   "cell_type": "code",
   "execution_count": 1,
   "metadata": {},
   "outputs": [
    {
     "data": {
      "text/plain": [
       "'/Users/jiyong/development/jupyternotebook'"
      ]
     },
     "execution_count": 1,
     "metadata": {},
     "output_type": "execute_result"
    }
   ],
   "source": [
    "%pwd"
   ]
  },
  {
   "cell_type": "code",
   "execution_count": null,
   "metadata": {},
   "outputs": [],
   "source": []
  }
 ],
 "metadata": {
  "kernelspec": {
   "display_name": "Python 3",
   "language": "python",
   "name": "python3"
  },
  "language_info": {
   "codemirror_mode": {
    "name": "ipython",
    "version": 3
   },
   "file_extension": ".py",
   "mimetype": "text/x-python",
   "name": "python",
   "nbconvert_exporter": "python",
   "pygments_lexer": "ipython3",
   "version": "3.8.5"
  }
 },
 "nbformat": 4,
 "nbformat_minor": 4
}
