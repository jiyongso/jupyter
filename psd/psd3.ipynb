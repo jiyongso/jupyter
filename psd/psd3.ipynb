{
 "cells": [
  {
   "cell_type": "code",
   "execution_count": 1,
   "id": "recovered-governor",
   "metadata": {},
   "outputs": [],
   "source": [
    "%matplotlib inline\n",
    "#%matplotlib notebook\n",
    "#%matplotlib widget\n",
    "import matplotlib \n",
    "import numpy as np\n",
    "import pandas as pd\n",
    "import os, sys, time, pickle\n",
    "#import ipywidgets\n",
    "from mpl_toolkits.mplot3d import Axes3D\n",
    "import matplotlib.pyplot as plt\n",
    "from matplotlib import cm\n",
    "from matplotlib.ticker import LinearLocator, FormatStrFormatter\n",
    "from mpl_toolkits.mplot3d.art3d import Poly3DCollection    \n",
    "\n",
    "from scipy import optimize\n",
    "# use LaTeX, choose nice some looking fonts and tweak some settings\n",
    "matplotlib.rc('font', family='serif')\n",
    "matplotlib.rc('font', size=16)\n",
    "matplotlib.rc('legend', fontsize=16)\n",
    "matplotlib.rc('legend', numpoints=1)\n",
    "matplotlib.rc('legend', handlelength=1.5)\n",
    "matplotlib.rc('legend', frameon=True)\n",
    "matplotlib.rc('xtick.major', pad=7)\n",
    "matplotlib.rc('xtick.minor', pad=7)\n",
    "matplotlib.rc('text', usetex=True)\n",
    "# matplotlib.rc('text.latex', \n",
    "#               preamble=[r'\\usepackage[T1]{fontenc}',\n",
    "#                         r'\\usepackage{amsmath}',\n",
    "#                         r'\\usepackage{txfonts}',\n",
    "#                         r'\\usepackage{textcomp}'])\n",
    "\n",
    "matplotlib.rc('figure', figsize=(12, 9))\n",
    "\n",
    "#plt.style.use([\"default\"])\n"
   ]
  },
  {
   "cell_type": "code",
   "execution_count": 8,
   "id": "reliable-economics",
   "metadata": {},
   "outputs": [],
   "source": [
    "psddatafolder = r\"/home/jiyongso/mydocs/psddata/FILTERED\"\n",
    "psddatafolder2 = r\"/home/jiyongso/mydocs/psddata\"\n",
    "\n",
    "# psd = pd.read_pickle(os.path.join(psddatafolder, \"ch2data_2.pkl\"))\n",
    "# psd.columns=[\"TimeTag\"]+list(np.arange(168))\n",
    "\n",
    "# # # 앞으로 데이터 해석하는데 필요할 backgroun와  maximum value 를 column으로 채워 넣음.\n",
    "# bgval = psd.loc[:, 5:35].apply(np.mean, axis=1)\n",
    "# bgstd = psd.loc[:, 5:35].apply(np.std, axis=1)\n",
    "# psd.insert(loc=1, column = \"BgVal\", value=bgval)\n",
    "# psd.insert(loc=2, column = \"BgStd\", value=bgstd)\n",
    "# psd.insert(loc=3, column = \"MaxIndex\", value=psd.loc[:, 0:100].apply(np.argmax, axis=1))\n",
    "# psd.insert(loc=4, column = \"MaxVal\", value = psd.loc[:, 0:100].apply(np.max, axis=1))\n",
    "\n",
    "# psd.sort_values(\"MaxVal\", ascending=False, inplace=True)\n",
    "\n",
    "# psd.to_pickle(os.path.join(psddatafolder, \"ch2data_3.pkl\"))\n",
    "\n",
    "psd = pd.read_pickle(os.path.join(psddatafolder, \"ch2data_3.pkl\"))"
   ]
  },
  {
   "cell_type": "code",
   "execution_count": 3,
   "id": "regular-toddler",
   "metadata": {},
   "outputs": [],
   "source": [
    "def smoothstep(x, a, b, c, d):\n",
    "    return a/(1.0+np.exp(-b*((x-c))))+d\n",
    "\n",
    "def residual(p, x, y):\n",
    "    return y-smoothstep(x, p[0], p[1], p[2], p[3])"
   ]
  },
  {
   "cell_type": "code",
   "execution_count": 12,
   "id": "decreased-italy",
   "metadata": {},
   "outputs": [],
   "source": [
    "smoothfitting=pickle.load(open(os.path.join(psddatafolder2, \"smoothstepfit.pkl\"), \"rb\"))"
   ]
  },
  {
   "cell_type": "code",
   "execution_count": 14,
   "id": "linear-vancouver",
   "metadata": {},
   "outputs": [],
   "source": [
    "smf1=[a[0] for a in smoothfitting]\n",
    "smf2=[a[1][0] for a in smoothfitting]\n",
    "smf3=[a[1][1] for a in smoothfitting]\n",
    "smf = pd.DataFrame(data = smf2, index = smf1, columns = (\"a\", \"b\", \"c\", \"d\"))\n",
    "smf.insert(loc = 4, column = \"pcov\", value = smf3 )"
   ]
  },
  {
   "cell_type": "code",
   "execution_count": 53,
   "id": "athletic-antibody",
   "metadata": {},
   "outputs": [],
   "source": [
    "smf2=smf[smf[\"pcov\"]<3]"
   ]
  },
  {
   "cell_type": "code",
   "execution_count": 54,
   "id": "executed-effect",
   "metadata": {},
   "outputs": [
    {
     "data": {
      "text/plain": [
       "((2214847, 5), (2208173, 5))"
      ]
     },
     "execution_count": 54,
     "metadata": {},
     "output_type": "execute_result"
    }
   ],
   "source": [
    "smf.shape, smf2.shape"
   ]
  },
  {
   "cell_type": "code",
   "execution_count": 60,
   "id": "swedish-gothic",
   "metadata": {},
   "outputs": [
    {
     "data": {
      "text/plain": [
       "(-1.2716103834618862, 1.5054796216865107)"
      ]
     },
     "execution_count": 60,
     "metadata": {},
     "output_type": "execute_result"
    },
    {
     "data": {
      "image/png": "[encoded data removed]",
      "text/plain": [
       "<Figure size 864x648 with 1 Axes>"
      ]
     },
     "metadata": {
      "needs_background": "light"
     },
     "output_type": "display_data"
    }
   ],
   "source": [
    "plt.hist2d(smf2[\"a\"], smf2[\"c\"], bins=[100, 100], norm=matplotlib.colors.LogNorm())\n",
    "smf2[\"b\"].min(), smf2[\"b\"].max()\n",
    "#plt.yscale('log')"
   ]
  },
  {
   "cell_type": "code",
   "execution_count": 44,
   "id": "fixed-scratch",
   "metadata": {},
   "outputs": [],
   "source": [
    "smf2=smf[smf[\"pcov\"]!=1]"
   ]
  },
  {
   "cell_type": "code",
   "execution_count": 46,
   "id": "mineral-chassis",
   "metadata": {},
   "outputs": [
    {
     "data": {
      "text/plain": [
       "Int64Index([ 923588, 1112146, 1155055,  277712,  150737, 1126010,  600708,\n",
       "            1876070,  919528,  693995,\n",
       "            ...\n",
       "            1269735,  155522, 1786424,  228147,  359768,  278691, 2046000,\n",
       "            1464023, 2039438,  516436],\n",
       "           dtype='int64', length=6688)"
      ]
     },
     "execution_count": 46,
     "metadata": {},
     "output_type": "execute_result"
    }
   ],
   "source": [
    "smf2.index"
   ]
  },
  {
   "cell_type": "code",
   "execution_count": 50,
   "id": "mobile-balloon",
   "metadata": {},
   "outputs": [
    {
     "data": {
      "text/plain": [
       "Text(0.5, 1.0, 'Peak ID= 1112146')"
      ]
     },
     "execution_count": 50,
     "metadata": {},
     "output_type": "execute_result"
    },
    {
     "data": {
      "image/png": "[encoded data removed]",
      "text/plain": [
       "<Figure size 864x648 with 1 Axes>"
      ]
     },
     "metadata": {
      "needs_background": "light"
     },
     "output_type": "display_data"
    }
   ],
   "source": [
    "peakid = smf2.index[1]\n",
    "\n",
    "maxind = psd.loc[peakid][\"MaxIndex\"]\n",
    "yy = psd.loc[peakid, 5:int(maxind)]\n",
    "xx = np.arange(yy.shape[0])\n",
    "x2 = np.arange(yy.shape[0]+4)\n",
    "plt.plot(xx, yy, 'bo', label=\"data ID = \"+str(peakid))\n",
    "popt = smf2.loc[peakid][\"a\":\"d\"]\n",
    "plt.plot(x2, smoothstep(x2, popt[0], popt[1], popt[2], popt[3]), \n",
    "              'r-', label=\"smooth step function, b= %5.3f, c=%5.3f\"%(popt[1], popt[2]))\n",
    "plt.title(\"Peak ID= %d\"%peakid)"
   ]
  },
  {
   "cell_type": "code",
   "execution_count": 56,
   "id": "electrical-therapy",
   "metadata": {},
   "outputs": [
    {
     "data": {
      "text/html": [
       "<div>\n",
       "<style scoped>\n",
       "    .dataframe tbody tr th:only-of-type {\n",
       "        vertical-align: middle;\n",
       "    }\n",
       "\n",
       "    .dataframe tbody tr th {\n",
       "        vertical-align: top;\n",
       "    }\n",
       "\n",
       "    .dataframe thead th {\n",
       "        text-align: right;\n",
       "    }\n",
       "</style>\n",
       "<table border=\"1\" class=\"dataframe\">\n",
       "  <thead>\n",
       "    <tr style=\"text-align: right;\">\n",
       "      <th></th>\n",
       "      <th>a</th>\n",
       "      <th>b</th>\n",
       "      <th>c</th>\n",
       "      <th>d</th>\n",
       "      <th>pcov</th>\n",
       "    </tr>\n",
       "  </thead>\n",
       "  <tbody>\n",
       "    <tr>\n",
       "      <th>1860390</th>\n",
       "      <td>16301.094952</td>\n",
       "      <td>0.750537</td>\n",
       "      <td>48.835029</td>\n",
       "      <td>18.211637</td>\n",
       "      <td>1</td>\n",
       "    </tr>\n",
       "    <tr>\n",
       "      <th>570282</th>\n",
       "      <td>16361.629514</td>\n",
       "      <td>0.752985</td>\n",
       "      <td>49.400993</td>\n",
       "      <td>17.437039</td>\n",
       "      <td>1</td>\n",
       "    </tr>\n",
       "    <tr>\n",
       "      <th>2101019</th>\n",
       "      <td>16327.357913</td>\n",
       "      <td>0.758191</td>\n",
       "      <td>49.183594</td>\n",
       "      <td>18.886747</td>\n",
       "      <td>1</td>\n",
       "    </tr>\n",
       "    <tr>\n",
       "      <th>834923</th>\n",
       "      <td>16274.947312</td>\n",
       "      <td>0.703964</td>\n",
       "      <td>48.820684</td>\n",
       "      <td>14.169858</td>\n",
       "      <td>1</td>\n",
       "    </tr>\n",
       "    <tr>\n",
       "      <th>1282169</th>\n",
       "      <td>16308.903630</td>\n",
       "      <td>0.717990</td>\n",
       "      <td>48.932323</td>\n",
       "      <td>17.300834</td>\n",
       "      <td>1</td>\n",
       "    </tr>\n",
       "    <tr>\n",
       "      <th>...</th>\n",
       "      <td>...</td>\n",
       "      <td>...</td>\n",
       "      <td>...</td>\n",
       "      <td>...</td>\n",
       "      <td>...</td>\n",
       "    </tr>\n",
       "    <tr>\n",
       "      <th>736831</th>\n",
       "      <td>107.828309</td>\n",
       "      <td>0.754709</td>\n",
       "      <td>39.448431</td>\n",
       "      <td>16.834286</td>\n",
       "      <td>1</td>\n",
       "    </tr>\n",
       "    <tr>\n",
       "      <th>481238</th>\n",
       "      <td>109.968471</td>\n",
       "      <td>0.873253</td>\n",
       "      <td>40.224196</td>\n",
       "      <td>17.453585</td>\n",
       "      <td>1</td>\n",
       "    </tr>\n",
       "    <tr>\n",
       "      <th>649223</th>\n",
       "      <td>104.682310</td>\n",
       "      <td>0.825006</td>\n",
       "      <td>38.687430</td>\n",
       "      <td>17.929585</td>\n",
       "      <td>1</td>\n",
       "    </tr>\n",
       "    <tr>\n",
       "      <th>815433</th>\n",
       "      <td>99.765151</td>\n",
       "      <td>0.766590</td>\n",
       "      <td>38.185249</td>\n",
       "      <td>18.287050</td>\n",
       "      <td>1</td>\n",
       "    </tr>\n",
       "    <tr>\n",
       "      <th>457420</th>\n",
       "      <td>118.460318</td>\n",
       "      <td>0.652038</td>\n",
       "      <td>40.374058</td>\n",
       "      <td>18.063201</td>\n",
       "      <td>1</td>\n",
       "    </tr>\n",
       "  </tbody>\n",
       "</table>\n",
       "<p>2208173 rows × 5 columns</p>\n",
       "</div>"
      ],
      "text/plain": [
       "                    a         b          c          d  pcov\n",
       "1860390  16301.094952  0.750537  48.835029  18.211637     1\n",
       "570282   16361.629514  0.752985  49.400993  17.437039     1\n",
       "2101019  16327.357913  0.758191  49.183594  18.886747     1\n",
       "834923   16274.947312  0.703964  48.820684  14.169858     1\n",
       "1282169  16308.903630  0.717990  48.932323  17.300834     1\n",
       "...               ...       ...        ...        ...   ...\n",
       "736831     107.828309  0.754709  39.448431  16.834286     1\n",
       "481238     109.968471  0.873253  40.224196  17.453585     1\n",
       "649223     104.682310  0.825006  38.687430  17.929585     1\n",
       "815433      99.765151  0.766590  38.185249  18.287050     1\n",
       "457420     118.460318  0.652038  40.374058  18.063201     1\n",
       "\n",
       "[2208173 rows x 5 columns]"
      ]
     },
     "execution_count": 56,
     "metadata": {},
     "output_type": "execute_result"
    }
   ],
   "source": [
    "smf2"
   ]
  },
  {
   "cell_type": "code",
   "execution_count": 78,
   "id": "announced-congress",
   "metadata": {},
   "outputs": [
    {
     "name": "stderr",
     "output_type": "stream",
     "text": [
      "<ipython-input-28-18bfd92f329c>:2: RuntimeWarning: overflow encountered in exp\n",
      "  return a/(1.0+np.exp(-b*((x-c))))+d\n"
     ]
    },
    {
     "data": {
      "text/plain": [
       "Text(0.5, 1.0, 'Peak ID = 1564216')"
      ]
     },
     "execution_count": 78,
     "metadata": {},
     "output_type": "execute_result"
    },
    {
     "data": {
      "image/png": "[encoded data removed]",
      "text/plain": [
       "<Figure size 864x648 with 1 Axes>"
      ]
     },
     "metadata": {
      "needs_background": "light"
     },
     "output_type": "display_data"
    }
   ],
   "source": [
    "indd=1564216\n",
    "psd.loc[indd, 0:150].plot()\n",
    "xx=np.arange(0, 150)\n",
    "plt.plot(xx, smoothstep(xx-5, smf.at[indd, \"a\"],smf.at[indd, \"b\"], smf.at[indd, \"c\"], smf.at[indd, \"d\"] ))\n",
    "plt.title(\"Peak ID = %d\"%indd)"
   ]
  },
  {
   "cell_type": "code",
   "execution_count": 69,
   "id": "unique-homework",
   "metadata": {},
   "outputs": [],
   "source": [
    "ssm = smf[smf[\"pcov\"]==1]\n",
    "ssm = ssm[ssm[\"b\"]>0.0]"
   ]
  },
  {
   "cell_type": "code",
   "execution_count": 71,
   "id": "given-happening",
   "metadata": {},
   "outputs": [
    {
     "data": {
      "text/plain": [
       "(21.83723173119004, 0.07697669414112662)"
      ]
     },
     "execution_count": 71,
     "metadata": {},
     "output_type": "execute_result"
    }
   ],
   "source": [
    "ssm[\"b\"].max(), ssm[\"b\"].min()"
   ]
  },
  {
   "cell_type": "code",
   "execution_count": 81,
   "id": "parliamentary-socket",
   "metadata": {},
   "outputs": [
    {
     "data": {
      "text/plain": [
       "Text(0.5, 1.0, 'Peak ID = 1564216')"
      ]
     },
     "execution_count": 81,
     "metadata": {},
     "output_type": "execute_result"
    },
    {
     "data": {
      "image/png": "[encoded data removed]",
      "text/plain": [
       "<Figure size 864x648 with 1 Axes>"
      ]
     },
     "metadata": {
      "needs_background": "light"
     },
     "output_type": "display_data"
    }
   ],
   "source": [
    "peakid = 1953358\n",
    "maxind = psd.loc[peakid][\"MaxIndex\"]\n",
    "p0 = [15000., 0.6, maxind-5, 2.0]\n",
    "yy = psd.loc[peakid, 5:int(maxind)]\n",
    "xx = np.arange(yy.shape[0])\n",
    "popt, pcov = optimize.leastsq(residual, p0, args=(xx, yy))\n",
    "psd.loc[peakid, 0:150].plot()\n",
    "xx=np.arange(0, 150)\n",
    "plt.plot(xx, smoothstep(xx-5, popt[0], popt[1], popt[2], popt[3]))\n",
    "plt.title(\"Peak ID = %d\"%indd)"
   ]
  },
  {
   "cell_type": "code",
   "execution_count": 74,
   "id": "minute-attribute",
   "metadata": {},
   "outputs": [],
   "source": [
    "smm = smf[smf[\"pcov\"]!=1]"
   ]
  },
  {
   "cell_type": "code",
   "execution_count": 76,
   "id": "cleared-letter",
   "metadata": {},
   "outputs": [
    {
     "data": {
      "text/html": [
       "<div>\n",
       "<style scoped>\n",
       "    .dataframe tbody tr th:only-of-type {\n",
       "        vertical-align: middle;\n",
       "    }\n",
       "\n",
       "    .dataframe tbody tr th {\n",
       "        vertical-align: top;\n",
       "    }\n",
       "\n",
       "    .dataframe thead th {\n",
       "        text-align: right;\n",
       "    }\n",
       "</style>\n",
       "<table border=\"1\" class=\"dataframe\">\n",
       "  <thead>\n",
       "    <tr style=\"text-align: right;\">\n",
       "      <th></th>\n",
       "      <th>a</th>\n",
       "      <th>b</th>\n",
       "      <th>c</th>\n",
       "      <th>d</th>\n",
       "      <th>pcov</th>\n",
       "    </tr>\n",
       "  </thead>\n",
       "  <tbody>\n",
       "    <tr>\n",
       "      <th>570282</th>\n",
       "      <td>16361.629460</td>\n",
       "      <td>0.752985</td>\n",
       "      <td>49.400993</td>\n",
       "      <td>17.437042</td>\n",
       "      <td>3</td>\n",
       "    </tr>\n",
       "    <tr>\n",
       "      <th>1147171</th>\n",
       "      <td>16353.449366</td>\n",
       "      <td>0.752827</td>\n",
       "      <td>48.553760</td>\n",
       "      <td>19.023744</td>\n",
       "      <td>3</td>\n",
       "    </tr>\n",
       "    <tr>\n",
       "      <th>2182220</th>\n",
       "      <td>16356.024394</td>\n",
       "      <td>0.729612</td>\n",
       "      <td>49.358350</td>\n",
       "      <td>17.684877</td>\n",
       "      <td>3</td>\n",
       "    </tr>\n",
       "    <tr>\n",
       "      <th>1919834</th>\n",
       "      <td>16329.155002</td>\n",
       "      <td>0.740419</td>\n",
       "      <td>48.558111</td>\n",
       "      <td>19.397357</td>\n",
       "      <td>3</td>\n",
       "    </tr>\n",
       "    <tr>\n",
       "      <th>807376</th>\n",
       "      <td>16266.541872</td>\n",
       "      <td>0.754041</td>\n",
       "      <td>48.543732</td>\n",
       "      <td>17.634802</td>\n",
       "      <td>3</td>\n",
       "    </tr>\n",
       "    <tr>\n",
       "      <th>...</th>\n",
       "      <td>...</td>\n",
       "      <td>...</td>\n",
       "      <td>...</td>\n",
       "      <td>...</td>\n",
       "      <td>...</td>\n",
       "    </tr>\n",
       "    <tr>\n",
       "      <th>1564216</th>\n",
       "      <td>-264481.956210</td>\n",
       "      <td>-19.793859</td>\n",
       "      <td>-3537.416423</td>\n",
       "      <td>27.590909</td>\n",
       "      <td>3</td>\n",
       "    </tr>\n",
       "    <tr>\n",
       "      <th>725161</th>\n",
       "      <td>-100802.188859</td>\n",
       "      <td>-22.301583</td>\n",
       "      <td>-1213.241771</td>\n",
       "      <td>25.750000</td>\n",
       "      <td>3</td>\n",
       "    </tr>\n",
       "    <tr>\n",
       "      <th>1953358</th>\n",
       "      <td>-78727.834079</td>\n",
       "      <td>-24.930922</td>\n",
       "      <td>-868.364339</td>\n",
       "      <td>25.681818</td>\n",
       "      <td>2</td>\n",
       "    </tr>\n",
       "    <tr>\n",
       "      <th>481324</th>\n",
       "      <td>-65175.976730</td>\n",
       "      <td>-42.406410</td>\n",
       "      <td>-472.148644</td>\n",
       "      <td>26.931818</td>\n",
       "      <td>3</td>\n",
       "    </tr>\n",
       "    <tr>\n",
       "      <th>481238</th>\n",
       "      <td>-263364.250149</td>\n",
       "      <td>-23.214016</td>\n",
       "      <td>-3513.776682</td>\n",
       "      <td>25.795455</td>\n",
       "      <td>3</td>\n",
       "    </tr>\n",
       "  </tbody>\n",
       "</table>\n",
       "<p>57548 rows × 5 columns</p>\n",
       "</div>"
      ],
      "text/plain": [
       "                     a          b            c          d  pcov\n",
       "570282    16361.629460   0.752985    49.400993  17.437042     3\n",
       "1147171   16353.449366   0.752827    48.553760  19.023744     3\n",
       "2182220   16356.024394   0.729612    49.358350  17.684877     3\n",
       "1919834   16329.155002   0.740419    48.558111  19.397357     3\n",
       "807376    16266.541872   0.754041    48.543732  17.634802     3\n",
       "...                ...        ...          ...        ...   ...\n",
       "1564216 -264481.956210 -19.793859 -3537.416423  27.590909     3\n",
       "725161  -100802.188859 -22.301583 -1213.241771  25.750000     3\n",
       "1953358  -78727.834079 -24.930922  -868.364339  25.681818     2\n",
       "481324   -65175.976730 -42.406410  -472.148644  26.931818     3\n",
       "481238  -263364.250149 -23.214016 -3513.776682  25.795455     3\n",
       "\n",
       "[57548 rows x 5 columns]"
      ]
     },
     "execution_count": 76,
     "metadata": {},
     "output_type": "execute_result"
    }
   ],
   "source": [
    "smm"
   ]
  },
  {
   "cell_type": "code",
   "execution_count": 1,
   "id": "electoral-testimony",
   "metadata": {},
   "outputs": [
    {
     "ename": "SyntaxError",
     "evalue": "invalid syntax (<ipython-input-1-d45b5e30eb23>, line 1)",
     "output_type": "error",
     "traceback": [
      "\u001b[0;36m  File \u001b[0;32m\"<ipython-input-1-d45b5e30eb23>\"\u001b[0;36m, line \u001b[0;32m1\u001b[0m\n\u001b[0;31m    2+#\u001b[0m\n\u001b[0m      ^\u001b[0m\n\u001b[0;31mSyntaxError\u001b[0m\u001b[0;31m:\u001b[0m invalid syntax\n"
     ]
    }
   ],
   "source": [
    "2+#"
   ]
  },
  {
   "cell_type": "code",
   "execution_count": 2,
   "id": "drawn-logan",
   "metadata": {},
   "outputs": [
    {
     "data": {
      "text/plain": [
       "5"
      ]
     },
     "execution_count": 2,
     "metadata": {},
     "output_type": "execute_result"
    }
   ],
   "source": [
    "2+3"
   ]
  },
  {
   "cell_type": "code",
   "execution_count": null,
   "id": "completed-independence",
   "metadata": {},
   "outputs": [],
   "source": []
  }
 ],
 "metadata": {
  "kernelspec": {
   "display_name": "Python 3",
   "language": "python",
   "name": "python3"
  },
  "language_info": {
   "codemirror_mode": {
    "name": "ipython",
    "version": 3
   },
   "file_extension": ".py",
   "mimetype": "text/x-python",
   "name": "python",
   "nbconvert_exporter": "python",
   "pygments_lexer": "ipython3",
   "version": "3.8.8"
  }
 },
 "nbformat": 4,
 "nbformat_minor": 5
}
