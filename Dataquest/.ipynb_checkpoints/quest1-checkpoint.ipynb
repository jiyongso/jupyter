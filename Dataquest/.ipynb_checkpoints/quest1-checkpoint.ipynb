{
 "cells": [
  {
   "cell_type": "code",
   "execution_count": 2,
   "metadata": {},
   "outputs": [],
   "source": [
    "%reload_ext autoreload\n",
    "%autoreload 2\n",
    "import numpy as np\n",
    "import pandas as pd\n",
    "import matplotlib.pyplot as plt\n",
    "import matplotlib as mpl\n",
    "mpl.rcParams['figure.figsize'] = (10,10)\n",
    "import csv"
   ]
  },
  {
   "cell_type": "code",
   "execution_count": 17,
   "metadata": {},
   "outputs": [],
   "source": [
    "data = {\"id\": None, \"title\": None, \"url\": None, \"num_points\": None, \"num_comments\": None, \n",
    "        \"author\": None, \"created_at\": None}\n",
    "datas = []"
   ]
  },
  {
   "cell_type": "code",
   "execution_count": 19,
   "metadata": {},
   "outputs": [],
   "source": [
    "with open('HN_posts_year_to_Sep_26_2016.csv', 'r', encoding='utf-8') as f :\n",
    "    f.readline()\n",
    "    for line in f :\n",
    "        q = line.split(\",\")\n",
    "        datas.append({\"id\": q[0], \"title\": q[1], \"url\": q[2], \"num_points\": q[3], \"num_comments\": q[4], \n",
    "        \"author\": q[5], \"created_at\": q[6]})"
   ]
  },
  {
   "cell_type": "code",
   "execution_count": 20,
   "metadata": {},
   "outputs": [
    {
     "data": {
      "text/plain": [
       "{'id': '12579008,You',\n",
       " 'title': 'have',\n",
       " 'url': 'two',\n",
       " 'num_points': 'days',\n",
       " 'num_comments': 'to',\n",
       " 'author': 'comment',\n",
       " 'created_at': 'if'}"
      ]
     },
     "execution_count": 20,
     "metadata": {},
     "output_type": "execute_result"
    }
   ],
   "source": [
    "datas[0]"
   ]
  },
  {
   "cell_type": "code",
   "execution_count": 13,
   "metadata": {},
   "outputs": [
    {
     "data": {
      "text/plain": [
       "'12579008,You have two days to comment if you want stem cells to be classified as your own,http://www.regulations.gov/document?D=FDA-2015-D-3719-0018,1,0,altstar,9/26/2016 3:26\\n'"
      ]
     },
     "execution_count": 13,
     "metadata": {},
     "output_type": "execute_result"
    }
   ],
   "source": [
    "f.readline()"
   ]
  },
  {
   "cell_type": "code",
   "execution_count": null,
   "metadata": {},
   "outputs": [],
   "source": []
  }
 ],
 "metadata": {
  "kernelspec": {
   "display_name": "Python 3",
   "language": "python",
   "name": "python3"
  },
  "language_info": {
   "codemirror_mode": {
    "name": "ipython",
    "version": 3
   },
   "file_extension": ".py",
   "mimetype": "text/x-python",
   "name": "python",
   "nbconvert_exporter": "python",
   "pygments_lexer": "ipython3",
   "version": "3.7.3"
  }
 },
 "nbformat": 4,
 "nbformat_minor": 2
}
