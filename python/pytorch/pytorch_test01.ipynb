{
 "cells": [
  {
   "cell_type": "code",
   "execution_count": 1,
   "id": "e68359aa-c950-441e-9b05-e578a9ad2d9d",
   "metadata": {},
   "outputs": [],
   "source": [
    "%matplotlib inline\n",
    "\n",
    "%load_ext autoreload\n",
    "%autoreload 2\n",
    "\n",
    "#%matplotlib notebook\n",
    "#%matplotlib widget\n",
    "import matplotlib \n",
    "import numpy as np\n",
    "import pandas as pd\n",
    "import os, sys, time, random\n",
    "#import ipywidgets\n",
    "from mpl_toolkits.mplot3d import Axes3D\n",
    "import matplotlib.pyplot as plt\n",
    "from matplotlib import cm\n",
    "from matplotlib.ticker import LinearLocator, FormatStrFormatter\n",
    "from mpl_toolkits.mplot3d.art3d import Poly3DCollection    \n",
    " \n",
    "# use LaTeX, choose nice some looking fonts and tweak some settings\n",
    "matplotlib.rc('font', family='serif')\n",
    "matplotlib.rc('font', size=16)\n",
    "matplotlib.rc('legend', fontsize=16)\n",
    "matplotlib.rc('legend', numpoints=1)\n",
    "matplotlib.rc('legend', handlelength=1.5)\n",
    "matplotlib.rc('legend', frameon=True)\n",
    "matplotlib.rc('xtick.major', pad=7)\n",
    "matplotlib.rc('xtick', direction=\"in\")\n",
    "matplotlib.rc('ytick', direction=\"in\")\n",
    "matplotlib.rc('xtick', top = True)\n",
    "matplotlib.rc('ytick', right =True )\n",
    "matplotlib.rc('xtick.minor', pad=7)\n",
    "matplotlib.rc('text', usetex=True)\n",
    "# matplotlib.rc('text.latex', \n",
    "#               preamble=[r'\\usepackage[T1]{fontenc}',\n",
    "#                         r'\\usepackage{amsmath}',\n",
    "#                         r'\\usepackage{txfonts}',\n",
    "#                         r'\\usepackage{textcomp}'])\n",
    "\n",
    "matplotlib.rc('figure', figsize=(12, 9))\n",
    "\n",
    "import torch\n",
    "import torch.nn as nn\n",
    "import torch.nn.functional as F\n",
    "import torch.optim as optim\n",
    "device = torch.device('cuda:0')"
   ]
  },
  {
   "cell_type": "code",
   "execution_count": 20,
   "id": "f0fd1089-b9f9-404c-a5a4-d02deb59d8d8",
   "metadata": {},
   "outputs": [
    {
     "name": "stdout",
     "output_type": "stream",
     "text": [
      "False True\n"
     ]
    }
   ],
   "source": [
    "# Tensor 를 CPU 혹은 GPU 에 위치시키가. \n",
    "a=torch.tensor([1,2,3,4])\n",
    "b=torch.tensor([[1,2],[3,4.]], device=device)\n",
    "print(a.is_cuda, b.is_cuda)"
   ]
  },
  {
   "cell_type": "code",
   "execution_count": 58,
   "id": "ed291f3e-5856-4c63-86e9-0d13d301997d",
   "metadata": {},
   "outputs": [],
   "source": [
    "# GPU 와 CPU 의 에서의 난수행렬 생성 및 행렬곱 계산\n",
    "\n",
    "def cpu_matrix_mult():\n",
    "    #t0 = time.time()\n",
    "    matrix_c1 = torch.rand((1000, 1000))\n",
    "    matrix_c2 = torch.rand((1000, 1000))\n",
    "    matrix_c3 = matrix_c1@matrix_c2\n",
    "    #print(time.time()-t0, \"secs for matrix multiplication\")\n",
    "    return matrix_c3\n",
    "\n",
    "def gpu_matrix_mult():\n",
    "    #t0=time.time()\n",
    "    matrix_g1 = torch.rand((1000, 1000), device = device)\n",
    "    matrix_g2 = torch.rand((1000, 1000), device = device)\n",
    "    matrix_g3 = matrix_g1 @ matrix_g2\n",
    "    return matrix_g3\n",
    "\n",
    "def gpu_matrix_mult_from_numpy():\n",
    "    d1 = np.random.random((1000, 1000))\n",
    "    d2 = np.random.random((1000, 1000))\n",
    "    xd1 = torch.from_numpy(d1).float().to(device)\n",
    "    xd2 = torch.from_numpy(d2).float().to(device)\n",
    "    xd3 = xd1@xd2\n",
    "    return xd3\n",
    "    "
   ]
  },
  {
   "cell_type": "code",
   "execution_count": 59,
   "id": "00646263-2d35-4b29-900b-c426e574dd0a",
   "metadata": {},
   "outputs": [
    {
     "name": "stdout",
     "output_type": "stream",
     "text": [
      "17.1 ms ± 13.1 µs per loop (mean ± std. dev. of 7 runs, 100 loops each)\n",
      "87.9 µs ± 171 ns per loop (mean ± std. dev. of 7 runs, 10000 loops each)\n",
      "11.9 ms ± 64.1 µs per loop (mean ± std. dev. of 7 runs, 100 loops each)\n"
     ]
    }
   ],
   "source": [
    "%timeit cpu_matrix_mult()\n",
    "%timeit gpu_matrix_mult()\n",
    "%timeit gpu_matrix_mult_from_numpy()"
   ]
  },
  {
   "cell_type": "code",
   "execution_count": 66,
   "id": "c017573b-07da-441f-8d08-2485ea1252f9",
   "metadata": {},
   "outputs": [
    {
     "name": "stdout",
     "output_type": "stream",
     "text": [
      "3.33 ms ± 19.4 µs per loop (mean ± std. dev. of 7 runs, 100 loops each)\n",
      "2.93 ms ± 4.88 µs per loop (mean ± std. dev. of 7 runs, 100 loops each)\n",
      "4.94 µs ± 46.9 ns per loop (mean ± std. dev. of 7 runs, 100000 loops each)\n"
     ]
    }
   ],
   "source": [
    "# 1000 X 1000 난수행렬 생성 소요 시간.\n",
    "# GPU 상의 torch로 생성하는것이 CPU 상의 torch로 생성하는 것보다 590 배 가량 빠르며 numpy를 \n",
    "# 사용하는 것보다 670배 정도 빠르다.\n",
    "\n",
    "%timeit np.random.random((1000, 1000))\n",
    "%timeit torch.rand((1000, 1000))\n",
    "%timeit torch.rand((1000, 1000), device=device)"
   ]
  },
  {
   "cell_type": "code",
   "execution_count": 72,
   "id": "b4124644-dd09-4501-b434-029f0f3b1ef4",
   "metadata": {},
   "outputs": [
    {
     "name": "stdout",
     "output_type": "stream",
     "text": [
      "3.3 ms ± 11.3 µs per loop (mean ± std. dev. of 7 runs, 100 loops each)\n",
      "1.42 ms ± 7.06 µs per loop (mean ± std. dev. of 7 runs, 1000 loops each)\n",
      "75.7 µs ± 307 ns per loop (mean ± std. dev. of 7 runs, 10000 loops each)\n"
     ]
    }
   ],
   "source": [
    "# 1000 X 1000 난수 행렬곱 계산 시간\n",
    "# GPU 상의 torch로 계산하는 것이 CPU 상의 torch 로 계산하는 것보다 19배 정도 빠르고, numpy\n",
    "# 를 사용하는 것보다 44배 정도 빠르다.\n",
    "\n",
    "n1, n2 = np.random.random((1000, 1000)), np.random.random((1000, 1000))\n",
    "%timeit n1@n2\n",
    "\n",
    "m1 = torch.rand((1000, 1000))\n",
    "m2 = torch.rand((1000, 1000))\n",
    "%timeit m1@m2\n",
    "\n",
    "m3, m4 = torch.rand((1000, 1000), device=device), torch.rand((1000, 1000), device=device)\n",
    "%timeit m3@m4"
   ]
  },
  {
   "cell_type": "code",
   "execution_count": 75,
   "id": "40ebf66f-cbbb-49f3-9ccb-70fb51f59653",
   "metadata": {},
   "outputs": [
    {
     "name": "stdout",
     "output_type": "stream",
     "text": [
      "3.96 ms ± 1.43 µs per loop (mean ± std. dev. of 7 runs, 100 loops each)\n",
      "6.29 ms ± 19 µs per loop (mean ± std. dev. of 7 runs, 100 loops each)\n",
      "4.92 µs ± 26.4 ns per loop (mean ± std. dev. of 7 runs, 100000 loops each)\n"
     ]
    }
   ],
   "source": [
    "# numpy array를 GPU상의 torch.tensor로 변환 할 때, 형변환(float)가 들어가면 수행시간이 대폭 증가한다.\n",
    "%timeit torch.from_numpy(np.random.random((1000, 1000))).to(device)\n",
    "%timeit torch.from_numpy(np.random.random((1000, 1000))).float().to(device)\n",
    "%timeit torch.rand((1000, 1000), device=device)"
   ]
  },
  {
   "cell_type": "code",
   "execution_count": 31,
   "id": "f66887bc-d71c-4079-815b-9e9117419613",
   "metadata": {},
   "outputs": [
    {
     "name": "stdout",
     "output_type": "stream",
     "text": [
      "False\n",
      "True\n"
     ]
    }
   ],
   "source": [
    "c3=cpu_matrix_mult()\n",
    "print(c3.is_cuda)\n",
    "g3=gpu_matrix_mult()\n",
    "print(g3.is_cuda)"
   ]
  },
  {
   "cell_type": "code",
   "execution_count": 34,
   "id": "721fae65-904a-4ae1-a62d-025228a3c47c",
   "metadata": {},
   "outputs": [
    {
     "data": {
      "text/plain": [
       "array([[0.94925198, 0.91593598, 0.6289162 , ..., 0.67891489, 0.21645577,\n",
       "        0.81899608],\n",
       "       [0.41592377, 0.37100587, 0.54598888, ..., 0.9489376 , 0.4611625 ,\n",
       "        0.26045436],\n",
       "       [0.3605144 , 0.86983802, 0.76815613, ..., 0.48866185, 0.15687152,\n",
       "        0.07878043],\n",
       "       ...,\n",
       "       [0.51931825, 0.58270631, 0.66755306, ..., 0.08056379, 0.9736298 ,\n",
       "        0.77114408],\n",
       "       [0.71625255, 0.32417488, 0.17021884, ..., 0.91369809, 0.74663509,\n",
       "        0.11026505],\n",
       "       [0.33236987, 0.95652262, 0.28802287, ..., 0.22659897, 0.84892104,\n",
       "        0.54240689]])"
      ]
     },
     "execution_count": 34,
     "metadata": {},
     "output_type": "execute_result"
    }
   ],
   "source": [
    "np.random.random((1000, 1000))"
   ]
  },
  {
   "cell_type": "code",
   "execution_count": 76,
   "id": "df9ae8c1-2911-4127-b50c-09dfd1589d2f",
   "metadata": {},
   "outputs": [
    {
     "name": "stdout",
     "output_type": "stream",
     "text": [
      "GeForce RTX 3090\n",
      "Memory Usage:\n",
      "Allocated: 0.0 GB\n",
      "Cached:    0.0 GB\n"
     ]
    }
   ],
   "source": [
    "if device.type == 'cuda':\n",
    "    print(torch.cuda.get_device_name(0))\n",
    "    print('Memory Usage:')\n",
    "    print('Allocated:', round(torch.cuda.memory_allocated(0)/1024**3,1), 'GB')\n",
    "    print('Cached:   ', round(torch.cuda.memory_reserved(0)/1024**3,1), 'GB')\n"
   ]
  },
  {
   "cell_type": "code",
   "execution_count": 74,
   "id": "c967283e-09d2-41e4-aef1-42a85406ac6b",
   "metadata": {},
   "outputs": [
    {
     "data": {
      "text/plain": [
       "43.59313077939234"
      ]
     },
     "execution_count": 74,
     "metadata": {},
     "output_type": "execute_result"
    }
   ],
   "source": [
    "3300/75.7"
   ]
  },
  {
   "cell_type": "code",
   "execution_count": null,
   "id": "b1cfc8d8-5a2a-4189-b49b-01e94a996c85",
   "metadata": {},
   "outputs": [],
   "source": []
  }
 ],
 "metadata": {
  "kernelspec": {
   "display_name": "Python 3",
   "language": "python",
   "name": "python3"
  },
  "language_info": {
   "codemirror_mode": {
    "name": "ipython",
    "version": 3
   },
   "file_extension": ".py",
   "mimetype": "text/x-python",
   "name": "python",
   "nbconvert_exporter": "python",
   "pygments_lexer": "ipython3",
   "version": "3.8.10"
  }
 },
 "nbformat": 4,
 "nbformat_minor": 5
}
