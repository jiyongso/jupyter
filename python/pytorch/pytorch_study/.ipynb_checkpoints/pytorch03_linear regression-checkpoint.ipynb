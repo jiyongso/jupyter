{
 "cells": [
  {
   "cell_type": "code",
   "execution_count": 2,
   "metadata": {},
   "outputs": [],
   "source": [
    "%matplotlib inline\n",
    "#%matplotlib notebook\n",
    "#%matplotlib widget\n",
    "import matplotlib \n",
    "import numpy as np\n",
    "import pandas as pd\n",
    "import os, sys\n",
    "#import ipywidgets\n",
    "from mpl_toolkits.mplot3d import Axes3D\n",
    "import matplotlib.pyplot as plt\n",
    "from matplotlib import cm\n",
    "from matplotlib.ticker import LinearLocator, FormatStrFormatter\n",
    "from mpl_toolkits.mplot3d.art3d import Poly3DCollection    \n",
    " \n",
    "# use LaTeX, choose nice some looking fonts and tweak some settings\n",
    "matplotlib.rc('font', family='serif')\n",
    "matplotlib.rc('font', size=16)\n",
    "matplotlib.rc('legend', fontsize=16)\n",
    "matplotlib.rc('legend', numpoints=1)\n",
    "matplotlib.rc('legend', handlelength=1.5)\n",
    "matplotlib.rc('legend', frameon=False)\n",
    "matplotlib.rc('xtick.major', pad=7)\n",
    "matplotlib.rc('xtick.minor', pad=7)\n",
    "matplotlib.rc('text', usetex=True)\n",
    "# matplotlib.rc('text.latex', \n",
    "#               preamble=[r'\\usepackage[T1]{fontenc}',\n",
    "#                         r'\\usepackage{amsmath}',\n",
    "#                         r'\\usepackage{txfonts}',\n",
    "#                         r'\\usepackage{textcomp}'])\n",
    "\n",
    "matplotlib.rc('figure', figsize=(12, 9))\n",
    "\n",
    "import torch\n",
    "import torch.nn as nn\n",
    "import torch.nn.functional as F\n",
    "import torch.optim as optim\n",
    "device = torch.device('cuda:0')"
   ]
  },
  {
   "cell_type": "markdown",
   "metadata": {},
   "source": [
    "#### Cost function\n",
    "\n",
    "Deep learning 에서 다음 용어는 같은 의미이다.\n",
    "\n",
    "비용 함수(cost function) = 손실 함수(loss function) = 오차 함수(error function) = 목적 함수(objective function)"
   ]
  },
  {
   "cell_type": "markdown",
   "metadata": {},
   "source": [
    "## 1. 선형 회귀\n",
    "\n",
    "$(x,\\, y)$ 데이터셋이 다음 관계를 갖는다고 가정하자\n",
    "\n",
    "$$ y = Wx +b$$\n",
    "\n",
    "이 때 $W$ 를 가중치 (weight), $b$ 를 편항 (bias) 라 한다.\n",
    "\n",
    "만약 $n$개의. $(x,\\,y)$ 데이터 셋이 있고 이를 $\\{(x^{(i)},\\,y^{(i)} | i=1,\\,\\ldots,\\,n\\}$ 라 하자. 이 대 오차함수는 다음과 같다.\n",
    "\n",
    "$$\n",
    "\\text{cost}(W,\\,b) = \\sum_{i=1}^n \\left[y^{(i)} - W\\cdot x^{(i)} \\right]^2\n",
    "$$\n",
    "\n",
    "그리고 $\\dfrac{\\text{cost}(W,\\,b)}{n}$ 을 **평균제곱오차**(Mean square error, MSE) 라 한다."
   ]
  },
  {
   "cell_type": "code",
   "execution_count": 38,
   "metadata": {},
   "outputs": [
    {
     "name": "stdout",
     "output_type": "stream",
     "text": [
      "Epoch    0/2000 W: 0.187, b: 0.080 Cost: 18.666666\n",
      "Epoch  200/2000 W: 1.800, b: 0.454 Cost: 0.029767\n",
      "Epoch  400/2000 W: 1.876, b: 0.281 Cost: 0.011366\n",
      "Epoch  600/2000 W: 1.924, b: 0.174 Cost: 0.004340\n",
      "Epoch  800/2000 W: 1.953, b: 0.107 Cost: 0.001657\n",
      "Epoch 1000/2000 W: 1.971, b: 0.066 Cost: 0.000633\n",
      "Epoch 1200/2000 W: 1.982, b: 0.041 Cost: 0.000242\n",
      "Epoch 1400/2000 W: 1.989, b: 0.025 Cost: 0.000092\n",
      "Epoch 1600/2000 W: 1.993, b: 0.016 Cost: 0.000035\n",
      "Epoch 1800/2000 W: 1.996, b: 0.010 Cost: 0.000013\n",
      "Epoch 2000/2000 W: 1.997, b: 0.006 Cost: 0.000005\n"
     ]
    }
   ],
   "source": [
    "# 경사하강법을 이용한 선형 회귀.\n",
    "\n",
    "# 변수 선언\n",
    "\n",
    "x_train = torch.FloatTensor([[1], [2], [3]])\n",
    "y_train = torch.FloatTensor([[2], [4], [6]])\n",
    "\n",
    "# 가중치와 편향의 초기화\n",
    "# tensor의 requires_grad 속성을 True 로 설정하면, 그 tensor에서 이뤄진 \n",
    "# 모든 연산들을 추적(track)함. 계산이 완료된 후 .backward() 를 호출하여 \n",
    "# 모든 변화도(gradient)를 자동으로 계산할 수 있음. 이 Tensor의 변화도는 \n",
    "# .grad 속성에 누적됨.\n",
    "W = torch.zeros(1, requires_grad=True) \n",
    "b = torch.zeros(1, requires_grad=True)\n",
    "\n",
    "# 경사 하강법 설정\n",
    "optimizer = optim.SGD([W, b], lr=0.01)\n",
    "\n",
    "nb_epochs = 2000 # 원하는만큼 경사 하강법을 반복\n",
    "\n",
    "for epoch in range(nb_epochs + 1):\n",
    "\n",
    "    # H(x) 계산\n",
    "    hypothesis = x_train * W + b\n",
    "\n",
    "    # cost 계산\n",
    "    cost = torch.mean((hypothesis - y_train) ** 2)\n",
    "\n",
    "    # optimizer.zero_grad()를 실행하므로서 미분을 통해 얻은 기울기를 0으로 초기화합니다. \n",
    "    # 기울기를 초기화해야만 새로운 가중치 편향에 대해서 새로운 기울기를 구할 수 있습니다. 그 \n",
    "    # 다음 cost.backward() 함수를 호출하면 가중치 W와 편향 b에 대한 기울기가 계산되어 \n",
    "    # W.grad와 b.grad로 저장된다.  \n",
    "    # 그 다음 경사 하강법 최적화 함수 opimizer의 .step() 함수를 호출하여 인수로 들어갔던 \n",
    "    # W와 b에서 리턴되는 변수들의 기울기에 학습률(learining rate) 0.01을 곱하여 \n",
    "    # 빼줌으로서 업데이트합니다.\n",
    "    # print(\"optimizer [0]: \", optimizer.param_groups[0]['params'])\n",
    "    optimizer.zero_grad()\n",
    "    # print(\"optimizer [zero grad]: \", optimizer.param_groups[0]['params'])\n",
    "    cost.backward()\n",
    "    # print(\"optimizer [cost backward]: \", optimizer.param_groups[0]['params'])\n",
    "    optimizer.step()\n",
    "    # print(\"optimizer [step]: \", optimizer.param_groups[0]['params'])\n",
    "    # 100번마다 로그 출력\n",
    "    if epoch % 200 == 0:\n",
    "        print('Epoch {:4d}/{} W: {:.3f}, b: {:.3f} Cost: {:.6f}'.format(\n",
    "            epoch, nb_epochs, W.item(), b.item(), cost.item()\n",
    "        ))"
   ]
  },
  {
   "cell_type": "code",
   "execution_count": 35,
   "metadata": {},
   "outputs": [
    {
     "data": {
      "text/plain": [
       "tensor([-16.6044])"
      ]
     },
     "execution_count": 35,
     "metadata": {},
     "output_type": "execute_result"
    }
   ],
   "source": [
    "W.grad"
   ]
  },
  {
   "cell_type": "code",
   "execution_count": 29,
   "metadata": {},
   "outputs": [
    {
     "name": "stdout",
     "output_type": "stream",
     "text": [
      "tensor([[2.0034],\n",
      "        [4.0007],\n",
      "        [5.9981]], grad_fn=<AddBackward0>)\n",
      "tensor(5.1377e-06, grad_fn=<MeanBackward0>)\n"
     ]
    }
   ],
   "source": [
    "print(hypothesis)\n",
    "print(cost)"
   ]
  },
  {
   "cell_type": "markdown",
   "metadata": {},
   "source": [
    "### 자동 미분\n",
    "\n",
    "\n",
    "변수를 다음과 같이 선언한다고 하자. \n",
    "\n",
    "~~~\n",
    "w = torch.tensor(2.0, requires_grad=True)\n",
    "~~~\n",
    "\n",
    "*requiers_grad=True* 는 이 텐서의 기울기를 저장한다는 의미이다.  "
   ]
  },
  {
   "cell_type": "code",
   "execution_count": 30,
   "metadata": {},
   "outputs": [
    {
     "name": "stdout",
     "output_type": "stream",
     "text": [
      "tensor(8.)\n"
     ]
    }
   ],
   "source": [
    "# 변수 선언\n",
    "w = torch.tensor(2.0, requires_grad=True)\n",
    "\n",
    "# 수식 설정\n",
    "y = w**2\n",
    "z = 2*y + 5\n",
    "\n",
    "# z에서의 w에 대한 미분값 계산\n",
    "z.backward()\n",
    "\n",
    "# w에 대한 미분값 출력\n",
    "print(w.grad)\n"
   ]
  },
  {
   "cell_type": "code",
   "execution_count": 9,
   "metadata": {},
   "outputs": [],
   "source": [
    "z.backward()"
   ]
  },
  {
   "cell_type": "markdown",
   "metadata": {},
   "source": [
    "## 2. 다중선형회귀(Multivariable Linear Regression)\n",
    "\n",
    "\n"
   ]
  },
  {
   "cell_type": "code",
   "execution_count": 45,
   "metadata": {},
   "outputs": [
    {
     "name": "stdout",
     "output_type": "stream",
     "text": [
      "Epoch    0/1000 w1: 0.294 w2: 0.294 w3: 0.297 b: 0.003 Cost: 29661.800781\n",
      "Epoch  100/1000 w1: 0.674 w2: 0.661 w3: 0.676 b: 0.008 Cost: 1.563628\n",
      "Epoch  200/1000 w1: 0.679 w2: 0.655 w3: 0.677 b: 0.008 Cost: 1.497595\n",
      "Epoch  300/1000 w1: 0.684 w2: 0.649 w3: 0.677 b: 0.008 Cost: 1.435044\n",
      "Epoch  400/1000 w1: 0.689 w2: 0.643 w3: 0.678 b: 0.008 Cost: 1.375726\n",
      "Epoch  500/1000 w1: 0.694 w2: 0.638 w3: 0.678 b: 0.009 Cost: 1.319507\n",
      "Epoch  600/1000 w1: 0.699 w2: 0.633 w3: 0.679 b: 0.009 Cost: 1.266222\n",
      "Epoch  700/1000 w1: 0.704 w2: 0.627 w3: 0.679 b: 0.009 Cost: 1.215703\n",
      "Epoch  800/1000 w1: 0.709 w2: 0.622 w3: 0.679 b: 0.009 Cost: 1.167810\n",
      "Epoch  900/1000 w1: 0.713 w2: 0.617 w3: 0.680 b: 0.009 Cost: 1.122429\n",
      "Epoch 1000/1000 w1: 0.718 w2: 0.613 w3: 0.680 b: 0.009 Cost: 1.079390\n"
     ]
    }
   ],
   "source": [
    "torch.manual_seed(1)\n",
    "\n",
    "# 훈련 데이터\n",
    "x1_train = torch.FloatTensor([[73], [93], [89], [96], [73]])\n",
    "x2_train = torch.FloatTensor([[80], [88], [91], [98], [66]])\n",
    "x3_train = torch.FloatTensor([[75], [93], [90], [100], [70]])\n",
    "y_train = torch.FloatTensor([[152], [185], [180], [196], [142]])\n",
    "\n",
    "\n",
    "# 가중치 w와 편향 b 초기화\n",
    "w1 = torch.zeros(1, requires_grad=True)\n",
    "w2 = torch.zeros(1, requires_grad=True)\n",
    "w3 = torch.zeros(1, requires_grad=True)\n",
    "b = torch.zeros(1, requires_grad=True)\n",
    "\n",
    "# optimizer 설정\n",
    "optimizer = optim.SGD([w1, w2, w3, b], lr=1e-5)\n",
    "\n",
    "nb_epochs = 1000\n",
    "for epoch in range(nb_epochs + 1):\n",
    "\n",
    "    # H(x) 계산\n",
    "    hypothesis = x1_train * w1 + x2_train * w2 + x3_train * w3 + b\n",
    "\n",
    "    # cost 계산\n",
    "    cost = torch.mean((hypothesis - y_train) ** 2)\n",
    "\n",
    "    # cost로 H(x) 개선\n",
    "    optimizer.zero_grad()\n",
    "    cost.backward()\n",
    "    optimizer.step()\n",
    "\n",
    "    # 100번마다 로그 출력\n",
    "    if epoch % 100 == 0:\n",
    "        print('Epoch {:4d}/{} w1: {:.3f} w2: {:.3f} w3: {:.3f} b: {:.3f} Cost: {:.6f}'.format(\n",
    "            epoch, nb_epochs, w1.item(), w2.item(), w3.item(), b.item(), cost.item()\n",
    "        ))"
   ]
  },
  {
   "cell_type": "code",
   "execution_count": 44,
   "metadata": {},
   "outputs": [
    {
     "name": "stdout",
     "output_type": "stream",
     "text": [
      "Epoch    0/1000 hypothesis: tensor([0., 0., 0., 0., 0.]) Cost: 29661.800781\n",
      "Epoch  100/1000 hypothesis: tensor([152.7691, 183.6985, 180.9591, 197.0627, 140.1336]) Cost: 1.563628\n",
      "Epoch  200/1000 hypothesis: tensor([152.7273, 183.7273, 180.9465, 197.0517, 140.1731]) Cost: 1.497595\n",
      "Epoch  300/1000 hypothesis: tensor([152.6866, 183.7554, 180.9343, 197.0409, 140.2116]) Cost: 1.435044\n",
      "Epoch  400/1000 hypothesis: tensor([152.6470, 183.7827, 180.9224, 197.0304, 140.2491]) Cost: 1.375726\n",
      "Epoch  500/1000 hypothesis: tensor([152.6085, 183.8093, 180.9108, 197.0201, 140.2856]) Cost: 1.319497\n",
      "Epoch  600/1000 hypothesis: tensor([152.5711, 183.8352, 180.8996, 197.0101, 140.3211]) Cost: 1.266215\n",
      "Epoch  700/1000 hypothesis: tensor([152.5346, 183.8604, 180.8887, 197.0003, 140.3557]) Cost: 1.215703\n",
      "Epoch  800/1000 hypothesis: tensor([152.4992, 183.8849, 180.8780, 196.9908, 140.3895]) Cost: 1.167810\n",
      "Epoch  900/1000 hypothesis: tensor([152.4647, 183.9087, 180.8677, 196.9814, 140.4223]) Cost: 1.122429\n",
      "Epoch 1000/1000 hypothesis: tensor([152.4312, 183.9319, 180.8577, 196.9723, 140.4543]) Cost: 1.079390\n"
     ]
    }
   ],
   "source": [
    "torch.manual_seed(1)\n",
    "# 위 셀을 행렬연산으로 구현\n",
    "\n",
    "x_train  =  torch.FloatTensor([[73,  80,  75], \n",
    "                               [93,  88,  93], \n",
    "                               [89,  91,  90], \n",
    "                               [96,  98,  100],   \n",
    "                               [73,  66,  70]])  \n",
    "y_train  =  torch.FloatTensor([[152],  [185],  [180],  [196],  [142]])\n",
    "\n",
    "# 모델 초기화\n",
    "W = torch.zeros((3, 1), requires_grad=True)\n",
    "b = torch.zeros(1, requires_grad=True)\n",
    "# optimizer 설정\n",
    "optimizer = optim.SGD([W, b], lr=1e-5)\n",
    "\n",
    "nb_epochs = 1000\n",
    "for epoch in range(nb_epochs + 1):\n",
    "\n",
    "    # H(x) 계산\n",
    "    # 편향 b는 브로드 캐스팅되어 각 샘플에 더해집니다.\n",
    "    hypothesis = x_train.matmul(W) + b\n",
    "\n",
    "    # cost 계산\n",
    "    cost = torch.mean((hypothesis - y_train) ** 2)\n",
    "\n",
    "    # cost로 H(x) 개선\n",
    "    optimizer.zero_grad()\n",
    "    cost.backward()\n",
    "    optimizer.step()\n",
    "    if epoch%100 == 0 :\n",
    "        print('Epoch {:4d}/{} hypothesis: {} Cost: {:.6f}'.format(\n",
    "            epoch, nb_epochs, hypothesis.squeeze().detach(), cost.item()\n",
    "        ))"
   ]
  },
  {
   "cell_type": "code",
   "execution_count": 43,
   "metadata": {},
   "outputs": [
    {
     "data": {
      "text/plain": [
       "tensor([[0.8319],\n",
       "        [0.5003],\n",
       "        [0.6783]], requires_grad=True)"
      ]
     },
     "execution_count": 43,
     "metadata": {},
     "output_type": "execute_result"
    }
   ],
   "source": [
    "W"
   ]
  },
  {
   "cell_type": "code",
   "execution_count": 41,
   "metadata": {},
   "outputs": [
    {
     "data": {
      "text/plain": [
       "(tensor([0.8319], requires_grad=True),\n",
       " tensor([0.5003], requires_grad=True),\n",
       " tensor([0.6783], requires_grad=True))"
      ]
     },
     "execution_count": 41,
     "metadata": {},
     "output_type": "execute_result"
    }
   ],
   "source": [
    "w1, w2, w3"
   ]
  },
  {
   "cell_type": "code",
   "execution_count": null,
   "metadata": {},
   "outputs": [],
   "source": []
  },
  {
   "cell_type": "markdown",
   "metadata": {},
   "source": [
    "## 3.4. nn.Module 로 구현하는 선형회귀"
   ]
  },
  {
   "cell_type": "markdown",
   "metadata": {},
   "source": [
    "#### 1. nn.Module 로 구현하는 단순선형회귀"
   ]
  },
  {
   "cell_type": "code",
   "execution_count": 2,
   "metadata": {},
   "outputs": [],
   "source": [
    "import torch\n",
    "import torch.nn as nn\n",
    "import torch.nn.functional as F"
   ]
  },
  {
   "cell_type": "code",
   "execution_count": 3,
   "metadata": {},
   "outputs": [
    {
     "name": "stdout",
     "output_type": "stream",
     "text": [
      "Epoch    0/2000 Cost: 33.633530\n",
      "Epoch  100/2000 Cost: 0.021655\n",
      "Epoch  200/2000 Cost: 0.013382\n",
      "Epoch  300/2000 Cost: 0.008269\n",
      "Epoch  400/2000 Cost: 0.005110\n",
      "Epoch  500/2000 Cost: 0.003158\n",
      "Epoch  600/2000 Cost: 0.001951\n",
      "Epoch  700/2000 Cost: 0.001206\n",
      "Epoch  800/2000 Cost: 0.000745\n",
      "Epoch  900/2000 Cost: 0.000460\n",
      "Epoch 1000/2000 Cost: 0.000284\n",
      "Epoch 1100/2000 Cost: 0.000176\n",
      "Epoch 1200/2000 Cost: 0.000109\n",
      "Epoch 1300/2000 Cost: 0.000067\n",
      "Epoch 1400/2000 Cost: 0.000041\n",
      "Epoch 1500/2000 Cost: 0.000026\n",
      "Epoch 1600/2000 Cost: 0.000016\n",
      "Epoch 1700/2000 Cost: 0.000010\n",
      "Epoch 1800/2000 Cost: 0.000006\n",
      "Epoch 1900/2000 Cost: 0.000004\n",
      "Epoch 2000/2000 Cost: 0.000002\n"
     ]
    }
   ],
   "source": [
    "# 데이터\n",
    "x_train = torch.FloatTensor([[1], [2], [3]])\n",
    "y_train = torch.FloatTensor([[2], [4], [6]])\n",
    "\n",
    "# 모델을 선언 및 초기화. 단순 선형 회귀이므로 input_dim=1, output_dim=1.\n",
    "model = nn.Linear(1,1)\n",
    "\n",
    "# optimizer 설정. 경사 하강법 SGD를 사용하고 learning rate를 의미하는 lr은 0.01\n",
    "optimizer = torch.optim.SGD(model.parameters(), lr=0.01) \n",
    "\n",
    "# 전체 훈련 데이터에 대해 경사 하강법을 2,000회 반복\n",
    "nb_epochs = 2000\n",
    "for epoch in range(nb_epochs+1):\n",
    "\n",
    "    # H(x) 계산\n",
    "    prediction = model(x_train)\n",
    "\n",
    "    # cost 계산\n",
    "    cost = F.mse_loss(prediction, y_train) # <== 파이토치에서 제공하는 평균 제곱 오차 함수\n",
    "\n",
    "    # cost로 H(x) 개선하는 부분\n",
    "    # gradient를 0으로 초기화\n",
    "    optimizer.zero_grad()\n",
    "    # 비용 함수를 미분하여 gradient 계산\n",
    "    cost.backward() # backward 연산\n",
    "    # W와 b를 업데이트\n",
    "    optimizer.step()\n",
    "\n",
    "    if epoch % 100 == 0:\n",
    "    # 100번마다 로그 출력\n",
    "      print('Epoch {:4d}/{} Cost: {:.6f}'.format(\n",
    "          epoch, nb_epochs, cost.item()\n",
    "      ))"
   ]
  },
  {
   "cell_type": "code",
   "execution_count": 4,
   "metadata": {},
   "outputs": [
    {
     "name": "stdout",
     "output_type": "stream",
     "text": [
      "훈련 후 입력이 4일 때의 예측값 : tensor([[7.9970]], grad_fn=<AddmmBackward>)\n"
     ]
    }
   ],
   "source": [
    "# 임의의 입력 4를 선언\n",
    "new_var =  torch.FloatTensor([[4.0]]) \n",
    "# 입력한 값 4에 대해서 예측값 y를 리턴받아서 pred_y에 저장\n",
    "pred_y = model(new_var) # forward 연산\n",
    "# y = 2x 이므로 입력이 4라면 y가 8에 가까운 값이 나와야 제대로 학습이 된 것\n",
    "print(\"훈련 후 입력이 4일 때의 예측값 :\", pred_y) \n"
   ]
  },
  {
   "cell_type": "code",
   "execution_count": 5,
   "metadata": {},
   "outputs": [
    {
     "name": "stdout",
     "output_type": "stream",
     "text": [
      "[Parameter containing:\n",
      "tensor([[1.9982]], requires_grad=True), Parameter containing:\n",
      "tensor([0.0040], requires_grad=True)]\n"
     ]
    }
   ],
   "source": [
    "print(list(model.parameters()))"
   ]
  },
  {
   "cell_type": "code",
   "execution_count": null,
   "metadata": {},
   "outputs": [],
   "source": []
  },
  {
   "cell_type": "markdown",
   "metadata": {},
   "source": [
    "#### 2. nn.Module로 구현하는 다중선형회귀"
   ]
  },
  {
   "cell_type": "code",
   "execution_count": 7,
   "metadata": {},
   "outputs": [
    {
     "name": "stdout",
     "output_type": "stream",
     "text": [
      "Epoch    0/2000 Cost: 4959.394531\n",
      "Epoch  100/2000 Cost: 3.645401\n",
      "Epoch  200/2000 Cost: 3.468121\n",
      "Epoch  300/2000 Cost: 3.300176\n",
      "Epoch  400/2000 Cost: 3.141072\n",
      "Epoch  500/2000 Cost: 2.990332\n",
      "Epoch  600/2000 Cost: 2.847479\n",
      "Epoch  700/2000 Cost: 2.712201\n",
      "Epoch  800/2000 Cost: 2.583999\n",
      "Epoch  900/2000 Cost: 2.462527\n",
      "Epoch 1000/2000 Cost: 2.347440\n",
      "Epoch 1100/2000 Cost: 2.238400\n",
      "Epoch 1200/2000 Cost: 2.135106\n",
      "Epoch 1300/2000 Cost: 2.037229\n",
      "Epoch 1400/2000 Cost: 1.944457\n",
      "Epoch 1500/2000 Cost: 1.856582\n",
      "Epoch 1600/2000 Cost: 1.773311\n",
      "Epoch 1700/2000 Cost: 1.694407\n",
      "Epoch 1800/2000 Cost: 1.619645\n",
      "Epoch 1900/2000 Cost: 1.548805\n",
      "Epoch 2000/2000 Cost: 1.481685\n"
     ]
    }
   ],
   "source": [
    "# 데이터\n",
    "x_train = torch.FloatTensor([[73, 80, 75],\n",
    "                             [93, 88, 93],\n",
    "                             [89, 91, 90],\n",
    "                             [96, 98, 100],\n",
    "                             [73, 66, 70]])\n",
    "y_train = torch.FloatTensor([[152], [185], [180], [196], [142]])\n",
    "\n",
    "# 모델을 선언 및 초기화. 다중 선형 회귀이므로 input_dim=3, output_dim=1.\n",
    "model = nn.Linear(3,1)\n",
    "\n",
    "optimizer = torch.optim.SGD(model.parameters(), lr=1e-5) \n",
    "nb_epochs = 2000\n",
    "for epoch in range(nb_epochs+1):\n",
    "\n",
    "    # H(x) 계산\n",
    "    prediction = model(x_train)\n",
    "    # model(x_train)은 model.forward(x_train)와 동일함.\n",
    "\n",
    "    # cost 계산\n",
    "    cost = F.mse_loss(prediction, y_train) # <== 파이토치에서 제공하는 평균 제곱 오차 함수\n",
    "\n",
    "    # cost로 H(x) 개선하는 부분\n",
    "    # gradient를 0으로 초기화\n",
    "    optimizer.zero_grad()\n",
    "    # 비용 함수를 미분하여 gradient 계산\n",
    "    cost.backward()\n",
    "    # W와 b를 업데이트\n",
    "    optimizer.step()\n",
    "\n",
    "    if epoch % 100 == 0:\n",
    "    # 100번마다 로그 출력\n",
    "      print('Epoch {:4d}/{} Cost: {:.6f}'.format(\n",
    "          epoch, nb_epochs, cost.item()\n",
    "      ))\n"
   ]
  },
  {
   "cell_type": "code",
   "execution_count": 8,
   "metadata": {},
   "outputs": [
    {
     "name": "stdout",
     "output_type": "stream",
     "text": [
      "훈련 후 입력이 73, 80, 75일 때의 예측값 : tensor([[152.7891]], grad_fn=<AddmmBackward>)\n"
     ]
    }
   ],
   "source": [
    "# 임의의 입력 [73, 80, 75]를 선언\n",
    "new_var =  torch.FloatTensor([[73, 80, 75]]) \n",
    "# 입력한 값 [73, 80, 75]에 대해서 예측값 y를 리턴받아서 pred_y에 저장\n",
    "pred_y = model(new_var) \n",
    "print(\"훈련 후 입력이 73, 80, 75일 때의 예측값 :\", pred_y) "
   ]
  },
  {
   "cell_type": "code",
   "execution_count": 9,
   "metadata": {},
   "outputs": [
    {
     "name": "stdout",
     "output_type": "stream",
     "text": [
      "[Parameter containing:\n",
      "tensor([[0.7401, 0.6875, 0.5893]], requires_grad=True), Parameter containing:\n",
      "tensor([-0.4374], requires_grad=True)]\n"
     ]
    }
   ],
   "source": [
    "print(list(model.parameters()))"
   ]
  },
  {
   "cell_type": "code",
   "execution_count": null,
   "metadata": {},
   "outputs": [],
   "source": []
  },
  {
   "cell_type": "markdown",
   "metadata": {},
   "source": [
    "#### 3.5 클래스로 파이토치 모델 구현하기"
   ]
  },
  {
   "cell_type": "code",
   "execution_count": 15,
   "metadata": {},
   "outputs": [],
   "source": [
    "# 전형적인 class 구현\n",
    "\n",
    "class LinearRegressionModel(nn.Module): # torch.nn.Module을 상속받는 파이썬 클래스\n",
    "    def __init__(self, dim_in, dim_out): #\n",
    "        super().__init__()\n",
    "        self.linear = nn.Linear(dim_in, dim_out) # 단순 선형 회귀이므로 input_dim=1, output_dim=1.\n",
    "\n",
    "    def forward(self, x):\n",
    "        return self.linear(x)\n",
    "\n",
    "torch.manual_seed(1)\n",
    "# 데이터\n",
    "x_train = torch.FloatTensor([[73, 80, 75],\n",
    "                             [93, 88, 93],\n",
    "                             [89, 91, 90],\n",
    "                             [96, 98, 100],\n",
    "                             [73, 66, 70]])\n",
    "y_train = torch.FloatTensor([[152], [185], [180], [196], [142]])"
   ]
  },
  {
   "cell_type": "code",
   "execution_count": 16,
   "metadata": {},
   "outputs": [
    {
     "name": "stdout",
     "output_type": "stream",
     "text": [
      "Epoch    0/2000 Cost: 31667.597656\n",
      "Epoch  100/2000 Cost: 0.225988\n",
      "Epoch  200/2000 Cost: 0.223910\n",
      "Epoch  300/2000 Cost: 0.221930\n",
      "Epoch  400/2000 Cost: 0.220059\n",
      "Epoch  500/2000 Cost: 0.218270\n",
      "Epoch  600/2000 Cost: 0.216571\n",
      "Epoch  700/2000 Cost: 0.214955\n",
      "Epoch  800/2000 Cost: 0.213413\n",
      "Epoch  900/2000 Cost: 0.211949\n",
      "Epoch 1000/2000 Cost: 0.210558\n",
      "Epoch 1100/2000 Cost: 0.209237\n",
      "Epoch 1200/2000 Cost: 0.207971\n",
      "Epoch 1300/2000 Cost: 0.206764\n",
      "Epoch 1400/2000 Cost: 0.205616\n",
      "Epoch 1500/2000 Cost: 0.204527\n",
      "Epoch 1600/2000 Cost: 0.203479\n",
      "Epoch 1700/2000 Cost: 0.202487\n",
      "Epoch 1800/2000 Cost: 0.201542\n",
      "Epoch 1900/2000 Cost: 0.200638\n",
      "Epoch 2000/2000 Cost: 0.199769\n"
     ]
    }
   ],
   "source": [
    "model = LinearRegressionModel(3, 1)\n",
    "optimizer = torch.optim.SGD(model.parameters(), lr=1e-5) \n",
    "nb_epochs = 2000\n",
    "for epoch in range(nb_epochs+1):\n",
    "\n",
    "    # H(x) 계산\n",
    "    prediction = model(x_train)\n",
    "    # model(x_train)은 model.forward(x_train)와 동일함.\n",
    "\n",
    "    # cost 계산\n",
    "    cost = F.mse_loss(prediction, y_train) # <== 파이토치에서 제공하는 평균 제곱 오차 함수\n",
    "\n",
    "    # cost로 H(x) 개선하는 부분\n",
    "    # gradient를 0으로 초기화\n",
    "    optimizer.zero_grad()\n",
    "    # 비용 함수를 미분하여 gradient 계산\n",
    "    cost.backward()\n",
    "    # W와 b를 업데이트\n",
    "    optimizer.step()\n",
    "\n",
    "    if epoch % 100 == 0:\n",
    "    # 100번마다 로그 출력\n",
    "      print('Epoch {:4d}/{} Cost: {:.6f}'.format(\n",
    "          epoch, nb_epochs, cost.item()\n",
    "      ))"
   ]
  },
  {
   "cell_type": "code",
   "execution_count": 17,
   "metadata": {},
   "outputs": [
    {
     "name": "stdout",
     "output_type": "stream",
     "text": [
      "훈련 후 입력이 73, 80, 75일 때의 예측값 : tensor([[151.2305]], grad_fn=<AddmmBackward>)\n"
     ]
    }
   ],
   "source": [
    "# 임의의 입력 [73, 80, 75]를 선언\n",
    "new_var =  torch.FloatTensor([[73, 80, 75]]) \n",
    "# 입력한 값 [73, 80, 75]에 대해서 예측값 y를 리턴받아서 pred_y에 저장\n",
    "pred_y = model(new_var) \n",
    "print(\"훈련 후 입력이 73, 80, 75일 때의 예측값 :\", pred_y) "
   ]
  },
  {
   "cell_type": "code",
   "execution_count": null,
   "metadata": {},
   "outputs": [],
   "source": [
    "\n"
   ]
  },
  {
   "cell_type": "markdown",
   "metadata": {},
   "source": [
    "#### 3.6 미니 배치와 데이터 로드"
   ]
  },
  {
   "cell_type": "code",
   "execution_count": 18,
   "metadata": {},
   "outputs": [],
   "source": [
    "from torch.utils.data import TensorDataset # 텐서데이터셋\n",
    "from torch.utils.data import DataLoader # 데이터로더"
   ]
  },
  {
   "cell_type": "code",
   "execution_count": 19,
   "metadata": {},
   "outputs": [],
   "source": [
    "x_train  =  torch.FloatTensor([[73,  80,  75], \n",
    "                               [93,  88,  93], \n",
    "                               [89,  91,  90], \n",
    "                               [96,  98,  100],   \n",
    "                               [73,  66,  70]])  \n",
    "y_train  =  torch.FloatTensor([[152],  [185],  [180],  [196],  [142]])\n",
    "dataset = TensorDataset(x_train, y_train)\n"
   ]
  },
  {
   "cell_type": "code",
   "execution_count": 21,
   "metadata": {},
   "outputs": [
    {
     "name": "stdout",
     "output_type": "stream",
     "text": [
      "Epoch    0/20 Batch 1/3 Cost: 30629.378906\n",
      "Epoch    0/20 Batch 2/3 Cost: 7442.509766\n",
      "Epoch    0/20 Batch 3/3 Cost: 3760.326660\n",
      "Epoch    1/20 Batch 1/3 Cost: 554.051819\n",
      "Epoch    1/20 Batch 2/3 Cost: 461.916443\n",
      "Epoch    1/20 Batch 3/3 Cost: 62.399296\n",
      "Epoch    2/20 Batch 1/3 Cost: 24.052591\n",
      "Epoch    2/20 Batch 2/3 Cost: 7.999709\n",
      "Epoch    2/20 Batch 3/3 Cost: 2.095638\n",
      "Epoch    3/20 Batch 1/3 Cost: 0.030554\n",
      "Epoch    3/20 Batch 2/3 Cost: 2.218473\n",
      "Epoch    3/20 Batch 3/3 Cost: 0.229401\n",
      "Epoch    4/20 Batch 1/3 Cost: 0.586134\n",
      "Epoch    4/20 Batch 2/3 Cost: 0.785538\n",
      "Epoch    4/20 Batch 3/3 Cost: 0.137055\n",
      "Epoch    5/20 Batch 1/3 Cost: 0.929107\n",
      "Epoch    5/20 Batch 2/3 Cost: 0.873455\n",
      "Epoch    5/20 Batch 3/3 Cost: 0.074227\n",
      "Epoch    6/20 Batch 1/3 Cost: 0.303590\n",
      "Epoch    6/20 Batch 2/3 Cost: 0.373322\n",
      "Epoch    6/20 Batch 3/3 Cost: 1.822516\n",
      "Epoch    7/20 Batch 1/3 Cost: 1.119864\n",
      "Epoch    7/20 Batch 2/3 Cost: 0.118206\n",
      "Epoch    7/20 Batch 3/3 Cost: 0.273157\n",
      "Epoch    8/20 Batch 1/3 Cost: 1.015062\n",
      "Epoch    8/20 Batch 2/3 Cost: 0.075373\n",
      "Epoch    8/20 Batch 3/3 Cost: 0.393798\n",
      "Epoch    9/20 Batch 1/3 Cost: 0.749059\n",
      "Epoch    9/20 Batch 2/3 Cost: 0.626169\n",
      "Epoch    9/20 Batch 3/3 Cost: 0.064406\n",
      "Epoch   10/20 Batch 1/3 Cost: 0.648731\n",
      "Epoch   10/20 Batch 2/3 Cost: 0.042031\n",
      "Epoch   10/20 Batch 3/3 Cost: 1.408164\n",
      "Epoch   11/20 Batch 1/3 Cost: 1.136529\n",
      "Epoch   11/20 Batch 2/3 Cost: 0.236737\n",
      "Epoch   11/20 Batch 3/3 Cost: 1.070790\n",
      "Epoch   12/20 Batch 1/3 Cost: 0.482239\n",
      "Epoch   12/20 Batch 2/3 Cost: 1.042467\n",
      "Epoch   12/20 Batch 3/3 Cost: 0.212351\n",
      "Epoch   13/20 Batch 1/3 Cost: 0.225903\n",
      "Epoch   13/20 Batch 2/3 Cost: 0.368970\n",
      "Epoch   13/20 Batch 3/3 Cost: 1.765700\n",
      "Epoch   14/20 Batch 1/3 Cost: 0.549793\n",
      "Epoch   14/20 Batch 2/3 Cost: 0.905204\n",
      "Epoch   14/20 Batch 3/3 Cost: 0.004903\n",
      "Epoch   15/20 Batch 1/3 Cost: 0.057103\n",
      "Epoch   15/20 Batch 2/3 Cost: 1.028156\n",
      "Epoch   15/20 Batch 3/3 Cost: 0.348708\n",
      "Epoch   16/20 Batch 1/3 Cost: 0.824055\n",
      "Epoch   16/20 Batch 2/3 Cost: 0.262483\n",
      "Epoch   16/20 Batch 3/3 Cost: 1.089121\n",
      "Epoch   17/20 Batch 1/3 Cost: 0.291638\n",
      "Epoch   17/20 Batch 2/3 Cost: 1.048967\n",
      "Epoch   17/20 Batch 3/3 Cost: 1.247972\n",
      "Epoch   18/20 Batch 1/3 Cost: 0.425850\n",
      "Epoch   18/20 Batch 2/3 Cost: 1.209821\n",
      "Epoch   18/20 Batch 3/3 Cost: 0.346118\n",
      "Epoch   19/20 Batch 1/3 Cost: 0.207546\n",
      "Epoch   19/20 Batch 2/3 Cost: 0.699785\n",
      "Epoch   19/20 Batch 3/3 Cost: 1.467848\n",
      "Epoch   20/20 Batch 1/3 Cost: 1.101503\n",
      "Epoch   20/20 Batch 2/3 Cost: 0.657127\n",
      "Epoch   20/20 Batch 3/3 Cost: 0.185091\n"
     ]
    }
   ],
   "source": [
    "dataloader = DataLoader(dataset, batch_size=2, shuffle=True)\n",
    "model = LinearRegressionModel(3,1)\n",
    "optimizer = torch.optim.SGD(model.parameters(), lr=1e-5) \n",
    "\n",
    "nb_epochs = 20\n",
    "for epoch in range(nb_epochs + 1):\n",
    "    for batch_idx, samples in enumerate(dataloader):\n",
    "        # print(batch_idx)\n",
    "        # print(samples)\n",
    "        x_train, y_train = samples\n",
    "        # H(x) 계산\n",
    "        prediction = model(x_train)\n",
    "\n",
    "        # cost 계산\n",
    "        cost = F.mse_loss(prediction, y_train)\n",
    "\n",
    "        # cost로 H(x) 계산\n",
    "        optimizer.zero_grad()\n",
    "        cost.backward()\n",
    "        optimizer.step()\n",
    "\n",
    "        print('Epoch {:4d}/{} Batch {}/{} Cost: {:.6f}'.format(\n",
    "            epoch, nb_epochs, batch_idx+1, len(dataloader),\n",
    "            cost.item()\n",
    "            ))"
   ]
  },
  {
   "cell_type": "code",
   "execution_count": null,
   "metadata": {},
   "outputs": [],
   "source": []
  }
 ],
 "metadata": {
  "kernelspec": {
   "display_name": "Python 3",
   "language": "python",
   "name": "python3"
  },
  "language_info": {
   "codemirror_mode": {
    "name": "ipython",
    "version": 3
   },
   "file_extension": ".py",
   "mimetype": "text/x-python",
   "name": "python",
   "nbconvert_exporter": "python",
   "pygments_lexer": "ipython3",
   "version": "3.8.8"
  }
 },
 "nbformat": 4,
 "nbformat_minor": 4
}
