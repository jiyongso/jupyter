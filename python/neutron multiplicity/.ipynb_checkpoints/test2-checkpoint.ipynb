{
 "cells": [
  {
   "cell_type": "code",
   "execution_count": 30,
   "id": "8236da02-f753-42ea-82ed-bab3dfd75abd",
   "metadata": {},
   "outputs": [
    {
     "name": "stdout",
     "output_type": "stream",
     "text": [
      "The autoreload extension is already loaded. To reload it, use:\n",
      "  %reload_ext autoreload\n"
     ]
    }
   ],
   "source": [
    "%matplotlib inline\n",
    "\n",
    "%load_ext autoreload\n",
    "%autoreload 2\n",
    "\n",
    "#%matplotlib notebook\n",
    "#%matplotlib widget\n",
    "import matplotlib \n",
    "import numpy as np\n",
    "import pandas as pd\n",
    "import os, sys, time, random\n",
    "#import ipywidgets\n",
    "from mpl_toolkits.mplot3d import Axes3D\n",
    "import matplotlib.pyplot as plt\n",
    "from matplotlib import cm\n",
    "from matplotlib.ticker import LinearLocator, FormatStrFormatter\n",
    "from mpl_toolkits.mplot3d.art3d import Poly3DCollection    \n",
    " \n",
    "# use LaTeX, choose nice some looking fonts and tweak some settings\n",
    "matplotlib.rc('font', family='serif')\n",
    "matplotlib.rc('font', size=16)\n",
    "matplotlib.rc('legend', fontsize=16)\n",
    "matplotlib.rc('legend', numpoints=1)\n",
    "matplotlib.rc('legend', handlelength=1.5)\n",
    "matplotlib.rc('legend', frameon=True)\n",
    "matplotlib.rc('xtick.major', pad=7)\n",
    "matplotlib.rc('xtick', direction=\"in\")\n",
    "matplotlib.rc('ytick', direction=\"in\")\n",
    "matplotlib.rc('xtick', top = True)\n",
    "matplotlib.rc('ytick', right =True )\n",
    "matplotlib.rc('xtick.minor', pad=7)\n",
    "matplotlib.rc('text', usetex=True)\n",
    "# matplotlib.rc('text.latex', \n",
    "#               preamble=[r'\\usepackage[T1]{fontenc}',\n",
    "#                         r'\\usepackage{amsmath}',\n",
    "#                         r'\\usepackage{txfonts}',\n",
    "#                         r'\\usepackage{textcomp}'])\n",
    "\n",
    "matplotlib.rc('figure', figsize=(12, 9))\n",
    "\n",
    "import torch\n",
    "import torch.nn as nn\n",
    "import torch.nn.functional as F\n",
    "import torch.optim as optim\n",
    "device = torch.device('cuda:0')"
   ]
  },
  {
   "cell_type": "code",
   "execution_count": 31,
   "id": "a4c9e689-a8d7-427d-a27d-4fcc43b4a8d3",
   "metadata": {},
   "outputs": [],
   "source": [
    "from ptrac import *\n",
    "rawdatafolder = r\"/home/jiyongso/jhjeon/multi4/multi4/ptrac_CGMF\"\n",
    "pkldatafolder = r\"./data\"\n",
    "jjhdatafolder = r\"/home/jiyongso/jhjeon/intermediate\"\n",
    "\n",
    "\n",
    "\n",
    "def ptrac_count(dfrossi, kind=\"neutron\"):\n",
    "    if kind == \"neutron\":\n",
    "        pre = 0\n",
    "        gate = 5\n",
    "        delay = 15\n",
    "    elif kind = \"photon\":\n",
    "        pre = 0\n",
    "        gate = 1\n",
    "        delay = 15\n",
    "    \n",
    "    \n",
    "    "
   ]
  },
  {
   "cell_type": "code",
   "execution_count": 32,
   "id": "f3061256-8db8-48c5-93f1-c863c52aceaf",
   "metadata": {},
   "outputs": [
    {
     "data": {
      "text/plain": [
       "True"
      ]
     },
     "execution_count": 32,
     "metadata": {},
     "output_type": "execute_result"
    }
   ],
   "source": [
    "100%10==0"
   ]
  },
  {
   "cell_type": "code",
   "execution_count": 33,
   "id": "130f0e7c-6794-497c-a602-49627a776111",
   "metadata": {},
   "outputs": [],
   "source": [
    "#ptrac_analysis_all_save(rawdatafolder, 3)"
   ]
  },
  {
   "cell_type": "code",
   "execution_count": 34,
   "id": "75688aa3-30e4-4a1d-9d48-b43e52ed392c",
   "metadata": {},
   "outputs": [],
   "source": [
    "analysisdata = read_ptrac_analysis(\"./data/C3_analysis.pkl\")\n",
    "reduceddata = ptrac_reduce(analysisdata)"
   ]
  },
  {
   "cell_type": "code",
   "execution_count": null,
   "id": "83af0502-4e22-4598-98d0-da2766a02337",
   "metadata": {},
   "outputs": [],
   "source": []
  },
  {
   "cell_type": "code",
   "execution_count": 35,
   "id": "acc86dad-e446-4f01-86dc-d86afcb97724",
   "metadata": {},
   "outputs": [],
   "source": [
    "reduceddata.keys()\n",
    "jj1_n, jj1_p = read_jjh(jjhdatafolder, 3, 1, 1)"
   ]
  },
  {
   "cell_type": "code",
   "execution_count": 36,
   "id": "6046ab0b-4521-457d-8280-c668a87b2723",
   "metadata": {},
   "outputs": [
    {
     "name": "stdout",
     "output_type": "stream",
     "text": [
      "{128, 129, 141, 142, 143, 321, 322, 323, 324, 325, 326, 327, 328, 329, 341, 342, 343, 221, 222, 223, 224, 225, 226, 227, 228, 229, 241, 242, 243, 121, 122, 123, 124, 125, 126, 127}\n",
      "{128, 1, 129, 521, 141, 142, 143, 321, 322, 323, 324, 325, 326, 327, 328, 329, 341, 342, 343, 221, 222, 223, 224, 225, 226, 227, 228, 229, 241, 242, 243, 121, 122, 123, 124, 125, 126, 127}\n",
      "set()\n",
      "{1, 521}\n"
     ]
    },
    {
     "data": {
      "text/plain": [
       "((20873, 4), (1536, 4))"
      ]
     },
     "execution_count": 36,
     "metadata": {},
     "output_type": "execute_result"
    }
   ],
   "source": [
    "dfn, dfp = ptrac_combine(reduceddata)\n",
    "dfn.shape, dfp.shape"
   ]
  },
  {
   "cell_type": "code",
   "execution_count": null,
   "id": "7c94e58f-a999-4a17-b897-7078bb616d5c",
   "metadata": {},
   "outputs": [],
   "source": []
  },
  {
   "cell_type": "code",
   "execution_count": 22,
   "id": "ef595a17-2bd0-4b44-8699-51ee19b5f0ca",
   "metadata": {},
   "outputs": [
    {
     "name": "stdout",
     "output_type": "stream",
     "text": [
      "[  241   243   501 ... -1112  -827  -606]\n",
      "[  714  1065  1580 ... -2058 -1442  -795]\n",
      "20873\n"
     ]
    }
   ],
   "source": [
    "dfn_rossi=ptrac_rossi(dfn)\n",
    "dfp_rossi=ptrac_rossi(dfp)\n",
    "dfn_jrossi = jjh_rossi(dfn)"
   ]
  },
  {
   "cell_type": "code",
   "execution_count": 29,
   "id": "5c58bc90-f700-43e9-81e7-4d7772d0826c",
   "metadata": {},
   "outputs": [
    {
     "data": {
      "text/plain": [
       "(array([1136., 1819., 1059.,  702.,  535.,  431.,  393.,  385.,  368.,\n",
       "         326.,  316.,  317.,  290.,  285.,  267.,  268.,  270.,  265.,\n",
       "         263.,  261.,  234.,  297.,  263.,  251.,  232.,  250.,  225.,\n",
       "         241.,  233.,  240.,  261.,  257.,  238.,  256.,  248.,  256.,\n",
       "         259.,  272.,  209.,  219.,  238.,  224.,  230.,  233.,  222.,\n",
       "         248.,  238.,  232.,  246.,  250.,  252.,  242.,  239.,  214.,\n",
       "         206.,  225.,  236.,  236.,  223.,  264.,  228.,  240.,  253.,\n",
       "         221.,  226.,  220.,  239.,  212.,  221.,  204.,  219.,  203.,\n",
       "         216.,  240.,  237.,  245.,  253.,  203.,  213.,  223.,  220.,\n",
       "         215.,  227.,  231.,  241.,  221.,  239.,  192.,  220.,  234.,\n",
       "         225.,  224.,  241.,  232.,  248.,  229.,  240.,  242.,  250.,\n",
       "         446.]),\n",
       " array([  0.,   1.,   2.,   3.,   4.,   5.,   6.,   7.,   8.,   9.,  10.,\n",
       "         11.,  12.,  13.,  14.,  15.,  16.,  17.,  18.,  19.,  20.,  21.,\n",
       "         22.,  23.,  24.,  25.,  26.,  27.,  28.,  29.,  30.,  31.,  32.,\n",
       "         33.,  34.,  35.,  36.,  37.,  38.,  39.,  40.,  41.,  42.,  43.,\n",
       "         44.,  45.,  46.,  47.,  48.,  49.,  50.,  51.,  52.,  53.,  54.,\n",
       "         55.,  56.,  57.,  58.,  59.,  60.,  61.,  62.,  63.,  64.,  65.,\n",
       "         66.,  67.,  68.,  69.,  70.,  71.,  72.,  73.,  74.,  75.,  76.,\n",
       "         77.,  78.,  79.,  80.,  81.,  82.,  83.,  84.,  85.,  86.,  87.,\n",
       "         88.,  89.,  90.,  91.,  92.,  93.,  94.,  95.,  96.,  97.,  98.,\n",
       "         99., 100.]),\n",
       " <BarContainer object of 100 artists>)"
      ]
     },
     "execution_count": 29,
     "metadata": {},
     "output_type": "execute_result"
    },
    {
     "data": {
      "image/png": "[encoded data removed]",
      "text/plain": [
       "<Figure size 864x648 with 1 Axes>"
      ]
     },
     "metadata": {
      "needs_background": "light"
     },
     "output_type": "display_data"
    }
   ],
   "source": [
    "plt.hist(dfn_rossi, bins=100)"
   ]
  },
  {
   "cell_type": "code",
   "execution_count": 24,
   "id": "116935fe-0c40-46a8-8091-f459dc929967",
   "metadata": {},
   "outputs": [
    {
     "data": {
      "text/plain": [
       "(49800,)"
      ]
     },
     "execution_count": 24,
     "metadata": {},
     "output_type": "execute_result"
    }
   ],
   "source": [
    "dfn_jrossi.shape"
   ]
  },
  {
   "cell_type": "code",
   "execution_count": 26,
   "id": "d2561be6-1de9-4fda-b439-eb38727ff009",
   "metadata": {},
   "outputs": [
    {
     "data": {
      "image/png": "[encoded data removed]",
      "text/plain": [
       "<Figure size 864x648 with 1 Axes>"
      ]
     },
     "metadata": {
      "needs_background": "light"
     },
     "output_type": "display_data"
    }
   ],
   "source": [
    "plt.hist(dfn_jrossi, bins=100)\n",
    "plt.yscale('log')"
   ]
  },
  {
   "cell_type": "code",
   "execution_count": 16,
   "id": "5c5bb9ca-9355-4f2e-b10a-094315c13d23",
   "metadata": {},
   "outputs": [
    {
     "name": "stdout",
     "output_type": "stream",
     "text": [
      "[   241    243    501 ... -32494 -31822 -31761]\n"
     ]
    },
    {
     "data": {
      "text/plain": [
       "((22216, 1), (1621, 1))"
      ]
     },
     "execution_count": 16,
     "metadata": {},
     "output_type": "execute_result"
    }
   ],
   "source": [
    "jjh3n=pd.read_csv(os.path.join(jjhdatafolder, \"C3_neutron.o\"), header=None)\n",
    "jjh3p=pd.read_csv(os.path.join(jjhdatafolder, \"C3_photon.o\"), header=None)\n",
    "\n",
    "jjh3n.columns=[\"time\"]\n",
    "jjh3p.columns=[\"time\"]\n",
    "jjh3n_rossi = ptrac_rossi(jjh3n)\n",
    "jjh3n.shape, jjh3p.shape"
   ]
  },
  {
   "cell_type": "code",
   "execution_count": 17,
   "id": "3076f347-b2e6-4b7f-a411-a91059cc1426",
   "metadata": {},
   "outputs": [
    {
     "data": {
      "text/plain": [
       "array([ 2,  1, 95, ..., 97, 95, 99], dtype=int16)"
      ]
     },
     "execution_count": 17,
     "metadata": {},
     "output_type": "execute_result"
    }
   ],
   "source": [
    "jjh3n_rossi"
   ]
  },
  {
   "cell_type": "code",
   "execution_count": 258,
   "id": "88056842-b329-4e04-b34e-3e77d6869c75",
   "metadata": {},
   "outputs": [
    {
     "data": {
      "text/plain": [
       "(array([1452., 2109., 1186.,  792.,  593.,  471.,  436.,  419.,  402.,\n",
       "         359.,  345.,  342.,  317.,  317.,  297.,  299.,  304.,  296.,\n",
       "         286.,  284.,  261.,  317.,  289.,  271.,  250.,  268.,  243.,\n",
       "         258.,  258.,  252.,  274.,  277.,  260.,  279.,  268.,  277.,\n",
       "         286.,  288.,  235.,  236.,  249.,  256.,  245.,  256.,  233.,\n",
       "         268.,  254.,  256.,  266.,  264.,  266.,  258.,  249.,  237.,\n",
       "         238.,  242.,  263.,  252.,  241.,  279.,  250.,  268.,  272.,\n",
       "         233.,  248.,  239.,  255.,  224.,  242.,  229.,  238.,  216.,\n",
       "         233.,  261.,  243.,  256.,  268.,  214.,  225.,  250.,  246.,\n",
       "         236.,  250.,  251.,  257.,  243.,  257.,  206.,  241.,  247.,\n",
       "         241.,  239.,  264.,  253.,  262.,  250.,  257.,  258.,  274.,\n",
       "         243.]),\n",
       " array([ 0.  ,  0.99,  1.98,  2.97,  3.96,  4.95,  5.94,  6.93,  7.92,\n",
       "         8.91,  9.9 , 10.89, 11.88, 12.87, 13.86, 14.85, 15.84, 16.83,\n",
       "        17.82, 18.81, 19.8 , 20.79, 21.78, 22.77, 23.76, 24.75, 25.74,\n",
       "        26.73, 27.72, 28.71, 29.7 , 30.69, 31.68, 32.67, 33.66, 34.65,\n",
       "        35.64, 36.63, 37.62, 38.61, 39.6 , 40.59, 41.58, 42.57, 43.56,\n",
       "        44.55, 45.54, 46.53, 47.52, 48.51, 49.5 , 50.49, 51.48, 52.47,\n",
       "        53.46, 54.45, 55.44, 56.43, 57.42, 58.41, 59.4 , 60.39, 61.38,\n",
       "        62.37, 63.36, 64.35, 65.34, 66.33, 67.32, 68.31, 69.3 , 70.29,\n",
       "        71.28, 72.27, 73.26, 74.25, 75.24, 76.23, 77.22, 78.21, 79.2 ,\n",
       "        80.19, 81.18, 82.17, 83.16, 84.15, 85.14, 86.13, 87.12, 88.11,\n",
       "        89.1 , 90.09, 91.08, 92.07, 93.06, 94.05, 95.04, 96.03, 97.02,\n",
       "        98.01, 99.  ]),\n",
       " <BarContainer object of 100 artists>)"
      ]
     },
     "execution_count": 258,
     "metadata": {},
     "output_type": "execute_result"
    },
    {
     "data": {
      "image/png": "[encoded data removed]",
      "text/plain": [
       "<Figure size 864x648 with 1 Axes>"
      ]
     },
     "metadata": {
      "needs_background": "light"
     },
     "output_type": "display_data"
    }
   ],
   "source": [
    "plt.hist(jjh3n_rossi, bins=100)"
   ]
  },
  {
   "cell_type": "code",
   "execution_count": 189,
   "id": "efe199ae-1a73-475f-84c0-8f0149a3956c",
   "metadata": {},
   "outputs": [],
   "source": [
    "jjh_combine(jjhdatafolder, \"./data/\", 3)"
   ]
  },
  {
   "cell_type": "code",
   "execution_count": 28,
   "id": "386451d0-fa46-4787-a6cb-95a3081c4178",
   "metadata": {},
   "outputs": [
    {
     "data": {
      "image/png": "[encoded data removed]",
      "text/plain": [
       "<Figure size 864x648 with 1 Axes>"
      ]
     },
     "metadata": {
      "needs_background": "light"
     },
     "output_type": "display_data"
    }
   ],
   "source": [
    "ss=pd.read_csv(rawdatafolder+\"/C3_neutron_rossi.o\", header=None)\n",
    "ss.hist(bins=100)\n",
    "plt.yscale('log')\n"
   ]
  },
  {
   "cell_type": "code",
   "execution_count": 216,
   "id": "26402b9d-ff9e-4f0c-a8ef-670057dd9a4a",
   "metadata": {},
   "outputs": [
    {
     "data": {
      "text/html": [
       "<div>\n",
       "<style scoped>\n",
       "    .dataframe tbody tr th:only-of-type {\n",
       "        vertical-align: middle;\n",
       "    }\n",
       "\n",
       "    .dataframe tbody tr th {\n",
       "        vertical-align: top;\n",
       "    }\n",
       "\n",
       "    .dataframe thead th {\n",
       "        text-align: right;\n",
       "    }\n",
       "</style>\n",
       "<table border=\"1\" class=\"dataframe\">\n",
       "  <thead>\n",
       "    <tr style=\"text-align: right;\">\n",
       "      <th></th>\n",
       "      <th>time</th>\n",
       "      <th>cell</th>\n",
       "      <th>Nhist</th>\n",
       "      <th>origin</th>\n",
       "    </tr>\n",
       "  </thead>\n",
       "  <tbody>\n",
       "    <tr>\n",
       "      <th>0</th>\n",
       "      <td>714.18</td>\n",
       "      <td>342</td>\n",
       "      <td>1077</td>\n",
       "      <td>O</td>\n",
       "    </tr>\n",
       "    <tr>\n",
       "      <th>1</th>\n",
       "      <td>1065.00</td>\n",
       "      <td>128</td>\n",
       "      <td>121</td>\n",
       "      <td>O</td>\n",
       "    </tr>\n",
       "    <tr>\n",
       "      <th>2</th>\n",
       "      <td>1580.90</td>\n",
       "      <td>126</td>\n",
       "      <td>1483</td>\n",
       "      <td>O</td>\n",
       "    </tr>\n",
       "    <tr>\n",
       "      <th>3</th>\n",
       "      <td>1607.40</td>\n",
       "      <td>321</td>\n",
       "      <td>1466</td>\n",
       "      <td>O</td>\n",
       "    </tr>\n",
       "    <tr>\n",
       "      <th>4</th>\n",
       "      <td>3129.00</td>\n",
       "      <td>328</td>\n",
       "      <td>996</td>\n",
       "      <td>O</td>\n",
       "    </tr>\n",
       "    <tr>\n",
       "      <th>...</th>\n",
       "      <td>...</td>\n",
       "      <td>...</td>\n",
       "      <td>...</td>\n",
       "      <td>...</td>\n",
       "    </tr>\n",
       "    <tr>\n",
       "      <th>1531</th>\n",
       "      <td>1896464.00</td>\n",
       "      <td>326</td>\n",
       "      <td>705</td>\n",
       "      <td>O</td>\n",
       "    </tr>\n",
       "    <tr>\n",
       "      <th>1532</th>\n",
       "      <td>1897194.00</td>\n",
       "      <td>343</td>\n",
       "      <td>842</td>\n",
       "      <td>O</td>\n",
       "    </tr>\n",
       "    <tr>\n",
       "      <th>1533</th>\n",
       "      <td>1898486.00</td>\n",
       "      <td>226</td>\n",
       "      <td>746</td>\n",
       "      <td>O</td>\n",
       "    </tr>\n",
       "    <tr>\n",
       "      <th>1534</th>\n",
       "      <td>1899102.00</td>\n",
       "      <td>343</td>\n",
       "      <td>625</td>\n",
       "      <td>O</td>\n",
       "    </tr>\n",
       "    <tr>\n",
       "      <th>1535</th>\n",
       "      <td>1899749.00</td>\n",
       "      <td>242</td>\n",
       "      <td>592</td>\n",
       "      <td>O</td>\n",
       "    </tr>\n",
       "  </tbody>\n",
       "</table>\n",
       "<p>1536 rows × 4 columns</p>\n",
       "</div>"
      ],
      "text/plain": [
       "            time  cell  Nhist origin\n",
       "0         714.18   342   1077      O\n",
       "1        1065.00   128    121      O\n",
       "2        1580.90   126   1483      O\n",
       "3        1607.40   321   1466      O\n",
       "4        3129.00   328    996      O\n",
       "...          ...   ...    ...    ...\n",
       "1531  1896464.00   326    705      O\n",
       "1532  1897194.00   343    842      O\n",
       "1533  1898486.00   226    746      O\n",
       "1534  1899102.00   343    625      O\n",
       "1535  1899749.00   242    592      O\n",
       "\n",
       "[1536 rows x 4 columns]"
      ]
     },
     "execution_count": 216,
     "metadata": {},
     "output_type": "execute_result"
    }
   ],
   "source": [
    "dfp"
   ]
  },
  {
   "cell_type": "code",
   "execution_count": 220,
   "id": "eab92f4b-abe9-4ba8-93ea-7d5b79b50815",
   "metadata": {},
   "outputs": [
    {
     "data": {
      "text/plain": [
       "0    714\n",
       "dtype: int64"
      ]
     },
     "execution_count": 220,
     "metadata": {},
     "output_type": "execute_result"
    }
   ],
   "source": [
    "ss.min()"
   ]
  },
  {
   "cell_type": "code",
   "execution_count": null,
   "id": "dd2b6bca-145f-4fee-bbd9-16271f498925",
   "metadata": {},
   "outputs": [],
   "source": []
  }
 ],
 "metadata": {
  "kernelspec": {
   "display_name": "Python 3",
   "language": "python",
   "name": "python3"
  },
  "language_info": {
   "codemirror_mode": {
    "name": "ipython",
    "version": 3
   },
   "file_extension": ".py",
   "mimetype": "text/x-python",
   "name": "python",
   "nbconvert_exporter": "python",
   "pygments_lexer": "ipython3",
   "version": "3.8.10"
  }
 },
 "nbformat": 4,
 "nbformat_minor": 5
}
