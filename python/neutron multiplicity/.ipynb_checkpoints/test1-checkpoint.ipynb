{
 "cells": [
  {
   "cell_type": "code",
   "execution_count": 1,
   "id": "0397bd51",
   "metadata": {},
   "outputs": [],
   "source": [
    "%matplotlib inline\n",
    "#%matplotlib notebook\n",
    "#%matplotlib widget\n",
    "import matplotlib \n",
    "import numpy as np\n",
    "import pandas as pd\n",
    "import os, sys, time, random\n",
    "#import ipywidgets\n",
    "from mpl_toolkits.mplot3d import Axes3D\n",
    "import matplotlib.pyplot as plt\n",
    "from matplotlib import cm\n",
    "from matplotlib.ticker import LinearLocator, FormatStrFormatter\n",
    "from mpl_toolkits.mplot3d.art3d import Poly3DCollection    \n",
    " \n",
    "# use LaTeX, choose nice some looking fonts and tweak some settings\n",
    "matplotlib.rc('font', family='serif')\n",
    "matplotlib.rc('font', size=16)\n",
    "matplotlib.rc('legend', fontsize=16)\n",
    "matplotlib.rc('legend', numpoints=1)\n",
    "matplotlib.rc('legend', handlelength=1.5)\n",
    "matplotlib.rc('legend', frameon=True)\n",
    "matplotlib.rc('xtick.major', pad=7)\n",
    "matplotlib.rc('xtick', direction=\"in\")\n",
    "matplotlib.rc('ytick', direction=\"in\")\n",
    "matplotlib.rc('xtick', top = True)\n",
    "matplotlib.rc('ytick', right =True )\n",
    "matplotlib.rc('xtick.minor', pad=7)\n",
    "matplotlib.rc('text', usetex=True)\n",
    "# matplotlib.rc('text.latex', \n",
    "#               preamble=[r'\\usepackage[T1]{fontenc}',\n",
    "#                         r'\\usepackage{amsmath}',\n",
    "#                         r'\\usepackage{txfonts}',\n",
    "#                         r'\\usepackage{textcomp}'])\n",
    "\n",
    "matplotlib.rc('figure', figsize=(12, 9))\n",
    "\n",
    "import torch\n",
    "import torch.nn as nn\n",
    "import torch.nn.functional as F\n",
    "import torch.optim as optim\n",
    "device = torch.device('cuda:0')"
   ]
  },
  {
   "cell_type": "code",
   "execution_count": 2,
   "id": "6a7fa0ba",
   "metadata": {},
   "outputs": [],
   "source": [
    "rawdatafolder = r\"/home/jiyongso/jhjeon/multiplicity\"\n",
    "pkldatafolder = r\"./data\"\n",
    "\n",
    "fn_pref = 'C1_1'\n",
    "# Original ptrac file name. For memory.\n",
    "file0 = fn_pref+'.p'\n",
    "\n",
    "# file0 로부터 필요한 결과만 추출하여 정리한 파일의 이름들.\n",
    "fn_carbon = fn_pref+'_carbon.o'\n",
    "fn_proton = fn_pref+'_proton.o'\n",
    "fn_photoelectric = fn_pref+'_photoelectric.o'\n",
    "file_compton = fn_pref+'_compton.o'\n",
    "\n",
    "\n"
   ]
  },
  {
   "cell_type": "code",
   "execution_count": 3,
   "id": "102218f4",
   "metadata": {},
   "outputs": [],
   "source": [
    "def endp(x):\n",
    "    return x.endswith(\".p\")\n",
    "\n",
    "def get_pfile_names(dirpath):\n",
    "    _, _, filelist = next(os.walk(dirpath))\n",
    "    \n",
    "    return list(filter(endp, filelist))\n",
    "    \n",
    "def ptrac_anaysis1(fn):\n",
    "    \"\"\"\n",
    "    Carbon, Proton, Photoelectron, Compton\n",
    "    \"\"\"\n",
    "    l_carbon=[]\n",
    "    l_proton=[]\n",
    "    l_photoelectric=[]\n",
    "    l_compton = []\n",
    "    h=1\n",
    "    status = {\"carbon\" : False, \"proton\" : False, \"electron\" : False, \"compton\" : False}\n",
    "    with open(os.path.join(rawdatafolder, fn)) as ff:\n",
    "        for ln, line1 in enumerate(ff):\n",
    "#             if ln > 2000:\n",
    "#                 break\n",
    "            if ln < 14:\n",
    "                continue\n",
    "            if ln == 14 :\n",
    "                print(line1) \n",
    "            \n",
    "            l1 = line1.split()\n",
    "            if len(l1)< 7 :\n",
    "                # start line of history\n",
    "                if l1[1] == '1000' :\n",
    "                    h+=1\n",
    "                    continue\n",
    "            else :\n",
    "                line2 = next(ff)\n",
    "                l2 = line2.split()\n",
    "            \n",
    "            ### carbon scattering\n",
    "            if l1[2] == '6000' and l1[4] == '1':  \n",
    "                l_carbon.append([float(l2[8]), int(l1[5]), h])\n",
    "                \n",
    "            ### proton production\n",
    "            if status[\"proton\"] and l1[4] == '9':  \n",
    "                l_proton.append([float(l2[8]), int(l1[5]), h])     \n",
    "                            \n",
    "            if l1[0] == '2030' :\n",
    "                status[\"proton\"] = True\n",
    "            else :\n",
    "                status[\"proton\"] = False\n",
    "            \n",
    "            ### electron production\n",
    "            \n",
    "            if status[\"electron\"] and l1[4] == '3': \n",
    "                l_photoelectric.append([float(l2[8]), int(l1[5]), h])\n",
    " \n",
    "            if l1[0] == '2011' and l1[4] == '2' :\n",
    "                status[\"electron\"] = True\n",
    "            else :\n",
    "                status[\"electron\"] = False\n",
    "            \n",
    "            ### compton scattering\n",
    " \n",
    "            if status[\"compton\"] and l1[4] == '3':\n",
    "                l_compton.append([float(l2[8]) , int(l1[5]), int(h)])       \n",
    "            \n",
    "            if l1[0] == '2012' and l1[4] == '2':\n",
    "                status[\"compton\"] = True\n",
    "            else :\n",
    "                status[\"compton\"] = False\n",
    "            \n",
    "                \n",
    "        df_carbon = pd.DataFrame({\"time\": [ll[0] for ll in l_carbon], \n",
    "                               \"cell\" : [ll[1] for ll in l_carbon], \n",
    "                               \"Nhist\": [ll[2] for ll in l_carbon]})\n",
    "        df_proton = pd.DataFrame({\"time\": [ll[0] for ll in l_proton], \n",
    "                               \"cell\" : [ll[1] for ll in l_proton], \n",
    "                               \"Nhist\": [ll[2] for ll in l_proton]})\n",
    "        df_photoelectric = pd.DataFrame({\"time\": [ll[0] for ll in l_photoelectric], \n",
    "                               \"cell\" : [ll[1] for ll in l_photoelectric], \n",
    "                               \"Nhist\": [ll[2] for ll in l_photoelectric]})\n",
    "        df_compton = pd.DataFrame({\"time\": [ll[0] for ll in l_compton], \n",
    "                               \"cell\" : [ll[1] for ll in l_compton], \n",
    "                               \"Nhist\": [ll[2] for ll in l_compton]})\n",
    "        \n",
    "        \n",
    "        \n",
    "        return df_carbon, df_proton, df_photoelectric, df_compton\n",
    "\n",
    "def ptrac_anaysis2(fn):\n",
    "    \"\"\"\n",
    "    Neutron, photon(gamma)\n",
    "    \"\"\"\n",
    "    \n",
    "    l_neutron=[]\n",
    "    l_photon=[]\n",
    "\n",
    "    h=1\n",
    "    status = {\"carbon\" : False, \"proton\" : False, \"electron\" : False, \"compton\" : False}\n",
    "    with open(os.path.join(rawdatafolder, fn)) as ff:\n",
    "        for ln, line1 in enumerate(ff):\n",
    "#             if ln > 2000:\n",
    "#                 break\n",
    "            if ln < 14:\n",
    "                continue\n",
    "            if ln == 14 :\n",
    "                print(line1) \n",
    "            \n",
    "            l1 = line1.split()\n",
    "            if len(l1)< 7 :\n",
    "                # start line of history\n",
    "                if l1[1] == '1000' :\n",
    "                    h+=1\n",
    "                    continue\n",
    "            else :\n",
    "                line2 = next(ff)\n",
    "                l2 = line2.split()\n",
    "            \n",
    "            ### carbon scattering\n",
    "            if l1[2] == '6000' and l1[4] == '1':  \n",
    "                l_neutron.append([float(l2[8]), int(l1[5]), h])\n",
    "                \n",
    "            ### proton production\n",
    "            if status[\"proton\"] and l1[4] == '9':  \n",
    "                l_neutron.append([float(l2[8]), int(l1[5]), h])     \n",
    "                            \n",
    "            if l1[0] == '2030' :\n",
    "                status[\"proton\"] = True\n",
    "            else :\n",
    "                status[\"proton\"] = False\n",
    "            \n",
    "            ### electron production\n",
    "            \n",
    "            if status[\"electron\"] and l1[4] == '3': \n",
    "                l_photon.append([float(l2[8]), int(l1[5]), h])\n",
    " \n",
    "            if l1[0] == '2011' and l1[4] == '2' :\n",
    "                status[\"electron\"] = True\n",
    "            else :\n",
    "                status[\"electron\"] = False\n",
    "            \n",
    "            ### compton scattering\n",
    " \n",
    "            if status[\"compton\"] and l1[4] == '3':\n",
    "                l_photon.append([float(l2[8]) , int(l1[5]), int(h)])       \n",
    "            \n",
    "            if l1[0] == '2012' and l1[4] == '2':\n",
    "                status[\"compton\"] = True\n",
    "            else :\n",
    "                status[\"compton\"] = False\n",
    "            \n",
    "                \n",
    "        df_neutron = pd.DataFrame({\"time\": [ll[0] for ll in l_neutron], \n",
    "                               \"cell\" : [ll[1] for ll in l_neutron], \n",
    "                               \"Nhist\": [ll[2] for ll in l_neutron]})\n",
    "        df_photon = pd.DataFrame({\"time\": [ll[0] for ll in l_photon], \n",
    "                               \"cell\" : [ll[1] for ll in l_photon], \n",
    "                               \"Nhist\": [ll[2] for ll in l_photon]})\n",
    "        \n",
    "        \n",
    "        return df_neutron, df_photon\n",
    "    \n",
    "def ptrac_reduce(df):\n",
    "    return df.drop_duplicates(subset=[\"cell\", \"Nhist\"], keep=\"first\")\n",
    "\n",
    "\n",
    "def ptrac_analysys_reduce(inid, tid):\n",
    "    prefix=\"C\"+str(inid)+\"_\"+str(tid)\n",
    "    fn = prefix+\".p\"\n",
    "    ln, lp = ptrac_anaysis2(fn)\n",
    "    lnr=ptrac_reduce(ln)\n",
    "    lpr=ptrac_reduce(lp)\n",
    "    \n",
    "    return (prefix, lnr, lpr)\n",
    "\n",
    "def ptrac_reduce_save(inid, tid):\n",
    "    prefix, lnr, lpr = ptrac_analysys_reduce(inid, tid)\n",
    "    lnr.to_pickle(os.path.join(pkldatafolder, prefix+\"_neutron.pkl\"))\n",
    "    lpr.to_pickle(os.path.join(pkldatafolder, prefix+\"_photon.pkl\"))\n",
    "\n",
    "def ptrac_analysis_reduce_all(num=1):\n",
    "    prefix=\"C\"+str(num)+\"_\"\n",
    "    finalresult = {}\n",
    "\n",
    "    for i in range(1, 11):\n",
    "        fn = prefix+str(i)+\".p\"\n",
    "        print(fn+\" start.\")\n",
    "        ln, lp = ptrac_anaysis2(fn)\n",
    "        finalresult[prefix+str(i)+\"_neutron\"]=ptrac_reduce(ln)\n",
    "        finalresult[prefix+str(i)+\"_photon\"]=ptrac_reduce(lp)\n",
    "\n",
    "    return finalresult\n",
    "\n",
    "\n",
    "def ptrac_combine(inid):\n",
    "    fnprefix = \"C\"+str(inid)\n",
    "    _, _, filelist= list(os.walk(pkldatafolder))[0]\n",
    "    files1 = [l for l in filelist if l.startswith(\"C\"+str(inid))]\n",
    "    files = [l for l in filelist if l.endswith(\"pkl\")]\n",
    "    neutrons={}\n",
    "    photons={}\n",
    "    for filename in files:\n",
    "        tdf = pd.read_pickle(os.path.join(pkldatafolder, filename))\n",
    "        kid = int(filename.split(\"_\")[1])\n",
    "        tdf[\"time\"]=tdf[\"time\"]+100000*(kid-1)\n",
    "        if filename[:-4].endswith(\"neutron\"):\n",
    "            neutrons[filename[:-4]]=tdf\n",
    "        elif filename[:-4].endswith(\"photon\"):\n",
    "            photons[filename[:-4]]=tdf\n",
    "    \n",
    "    dfn = pd.concat(list(neutrons.values()))\n",
    "    dfp = pd.concat(list(photons.values()))\n",
    "    \n",
    "    valid_cell = {121, 122, 123, 124, 125, 126, 127, 128, 129, 141, 142, 143, \n",
    "                 221, 222, 223, 224, 225, 226, 227, 228, 229, 241, 242, 243, \n",
    "                 321, 322, 323, 324, 325, 326, 327, 328, 329, 341, 342, 343} \n",
    "    \n",
    "    n_cell = set(dfn[\"cell\"].unique())\n",
    "    p_cell = set(dfn[\"cell\"].unique())\n",
    "    \n",
    "    nn0, pp0 = n_cell- valid_cell, p_cell-valid_cell\n",
    "    if len(nn0)>0 :\n",
    "        for nn in nn0:\n",
    "            dfn = dfn[dfn[\"cell\"]!=nn]\n",
    "    if len(pp0)>0 :\n",
    "        for pp in pp0 :\n",
    "            dfp = dfp[dfp[\"cell\"]!=pp]\n",
    "    \n",
    "    dfn.sort_values(\"time\", inplace=True, ignore_index=True)\n",
    "    dfp.sort_values(\"time\", inplace=True, ignore_index=True)\n",
    "    return dfn, dfp\n",
    "\n",
    "\n",
    "def ptrac_rossy(df):\n",
    "    tdata = df[\"time\"].to_numpy()\n",
    "    print(tdata)\n",
    "    result = []\n",
    "    i=1\n",
    "    while True :\n",
    "        ts = tdata[i:]-tdata[:-i]\n",
    "        if (ts<100).any():\n",
    "            result.append(ts[ts<100])\n",
    "            i+=1\n",
    "        else :\n",
    "            break\n",
    "    return result\n",
    "        \n",
    "    \n",
    "    \n",
    "    \n",
    "    \n",
    "    \n",
    "    "
   ]
  },
  {
   "cell_type": "code",
   "execution_count": 138,
   "id": "99ab6fbc-bff2-43f4-9f0a-faa1014c1214",
   "metadata": {},
   "outputs": [
    {
     "name": "stdout",
     "output_type": "stream",
     "text": [
      "          3      1000         0         8  1.00000E+00\n",
      "\n",
      "79.18606781959534\n"
     ]
    }
   ],
   "source": [
    "# t1=time.time()\n",
    "# lca, lpr, lph, lcp=ptrac_anaysis1(file0)\n",
    "# print(time.time()-t1)"
   ]
  },
  {
   "cell_type": "code",
   "execution_count": 4,
   "id": "88253f4e-f60c-464d-abfd-f00faa74fb65",
   "metadata": {},
   "outputs": [],
   "source": [
    "nn, pp = ptrac_combine(1)"
   ]
  },
  {
   "cell_type": "code",
   "execution_count": 5,
   "id": "b99b9fbd-4f49-4ad4-8d50-d2e98dce6985",
   "metadata": {},
   "outputs": [
    {
     "name": "stdout",
     "output_type": "stream",
     "text": [
      "[1.80870e-01 1.87800e-01 1.92980e-01 ... 1.38975e+10 1.60906e+10\n",
      " 3.46943e+10]\n"
     ]
    }
   ],
   "source": [
    "nrossy = ptrac_rossy(nn)"
   ]
  },
  {
   "cell_type": "code",
   "execution_count": 6,
   "id": "f1cd6160-fe93-4822-8376-62daabadf4e7",
   "metadata": {},
   "outputs": [],
   "source": [
    "qq = np.concatenate(nrossy)"
   ]
  },
  {
   "cell_type": "code",
   "execution_count": 8,
   "id": "4bee389f-6a7e-4a2c-b23b-dd205bf3ee62",
   "metadata": {},
   "outputs": [
    {
     "data": {
      "image/png": "[encoded data removed]",
      "text/plain": [
       "<Figure size 864x648 with 1 Axes>"
      ]
     },
     "metadata": {
      "needs_background": "light"
     },
     "output_type": "display_data"
    }
   ],
   "source": [
    "plt.hist(qq, bins=1000)\n",
    "plt.yscale('log')"
   ]
  },
  {
   "cell_type": "code",
   "execution_count": 218,
   "id": "c163db26-4a0a-452f-b10c-95773662feb6",
   "metadata": {},
   "outputs": [
    {
     "data": {
      "image/png": "[encoded data removed]",
      "text/plain": [
       "<Figure size 864x648 with 1 Axes>"
      ]
     },
     "metadata": {
      "needs_background": "light"
     },
     "output_type": "display_data"
    }
   ],
   "source": [
    "plt.plot(td[29150:]-td[:-29150])\n",
    "plt.yscale('log')"
   ]
  },
  {
   "cell_type": "code",
   "execution_count": 143,
   "id": "d3972f96-526b-4457-baeb-62c7396c5c72",
   "metadata": {},
   "outputs": [
    {
     "data": {
      "image/png": "[encoded data removed]",
      "text/plain": [
       "<Figure size 864x648 with 1 Axes>"
      ]
     },
     "metadata": {
      "needs_background": "light"
     },
     "output_type": "display_data"
    }
   ],
   "source": [
    "nn.hist(\"time\", bins=100)\n",
    "plt.yscale(\"log\")"
   ]
  },
  {
   "cell_type": "code",
   "execution_count": 134,
   "id": "4ec5400a-5b8e-41fa-a313-0ec1c447295c",
   "metadata": {},
   "outputs": [
    {
     "data": {
      "text/html": [
       "<div>\n",
       "<style scoped>\n",
       "    .dataframe tbody tr th:only-of-type {\n",
       "        vertical-align: middle;\n",
       "    }\n",
       "\n",
       "    .dataframe tbody tr th {\n",
       "        vertical-align: top;\n",
       "    }\n",
       "\n",
       "    .dataframe thead th {\n",
       "        text-align: right;\n",
       "    }\n",
       "</style>\n",
       "<table border=\"1\" class=\"dataframe\">\n",
       "  <thead>\n",
       "    <tr style=\"text-align: right;\">\n",
       "      <th></th>\n",
       "      <th>time</th>\n",
       "      <th>cell</th>\n",
       "      <th>Nhist</th>\n",
       "    </tr>\n",
       "  </thead>\n",
       "  <tbody>\n",
       "    <tr>\n",
       "      <th>15314</th>\n",
       "      <td>1.808700e-01</td>\n",
       "      <td>126</td>\n",
       "      <td>13443</td>\n",
       "    </tr>\n",
       "    <tr>\n",
       "      <th>12955</th>\n",
       "      <td>1.878000e-01</td>\n",
       "      <td>343</td>\n",
       "      <td>11396</td>\n",
       "    </tr>\n",
       "    <tr>\n",
       "      <th>37223</th>\n",
       "      <td>1.929800e-01</td>\n",
       "      <td>125</td>\n",
       "      <td>32538</td>\n",
       "    </tr>\n",
       "    <tr>\n",
       "      <th>2289</th>\n",
       "      <td>2.036700e-01</td>\n",
       "      <td>125</td>\n",
       "      <td>1940</td>\n",
       "    </tr>\n",
       "    <tr>\n",
       "      <th>43854</th>\n",
       "      <td>2.075800e-01</td>\n",
       "      <td>121</td>\n",
       "      <td>38443</td>\n",
       "    </tr>\n",
       "    <tr>\n",
       "      <th>...</th>\n",
       "      <td>...</td>\n",
       "      <td>...</td>\n",
       "      <td>...</td>\n",
       "    </tr>\n",
       "    <tr>\n",
       "      <th>25674</th>\n",
       "      <td>1.360970e+10</td>\n",
       "      <td>228</td>\n",
       "      <td>22618</td>\n",
       "    </tr>\n",
       "    <tr>\n",
       "      <th>25686</th>\n",
       "      <td>1.360970e+10</td>\n",
       "      <td>328</td>\n",
       "      <td>22618</td>\n",
       "    </tr>\n",
       "    <tr>\n",
       "      <th>41112</th>\n",
       "      <td>1.389750e+10</td>\n",
       "      <td>323</td>\n",
       "      <td>35986</td>\n",
       "    </tr>\n",
       "    <tr>\n",
       "      <th>31477</th>\n",
       "      <td>1.609060e+10</td>\n",
       "      <td>224</td>\n",
       "      <td>28175</td>\n",
       "    </tr>\n",
       "    <tr>\n",
       "      <th>13838</th>\n",
       "      <td>3.469430e+10</td>\n",
       "      <td>225</td>\n",
       "      <td>12211</td>\n",
       "    </tr>\n",
       "  </tbody>\n",
       "</table>\n",
       "<p>301896 rows × 3 columns</p>\n",
       "</div>"
      ],
      "text/plain": [
       "               time  cell  Nhist\n",
       "15314  1.808700e-01   126  13443\n",
       "12955  1.878000e-01   343  11396\n",
       "37223  1.929800e-01   125  32538\n",
       "2289   2.036700e-01   125   1940\n",
       "43854  2.075800e-01   121  38443\n",
       "...             ...   ...    ...\n",
       "25674  1.360970e+10   228  22618\n",
       "25686  1.360970e+10   328  22618\n",
       "41112  1.389750e+10   323  35986\n",
       "31477  1.609060e+10   224  28175\n",
       "13838  3.469430e+10   225  12211\n",
       "\n",
       "[301896 rows x 3 columns]"
      ]
     },
     "execution_count": 134,
     "metadata": {},
     "output_type": "execute_result"
    }
   ],
   "source": [
    "nn"
   ]
  },
  {
   "cell_type": "code",
   "execution_count": 114,
   "id": "057c993e-8f11-4a7e-90dc-5cdf75465d32",
   "metadata": {},
   "outputs": [
    {
     "data": {
      "text/plain": [
       "array([123, 341, 326, 228, 324, 241, 125, 222, 122, 226, 143, 224, 321,\n",
       "       142, 129, 328, 126, 121, 225, 141, 243, 229, 242, 323, 343, 342,\n",
       "       322, 124, 127, 327, 325, 128, 221, 329, 223, 227])"
      ]
     },
     "execution_count": 114,
     "metadata": {},
     "output_type": "execute_result"
    }
   ],
   "source": [
    "nn[\"cell\"].unique()"
   ]
  },
  {
   "cell_type": "code",
   "execution_count": 113,
   "id": "f3fa6a7a-e8a6-4637-ac12-4ffc0381c4b0",
   "metadata": {},
   "outputs": [
    {
     "data": {
      "image/png": "[encoded data removed]",
      "text/plain": [
       "<Figure size 864x648 with 1 Axes>"
      ]
     },
     "metadata": {
      "needs_background": "light"
     },
     "output_type": "display_data"
    }
   ],
   "source": [
    "nn.hist(\"cell\", bins=np.arange(121, 344))\n",
    "plt.yscale('log')"
   ]
  },
  {
   "cell_type": "code",
   "execution_count": 85,
   "id": "e87182cc-d003-4c3f-8354-f0aa0cd20d34",
   "metadata": {},
   "outputs": [
    {
     "name": "stdout",
     "output_type": "stream",
     "text": [
      "          3      1000         0         8  1.00000E+00\n",
      "\n",
      "79.95544338226318\n"
     ]
    }
   ],
   "source": [
    "t1=time.time()\n",
    "ln, lp = ptrac_anaysis2(file0)\n",
    "print(time.time()-t1)"
   ]
  },
  {
   "cell_type": "code",
   "execution_count": 8,
   "id": "2d74269e-637a-4757-b186-be2f097f85f0",
   "metadata": {},
   "outputs": [
    {
     "name": "stdout",
     "output_type": "stream",
     "text": [
      "          3      1000         0         8  1.00000E+00\n",
      "\n",
      "1249.073888540268\n"
     ]
    }
   ],
   "source": [
    "t1=time.time()\n",
    "ptrac_combine_save(1, 3)\n",
    "print(time.time()-t1)"
   ]
  },
  {
   "cell_type": "code",
   "execution_count": 9,
   "id": "8fa7388d-2a22-45dc-b9b1-3914872b2187",
   "metadata": {},
   "outputs": [
    {
     "name": "stdout",
     "output_type": "stream",
     "text": [
      "          1      1000         0         8  1.00000E+00\n",
      "\n",
      "1304.7726390361786\n",
      "          3      1000         0         8  1.00000E+00\n",
      "\n",
      "1395.1680355072021\n",
      "          1      1000         0         8  1.00000E+00\n",
      "\n",
      "1501.0007464885712\n",
      "          2      1000         0         8  1.00000E+00\n",
      "\n",
      "1541.7056803703308\n",
      "          1      1000         0         8  1.00000E+00\n",
      "\n",
      "1621.9005949497223\n",
      "          3      1000         0         8  1.00000E+00\n",
      "\n",
      "1701.4434967041016\n",
      "          1      1000         0         8  1.00000E+00\n",
      "\n",
      "1788.7790625095367\n"
     ]
    }
   ],
   "source": [
    "for i in range (4, 11):\n",
    "    t1=time.time()\n",
    "    ptrac_combine_save(1, i)\n",
    "    print(time.time()-t1)"
   ]
  },
  {
   "cell_type": "code",
   "execution_count": 5,
   "id": "5d0d631c-0ca8-415e-a2ee-86f0f25a6d98",
   "metadata": {},
   "outputs": [],
   "source": [
    "c1ingot={}\n",
    "for i in range(1, 11):\n",
    "    nname=\"C1_\"+str(i)+\"_neutron\"\n",
    "    pname=\"C1_\"+str(i)+\"_photon\"\n",
    "    c1ingot[nname]=pd.read_pickle(nname+\".pkl\")\n",
    "    c1ingot[pname]=pd.read_pickle(pname+\".pkl\")"
   ]
  },
  {
   "cell_type": "code",
   "execution_count": 6,
   "id": "2dd53443-bcc0-489c-ab95-566bd5fbd301",
   "metadata": {},
   "outputs": [
    {
     "data": {
      "text/plain": [
       "{'C1_1_neutron':            time  cell  Nhist\n",
       " 0       1.45420   243      2\n",
       " 1       0.83894   329      5\n",
       " 2       1.56780   323      6\n",
       " 3       2.15450   322      6\n",
       " 4       8.91700   122      6\n",
       " ...         ...   ...    ...\n",
       " 49917  15.59600   322  43687\n",
       " 49919   0.53151   126  43688\n",
       " 49922   1.94390   126  43689\n",
       " 49923   0.80820   122  43690\n",
       " 49924   1.48290   125  43690\n",
       " \n",
       " [30507 rows x 3 columns],\n",
       " 'C1_1_photon':              time  cell  Nhist\n",
       " 0        0.170020     1      2\n",
       " 27       0.806250     1      3\n",
       " 51       0.139780     1      4\n",
       " 78       0.263320     1      5\n",
       " 105      1.378800     1      6\n",
       " ...           ...   ...    ...\n",
       " 1414396  0.755870     1  43686\n",
       " 1414407  0.053298     1  43687\n",
       " 1414468  1.023600     1  43688\n",
       " 1414483  0.147330     1  43689\n",
       " 1414504  0.012935     1  43690\n",
       " \n",
       " [46199 rows x 3 columns],\n",
       " 'C1_2_neutron':            time  cell  Nhist\n",
       " 0       0.72268   128      2\n",
       " 1      11.85200   127      3\n",
       " 2      83.06000   122      3\n",
       " 3       9.38910   243      5\n",
       " 5       1.56110   322      7\n",
       " ...         ...   ...    ...\n",
       " 49288   0.94047   222  43312\n",
       " 49290   0.70351   324  43313\n",
       " 49291   1.30150   127  43315\n",
       " 49293   4.87370   225  43315\n",
       " 49294   0.60651   128  43315\n",
       " \n",
       " [29893 rows x 3 columns],\n",
       " 'C1_2_photon':              time  cell  Nhist\n",
       " 0        0.212790     1      2\n",
       " 32       1.963000     1      3\n",
       " 82       0.655120     1      4\n",
       " 99       4.221700     1      5\n",
       " 124      0.245530     1      6\n",
       " ...           ...   ...    ...\n",
       " 1411106  0.076910     1  43313\n",
       " 1411128  0.695660     1  43314\n",
       " 1411142  2.176000     1  43315\n",
       " 1411174  0.016520     1  43316\n",
       " 1411205  0.054265     1  43317\n",
       " \n",
       " [45877 rows x 3 columns],\n",
       " 'C1_3_neutron':              time  cell  Nhist\n",
       " 0         0.35965   225      2\n",
       " 1         0.96207   123      3\n",
       " 2         1.62200   243      4\n",
       " 3         1.41010   241      7\n",
       " 4         3.98710   228      8\n",
       " ...           ...   ...    ...\n",
       " 49124     1.04670   121  43777\n",
       " 49125     4.75240   323  43779\n",
       " 49128     5.14960   142  43779\n",
       " 49129  2680.90000   343  43779\n",
       " 49130     0.84181   226  43780\n",
       " \n",
       " [30088 rows x 3 columns],\n",
       " 'C1_3_photon':              time  cell  Nhist\n",
       " 0        0.012268     1      2\n",
       " 16       0.250660     1      3\n",
       " 45       0.113360     1      4\n",
       " 63       0.110330     1      5\n",
       " 83       0.194450     1      6\n",
       " ...           ...   ...    ...\n",
       " 1414691  0.120750     1  43777\n",
       " 1414704  0.005834     1  43778\n",
       " 1414727  0.090667     1  43779\n",
       " 1414738  0.041998   323  43779\n",
       " 1414746  0.004249     1  43780\n",
       " \n",
       " [46320 rows x 3 columns],\n",
       " 'C1_4_neutron':            time  cell  Nhist\n",
       " 0       2.65330   326      3\n",
       " 1       3.27780   126      3\n",
       " 2       2.02840   129      4\n",
       " 3       1.28310   328      6\n",
       " 4       5.70310   327      7\n",
       " ...         ...   ...    ...\n",
       " 49061   3.79750   242  43585\n",
       " 49062  11.33900   224  43585\n",
       " 49064   0.63438   326  43587\n",
       " 49065  37.84500   141  43588\n",
       " 49073   1.24770   122  43589\n",
       " \n",
       " [30078 rows x 3 columns],\n",
       " 'C1_4_photon':             time  cell  Nhist\n",
       " 0        0.41868     1      2\n",
       " 70       0.87404     1      3\n",
       " 85       0.52311     1      4\n",
       " 119      0.18521     1      5\n",
       " 145      0.11343     1      6\n",
       " ...          ...   ...    ...\n",
       " 1415434  0.85309     1  43588\n",
       " 1415450  1.72380     1  43589\n",
       " 1415520  0.16874     1  43590\n",
       " 1415529  0.75702     1  43591\n",
       " 1415556  0.32275     1  43592\n",
       " \n",
       " [46128 rows x 3 columns],\n",
       " 'C1_5_neutron':           time  cell  Nhist\n",
       " 0      0.98751   326      2\n",
       " 1      1.35300   142      5\n",
       " 2      1.06030   324      8\n",
       " 3      2.17540   124      8\n",
       " 4      1.86330   342     12\n",
       " ...        ...   ...    ...\n",
       " 49230  0.55926   126  43479\n",
       " 49231  5.42890   328  43481\n",
       " 49233  1.28430   121  43482\n",
       " 49234  0.65100   342  43482\n",
       " 49235  0.64943   324  43483\n",
       " \n",
       " [30224 rows x 3 columns],\n",
       " 'C1_5_photon':              time  cell  Nhist\n",
       " 0        2.121800     1      2\n",
       " 20       0.759020     1      3\n",
       " 72       0.184310     1      4\n",
       " 100      0.095183     1      5\n",
       " 122      1.323600     1      6\n",
       " ...           ...   ...    ...\n",
       " 1411655  0.031886     1  43481\n",
       " 1411692  0.173330     1  43482\n",
       " 1411710  0.005841     1  43483\n",
       " 1411717  0.140510     1  43484\n",
       " 1411741  0.383960     1  43485\n",
       " \n",
       " [46018 rows x 3 columns],\n",
       " 'C1_6_neutron':           time  cell  Nhist\n",
       " 0      0.77414   121      4\n",
       " 4      1.46100   142      4\n",
       " 7      2.31560   323      4\n",
       " 8      0.83331   329      6\n",
       " 9      0.57123   324      8\n",
       " ...        ...   ...    ...\n",
       " 49858  1.11790   227  43658\n",
       " 49861  1.41320   142  43660\n",
       " 49863  1.57110   342  43661\n",
       " 49865  4.23910   141  43666\n",
       " 49866  1.80230   222  43667\n",
       " \n",
       " [30482 rows x 3 columns],\n",
       " 'C1_6_photon':                time  cell  Nhist\n",
       " 0          1.907200     1      2\n",
       " 42         0.954630     1      3\n",
       " 64         0.447580     1      4\n",
       " 102        2.257800     1      5\n",
       " 137        0.014932     1      6\n",
       " ...             ...   ...    ...\n",
       " 1411878  908.530000   222  43667\n",
       " 1411915    0.986550     1  43668\n",
       " 1411961    0.821950     1  43669\n",
       " 1411988    0.429870     1  43670\n",
       " 1412020    1.473000     1  43671\n",
       " \n",
       " [46204 rows x 3 columns],\n",
       " 'C1_7_neutron':              time  cell  Nhist\n",
       " 0         1.48170   142      3\n",
       " 1         5.44720   124      4\n",
       " 4         2.09410   126      5\n",
       " 5         1.18500   321      7\n",
       " 8      1918.80000   224      7\n",
       " ...           ...   ...    ...\n",
       " 49034     0.62164   225  43597\n",
       " 49035     1.11980   324  43600\n",
       " 49036     0.41651   228  43600\n",
       " 49037     1.48190   143  43601\n",
       " 49039     0.49230   329  43604\n",
       " \n",
       " [30001 rows x 3 columns],\n",
       " 'C1_7_photon':              time  cell  Nhist\n",
       " 0        0.014962     1      2\n",
       " 8        0.037364   123      2\n",
       " 12       0.369140     1      3\n",
       " 26       2.064700     1      4\n",
       " 84       0.838530     1      5\n",
       " ...           ...   ...    ...\n",
       " 1413433  0.440110     1  43600\n",
       " 1413456  2.199700     1  43601\n",
       " 1413477  0.013256     1  43602\n",
       " 1413488  1.372800     1  43603\n",
       " 1413510  1.308100     1  43604\n",
       " \n",
       " [46163 rows x 3 columns],\n",
       " 'C1_8_neutron':             time  cell  Nhist\n",
       " 0        0.74281   123      3\n",
       " 1        3.93360   341      5\n",
       " 2        0.36925   326      7\n",
       " 3        1.89200   228     11\n",
       " 4        1.29760   324     12\n",
       " ...          ...   ...    ...\n",
       " 49217    1.34550   127  43491\n",
       " 49218    1.90730   221  43493\n",
       " 49219  358.55000   229  43493\n",
       " 49224    0.68463   143  43494\n",
       " 49225    2.83940   143  43497\n",
       " \n",
       " [30257 rows x 3 columns],\n",
       " 'C1_8_photon':              time  cell  Nhist\n",
       " 0        0.302110     1      2\n",
       " 52       0.135550     1      3\n",
       " 89       0.011758     1      4\n",
       " 97       0.391090     1      5\n",
       " 132      0.049856     1      6\n",
       " ...           ...   ...    ...\n",
       " 1412796  0.285780     1  43493\n",
       " 1412814  0.108280     1  43494\n",
       " 1412862  0.153910     1  43495\n",
       " 1412953  0.411810     1  43496\n",
       " 1413013  2.375000     1  43497\n",
       " \n",
       " [45931 rows x 3 columns],\n",
       " 'C1_9_neutron':             time  cell  Nhist\n",
       " 0        2.87280   323      2\n",
       " 1      893.85000   343      2\n",
       " 2        4.04940   123      3\n",
       " 4        8.81230   225      4\n",
       " 6        0.63578   324      5\n",
       " ...          ...   ...    ...\n",
       " 50000    3.34960   141  43548\n",
       " 50002    6.23890   229  43548\n",
       " 50003   72.47100   227  43548\n",
       " 50004    1.11650   225  43552\n",
       " 50007    0.53079   123  43556\n",
       " \n",
       " [30297 rows x 3 columns],\n",
       " 'C1_9_photon':              time  cell  Nhist\n",
       " 0         0.32811     1      2\n",
       " 60       12.39500     1      3\n",
       " 126       1.33170     1      4\n",
       " 147       0.13114     1      5\n",
       " 188       0.13641     1      6\n",
       " ...           ...   ...    ...\n",
       " 1413728   0.26371     1  43552\n",
       " 1413733   0.12270     1  43553\n",
       " 1413760   0.60956     1  43554\n",
       " 1413781   0.25692     1  43555\n",
       " 1413834   0.27619     1  43556\n",
       " \n",
       " [46048 rows x 3 columns],\n",
       " 'C1_10_neutron':            time  cell  Nhist\n",
       " 0       2.70900   228      2\n",
       " 2      18.12800   329      3\n",
       " 3       5.12870   128      7\n",
       " 4       0.83286   323      8\n",
       " 5       1.36710   224      9\n",
       " ...         ...   ...    ...\n",
       " 49372   5.75570   242  43571\n",
       " 49374   4.91160   129  43572\n",
       " 49375   3.74530   228  43573\n",
       " 49377   1.30830   325  43573\n",
       " 49378   0.78480   322  43576\n",
       " \n",
       " [30069 rows x 3 columns],\n",
       " 'C1_10_photon':              time  cell  Nhist\n",
       " 0        0.334520     1      2\n",
       " 37       5.592900     1      3\n",
       " 82       0.264150     1      4\n",
       " 127      0.013400     1      5\n",
       " 144      0.082035     1      6\n",
       " ...           ...   ...    ...\n",
       " 1415469  0.273790     1  43572\n",
       " 1415511  1.539400     1  43573\n",
       " 1415586  0.179430     1  43574\n",
       " 1415608  0.169540     1  43575\n",
       " 1415655  0.025551     1  43576\n",
       " \n",
       " [46082 rows x 3 columns]}"
      ]
     },
     "execution_count": 6,
     "metadata": {},
     "output_type": "execute_result"
    }
   ],
   "source": [
    "c1ingot"
   ]
  },
  {
   "cell_type": "code",
   "execution_count": 7,
   "id": "0c4cf0d6-2c7f-472e-9b09-71e68c1d22be",
   "metadata": {},
   "outputs": [
    {
     "data": {
      "image/png": "[encoded data removed]",
      "text/plain": [
       "<Figure size 864x648 with 1 Axes>"
      ]
     },
     "metadata": {
      "needs_background": "light"
     },
     "output_type": "display_data"
    }
   ],
   "source": [
    "ln2.hist(\"time\", bins=100)\n",
    "plt.yscale('log')"
   ]
  },
  {
   "cell_type": "code",
   "execution_count": 73,
   "id": "416065ab-889a-45ef-94db-ae66f0d64577",
   "metadata": {},
   "outputs": [
    {
     "data": {
      "image/png": "[encoded data removed]",
      "text/plain": [
       "<Figure size 864x648 with 1 Axes>"
      ]
     },
     "metadata": {
      "needs_background": "light"
     },
     "output_type": "display_data"
    }
   ],
   "source": [
    "ln.hist(\"time\", bins=100)\n",
    "plt.yscale('log')"
   ]
  },
  {
   "cell_type": "code",
   "execution_count": 74,
   "id": "40ccea53-117b-46f3-985b-9428e7e9a768",
   "metadata": {},
   "outputs": [
    {
     "data": {
      "text/plain": [
       "12348000000.0"
      ]
     },
     "execution_count": 74,
     "metadata": {},
     "output_type": "execute_result"
    }
   ],
   "source": [
    "ln.time.max()"
   ]
  },
  {
   "cell_type": "code",
   "execution_count": 8,
   "id": "c4b15390-17fb-4724-bb6b-19f4670d285e",
   "metadata": {},
   "outputs": [
    {
     "ename": "NameError",
     "evalue": "name 'filelist' is not defined",
     "output_type": "error",
     "traceback": [
      "\u001b[0;31m---------------------------------------------------------------------------\u001b[0m",
      "\u001b[0;31mNameError\u001b[0m                                 Traceback (most recent call last)",
      "\u001b[0;32m<ipython-input-8-8a12feb06685>\u001b[0m in \u001b[0;36m<module>\u001b[0;34m\u001b[0m\n\u001b[1;32m      1\u001b[0m \u001b[0;32mdef\u001b[0m \u001b[0mendp\u001b[0m\u001b[0;34m(\u001b[0m\u001b[0mx\u001b[0m\u001b[0;34m)\u001b[0m\u001b[0;34m:\u001b[0m\u001b[0;34m\u001b[0m\u001b[0;34m\u001b[0m\u001b[0m\n\u001b[1;32m      2\u001b[0m     \u001b[0;32mreturn\u001b[0m \u001b[0mx\u001b[0m\u001b[0;34m.\u001b[0m\u001b[0mendswith\u001b[0m\u001b[0;34m(\u001b[0m\u001b[0;34m\".p\"\u001b[0m\u001b[0;34m)\u001b[0m\u001b[0;34m\u001b[0m\u001b[0;34m\u001b[0m\u001b[0m\n\u001b[0;32m----> 3\u001b[0;31m \u001b[0mpfiles\u001b[0m \u001b[0;34m=\u001b[0m \u001b[0mlist\u001b[0m\u001b[0;34m(\u001b[0m\u001b[0mfilter\u001b[0m\u001b[0;34m(\u001b[0m\u001b[0mendp\u001b[0m\u001b[0;34m,\u001b[0m \u001b[0mfilelist\u001b[0m\u001b[0;34m)\u001b[0m\u001b[0;34m)\u001b[0m\u001b[0;34m\u001b[0m\u001b[0;34m\u001b[0m\u001b[0m\n\u001b[0m\u001b[1;32m      4\u001b[0m \u001b[0mstr1\u001b[0m\u001b[0;34m=\u001b[0m\u001b[0;34m\"\"\u001b[0m\u001b[0;34m\u001b[0m\u001b[0;34m\u001b[0m\u001b[0m\n\u001b[1;32m      5\u001b[0m \u001b[0;32mfor\u001b[0m \u001b[0mpfile\u001b[0m \u001b[0;32min\u001b[0m \u001b[0mpfiles\u001b[0m \u001b[0;34m:\u001b[0m\u001b[0;34m\u001b[0m\u001b[0;34m\u001b[0m\u001b[0m\n",
      "\u001b[0;31mNameError\u001b[0m: name 'filelist' is not defined"
     ]
    }
   ],
   "source": [
    "def endp(x):\n",
    "    return x.endswith(\".p\")\n",
    "pfiles = list(filter(endp, filelist))\n",
    "str1=\"\"\n",
    "for pfile in pfiles :\n",
    "    f1=open(os.path.join(rawdatafolder, pfile), \"r\")\n",
    "    f1.readline()\n",
    "    f1.readline()\n",
    "    str1+=\"%11s\"%pfile+\" \"+f1.readline()\n",
    "    f1.close()\n",
    "print(str1)"
   ]
  },
  {
   "cell_type": "code",
   "execution_count": 39,
   "id": "15a0bec6-451b-4810-a5bb-14d50e629628",
   "metadata": {},
   "outputs": [
    {
     "data": {
      "text/plain": [
       "480"
      ]
     },
     "execution_count": 39,
     "metadata": {},
     "output_type": "execute_result"
    }
   ],
   "source": [
    "24*20"
   ]
  },
  {
   "cell_type": "code",
   "execution_count": 68,
   "id": "e898215e",
   "metadata": {},
   "outputs": [],
   "source": [
    "result = []\n",
    "i=0\n",
    "j=1\n",
    "for k in range(1, lca.shape[0]):\n",
    "    result.append([lca.iloc[i][\"time\"], lca.iloc[i][\"cell\"], lca.iloc[i][\"Nhist\"]])\n",
    "    while (lca.iloc[i][\"cell\"]==lca.iloc[i+j][\"cell\"]) and (lca.iloc[i][\"Nhist\"]==lca.iloc[i][\"Nhist\"]):\n",
    "        j+=1\n",
    "        k=i+j\n",
    "        if k >= lca.shape[0]-1 :\n",
    "            break\n",
    "    i+=j\n",
    "    j=1\n",
    "    if i>=lca.shape[0]-1:\n",
    "        break\n",
    "        \n",
    "    \n"
   ]
  },
  {
   "cell_type": "code",
   "execution_count": 97,
   "id": "9788c113",
   "metadata": {},
   "outputs": [],
   "source": [
    "lca_reduced = lca.drop_duplicates(subset=[\"Nhist\", \"cell\"], keep=\"first\")\n"
   ]
  },
  {
   "cell_type": "code",
   "execution_count": 108,
   "id": "71aadfe5",
   "metadata": {},
   "outputs": [
    {
     "ename": "AttributeError",
     "evalue": "'Series' object has no attribute 'data'",
     "output_type": "error",
     "traceback": [
      "\u001b[0;31m---------------------------------------------------------------------------\u001b[0m",
      "\u001b[0;31mAttributeError\u001b[0m                            Traceback (most recent call last)",
      "\u001b[0;32m<ipython-input-108-89eac30060d9>\u001b[0m in \u001b[0;36m<module>\u001b[0;34m\u001b[0m\n\u001b[0;32m----> 1\u001b[0;31m \u001b[0mlca_reduced\u001b[0m\u001b[0;34m[\u001b[0m\u001b[0;34m\"time\"\u001b[0m\u001b[0;34m]\u001b[0m\u001b[0;34m.\u001b[0m\u001b[0mdata\u001b[0m\u001b[0;34m\u001b[0m\u001b[0;34m\u001b[0m\u001b[0m\n\u001b[0m",
      "\u001b[0;32m/opt/anaconda3/lib/python3.8/site-packages/pandas/core/generic.py\u001b[0m in \u001b[0;36m__getattr__\u001b[0;34m(self, name)\u001b[0m\n\u001b[1;32m   5463\u001b[0m             \u001b[0;32mif\u001b[0m \u001b[0mself\u001b[0m\u001b[0;34m.\u001b[0m\u001b[0m_info_axis\u001b[0m\u001b[0;34m.\u001b[0m\u001b[0m_can_hold_identifiers_and_holds_name\u001b[0m\u001b[0;34m(\u001b[0m\u001b[0mname\u001b[0m\u001b[0;34m)\u001b[0m\u001b[0;34m:\u001b[0m\u001b[0;34m\u001b[0m\u001b[0;34m\u001b[0m\u001b[0m\n\u001b[1;32m   5464\u001b[0m                 \u001b[0;32mreturn\u001b[0m \u001b[0mself\u001b[0m\u001b[0;34m[\u001b[0m\u001b[0mname\u001b[0m\u001b[0;34m]\u001b[0m\u001b[0;34m\u001b[0m\u001b[0;34m\u001b[0m\u001b[0m\n\u001b[0;32m-> 5465\u001b[0;31m             \u001b[0;32mreturn\u001b[0m \u001b[0mobject\u001b[0m\u001b[0;34m.\u001b[0m\u001b[0m__getattribute__\u001b[0m\u001b[0;34m(\u001b[0m\u001b[0mself\u001b[0m\u001b[0;34m,\u001b[0m \u001b[0mname\u001b[0m\u001b[0;34m)\u001b[0m\u001b[0;34m\u001b[0m\u001b[0;34m\u001b[0m\u001b[0m\n\u001b[0m\u001b[1;32m   5466\u001b[0m \u001b[0;34m\u001b[0m\u001b[0m\n\u001b[1;32m   5467\u001b[0m     \u001b[0;32mdef\u001b[0m \u001b[0m__setattr__\u001b[0m\u001b[0;34m(\u001b[0m\u001b[0mself\u001b[0m\u001b[0;34m,\u001b[0m \u001b[0mname\u001b[0m\u001b[0;34m:\u001b[0m \u001b[0mstr\u001b[0m\u001b[0;34m,\u001b[0m \u001b[0mvalue\u001b[0m\u001b[0;34m)\u001b[0m \u001b[0;34m->\u001b[0m \u001b[0;32mNone\u001b[0m\u001b[0;34m:\u001b[0m\u001b[0;34m\u001b[0m\u001b[0;34m\u001b[0m\u001b[0m\n",
      "\u001b[0;31mAttributeError\u001b[0m: 'Series' object has no attribute 'data'"
     ]
    }
   ],
   "source": [
    "lca_reduced[\"time\"].data"
   ]
  },
  {
   "cell_type": "code",
   "execution_count": 99,
   "id": "6ed18e62",
   "metadata": {},
   "outputs": [
    {
     "name": "stdout",
     "output_type": "stream",
     "text": [
      "1.0733 1.0733\n",
      "2.7386 2.7386\n",
      "24.915 24.915\n",
      "5457.5 5457.5\n",
      "2.0709 2.0709\n",
      "0.39759 0.39759\n",
      "2.9062 2.9062\n",
      "0.93115 0.93115\n",
      "780.62 780.62\n",
      "4571.3 4571.3\n",
      "1.4719 1.4719\n",
      "6.7357 6.7357\n",
      "2.7562 2.7562\n",
      "0.9759 0.9759\n",
      "1.2245 1.2245\n",
      "4.5824 4.5824\n",
      "7.033 7.033\n",
      "2.7882 2.7882\n",
      "2.5738 2.5738\n",
      "0.62638 0.62638\n",
      "0.84448 0.84448\n",
      "1.4896 1.4896\n",
      "5.7593 5.7593\n",
      "160.38 160.38\n",
      "2.1348 2.1348\n",
      "0.72552 0.72552\n",
      "1.7112 1.7112\n",
      "0.75004 0.75004\n",
      "0.37421 0.37421\n",
      "1.6533 1.6533\n",
      "2.5128 2.5128\n",
      "3838.2 3838.2\n",
      "7059.3 7059.3\n",
      "7.0832 7.0832\n",
      "0.88118 0.88118\n",
      "1.4708 1.4708\n",
      "0.67878 0.67878\n",
      "2.1687 2.1687\n",
      "3.7073 3.7073\n",
      "2.7781 2.7781\n",
      "0.71139 0.71139\n",
      "1.2079 1.2079\n",
      "1.4757 1.4757\n",
      "5.4618 5.4618\n",
      "11.181 11.181\n",
      "0.54253 34.634\n",
      "1.4997 0.54253\n",
      "2.764 1.4997\n",
      "3.9494 2.764\n",
      "1.1034 3.9494\n",
      "2.5839 1.1034\n",
      "4.2048 2.5839\n",
      "0.55648 4.2048\n",
      "12.215 0.55648\n",
      "7.4536 12.215\n",
      "3.014 7.4536\n",
      "1.2773 3.014\n",
      "3.3158 1.2773\n",
      "1.7666 3.3158\n",
      "2.4634 1.7666\n"
     ]
    }
   ],
   "source": [
    "for i in range(40, 100):\n",
    "    print(lca_reduced.iloc[i][\"time\"], result[i][0])"
   ]
  },
  {
   "cell_type": "code",
   "execution_count": 102,
   "id": "833972f8",
   "metadata": {},
   "outputs": [],
   "source": [
    "q1=lca[lca[\"time\"]<34.635]\n",
    "q2=q1[q1[\"time\"]>34.633]"
   ]
  },
  {
   "cell_type": "code",
   "execution_count": 43,
   "id": "13702f57",
   "metadata": {},
   "outputs": [
    {
     "data": {
      "text/plain": [
       "9.6"
      ]
     },
     "execution_count": 43,
     "metadata": {},
     "output_type": "execute_result"
    }
   ],
   "source": [
    "20*480/1000"
   ]
  },
  {
   "cell_type": "code",
   "execution_count": null,
   "id": "4a7c0913",
   "metadata": {},
   "outputs": [],
   "source": []
  }
 ],
 "metadata": {
  "kernelspec": {
   "display_name": "Python 3",
   "language": "python",
   "name": "python3"
  },
  "language_info": {
   "codemirror_mode": {
    "name": "ipython",
    "version": 3
   },
   "file_extension": ".py",
   "mimetype": "text/x-python",
   "name": "python",
   "nbconvert_exporter": "python",
   "pygments_lexer": "ipython3",
   "version": "3.8.8"
  }
 },
 "nbformat": 4,
 "nbformat_minor": 5
}
