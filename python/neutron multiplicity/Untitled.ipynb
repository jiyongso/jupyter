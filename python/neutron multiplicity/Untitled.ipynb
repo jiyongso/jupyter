{
 "cells": [
  {
   "cell_type": "code",
   "execution_count": 17,
   "id": "49296f0c-3c59-4080-a26c-e534d1e66479",
   "metadata": {},
   "outputs": [],
   "source": [
    "for (i in 1:24)\n",
    "    {\n",
    "    neu <- read.table(paste0(\"/home/jiyongso/jhjeon/multi4/multi4/ptrac_CGMF/C\", i, \"_neutron_rossi.o\"))\n",
    "    start <- 0\n",
    "    bins <- 100\n",
    "    end <- 100\n",
    "    histo <- hist(neu$V1[neu$V1 >=start & neu$V1 <=end], breaks = seq(start, end, by=((end-start)/bins)), \n",
    "                  xlab=\"Time (shake)\", main=(paste0(\"C\", i, \" Neutron Rossi-Alpha Distribution\")), ylab=\"Counts\")\n",
    "    hist.data <-data.frame(t=histo$breaks[1:bins], y=histo$counts)\n",
    "    write.table(hist.data, file=(paste0(\"C\", i, \"_neutron_rossi-\", start, \"-\", bins, \".txt\")), col.names=F, row.names=F)\n",
    "    \n",
    "}"
   ]
  },
  {
   "cell_type": "code",
   "execution_count": 18,
   "id": "9e04364d-6b39-4a7c-b285-e9487cb82824",
   "metadata": {},
   "outputs": [
    {
     "data": {
      "image/png": "[encoded data removed]",
      "text/plain": [
       "Plot with title “C3 Neutron Rossi-Alpha Distribution”"
      ]
     },
     "metadata": {
      "image/png": {
       "height": 420,
       "width": 420
      }
     },
     "output_type": "display_data"
    }
   ],
   "source": [
    "i<-3\n",
    "neu <- read.table(paste0(\"/home/jiyongso/jhjeon/multi4/multi4/ptrac_CGMF/C\", i, \"_neutron_rossi.o\"))\n",
    "start <- 0\n",
    "bins <- 100\n",
    "end <- 100\n",
    "histo <- hist(neu$V1[neu$V1 >=start & neu$V1 <=end], breaks = seq(start, end, by=((end-start)/bins)), \n",
    "      xlab=\"Time (shake)\", main=(paste0(\"C\", i, \" Neutron Rossi-Alpha Distribution\")), ylab=\"Counts\")\n",
    "hist.data <-data.frame(t=histo$breaks[1:bins], y=histo$counts)\n",
    "write.table(hist.data, file=(paste0(\"C\", i, \"_neutron_rossi-\", start, \"-\", bins, \".txt\")), col.names=F, row.names=F)"
   ]
  },
  {
   "cell_type": "code",
   "execution_count": 24,
   "id": "779f986f-95eb-4399-9c4d-673a60ccebe0",
   "metadata": {},
   "outputs": [
    {
     "name": "stderr",
     "output_type": "stream",
     "text": [
      "Warning message in sqrt(-3):\n",
      "“NaNs produced”\n"
     ]
    },
    {
     "data": {
      "text/html": [
       "'numeric'"
      ],
      "text/latex": [
       "'numeric'"
      ],
      "text/markdown": [
       "'numeric'"
      ],
      "text/plain": [
       "[1] \"numeric\""
      ]
     },
     "metadata": {},
     "output_type": "display_data"
    },
    {
     "data": {
      "text/html": [
       "'numeric'"
      ],
      "text/latex": [
       "'numeric'"
      ],
      "text/markdown": [
       "'numeric'"
      ],
      "text/plain": [
       "[1] \"numeric\""
      ]
     },
     "metadata": {},
     "output_type": "display_data"
    },
    {
     "data": {
      "text/html": [
       "'character'"
      ],
      "text/latex": [
       "'character'"
      ],
      "text/markdown": [
       "'character'"
      ],
      "text/plain": [
       "[1] \"character\""
      ]
     },
     "metadata": {},
     "output_type": "display_data"
    },
    {
     "data": {
      "text/html": [
       "'logical'"
      ],
      "text/latex": [
       "'logical'"
      ],
      "text/markdown": [
       "'logical'"
      ],
      "text/plain": [
       "[1] \"logical\""
      ]
     },
     "metadata": {},
     "output_type": "display_data"
    },
    {
     "data": {
      "text/html": [
       "'complex'"
      ],
      "text/latex": [
       "'complex'"
      ],
      "text/markdown": [
       "'complex'"
      ],
      "text/plain": [
       "[1] \"complex\""
      ]
     },
     "metadata": {},
     "output_type": "display_data"
    },
    {
     "data": {
      "text/html": [
       "'NULL'"
      ],
      "text/latex": [
       "'NULL'"
      ],
      "text/markdown": [
       "'NULL'"
      ],
      "text/plain": [
       "[1] \"NULL\""
      ]
     },
     "metadata": {},
     "output_type": "display_data"
    },
    {
     "data": {
      "text/html": [
       "'numeric'"
      ],
      "text/latex": [
       "'numeric'"
      ],
      "text/markdown": [
       "'numeric'"
      ],
      "text/plain": [
       "[1] \"numeric\""
      ]
     },
     "metadata": {},
     "output_type": "display_data"
    },
    {
     "data": {
      "text/html": [
       "TRUE"
      ],
      "text/latex": [
       "TRUE"
      ],
      "text/markdown": [
       "TRUE"
      ],
      "text/plain": [
       "[1] TRUE"
      ]
     },
     "metadata": {},
     "output_type": "display_data"
    },
    {
     "data": {
      "text/html": [
       "TRUE"
      ],
      "text/latex": [
       "TRUE"
      ],
      "text/markdown": [
       "TRUE"
      ],
      "text/plain": [
       "[1] TRUE"
      ]
     },
     "metadata": {},
     "output_type": "display_data"
    },
    {
     "data": {
      "text/html": [
       "TRUE"
      ],
      "text/latex": [
       "TRUE"
      ],
      "text/markdown": [
       "TRUE"
      ],
      "text/plain": [
       "[1] TRUE"
      ]
     },
     "metadata": {},
     "output_type": "display_data"
    },
    {
     "data": {
      "text/html": [
       "FALSE"
      ],
      "text/latex": [
       "FALSE"
      ],
      "text/markdown": [
       "FALSE"
      ],
      "text/plain": [
       "[1] FALSE"
      ]
     },
     "metadata": {},
     "output_type": "display_data"
    },
    {
     "data": {
      "text/html": [
       "TRUE"
      ],
      "text/latex": [
       "TRUE"
      ],
      "text/markdown": [
       "TRUE"
      ],
      "text/plain": [
       "[1] TRUE"
      ]
     },
     "metadata": {},
     "output_type": "display_data"
    },
    {
     "data": {
      "text/html": [
       "TRUE"
      ],
      "text/latex": [
       "TRUE"
      ],
      "text/markdown": [
       "TRUE"
      ],
      "text/plain": [
       "[1] TRUE"
      ]
     },
     "metadata": {},
     "output_type": "display_data"
    },
    {
     "data": {
      "text/html": [
       "FALSE"
      ],
      "text/latex": [
       "FALSE"
      ],
      "text/markdown": [
       "FALSE"
      ],
      "text/plain": [
       "[1] FALSE"
      ]
     },
     "metadata": {},
     "output_type": "display_data"
    },
    {
     "data": {
      "text/html": [
       "TRUE"
      ],
      "text/latex": [
       "TRUE"
      ],
      "text/markdown": [
       "TRUE"
      ],
      "text/plain": [
       "[1] TRUE"
      ]
     },
     "metadata": {},
     "output_type": "display_data"
    },
    {
     "data": {
      "text/html": [
       "TRUE"
      ],
      "text/latex": [
       "TRUE"
      ],
      "text/markdown": [
       "TRUE"
      ],
      "text/plain": [
       "[1] TRUE"
      ]
     },
     "metadata": {},
     "output_type": "display_data"
    }
   ],
   "source": [
    "var1 = 100\n",
    "var2 = 100L\n",
    "var3 = \"HEllo\"\n",
    "var4 = TRUE\n",
    "var5 = 4 - 3i\n",
    "var6 = NULL\n",
    "var7 = sqrt(-3)      # warning : NaNs produced\n",
    "\n",
    "mode(var1)           # \"numeric\" \n",
    "mode(var2)           # \"numeric\" \n",
    "mode(var3)           # \"character\"\n",
    "mode(var4)           # \"logical\" \n",
    "mode(var5)           # \"complex\"\n",
    "mode(var6)           # \"NULL\"\n",
    "mode(var7)           # \"numeric\"\n",
    "\n",
    "is.numeric(var1)     # TRUE\n",
    "is.numeric(var2)     # TRUE\n",
    "\n",
    "is.double(var1)      # TRUE\n",
    "is.integer(var1)     # FALSE\n",
    "is.integer(var2)     # TRUE\n",
    "\n",
    "is.character(var3)   # TRUE\n",
    "is.logical(var1)     # FALSE\n",
    "is.null(var6)        # TRUE   \n",
    "is.na(var7)          # TRUE"
   ]
  },
  {
   "cell_type": "code",
   "execution_count": 20,
   "id": "ee22b4c1-8445-4dfa-ac4b-8453a165e22c",
   "metadata": {},
   "outputs": [
    {
     "data": {
      "text/html": [
       "300"
      ],
      "text/latex": [
       "300"
      ],
      "text/markdown": [
       "300"
      ],
      "text/plain": [
       "[1] 300"
      ]
     },
     "metadata": {},
     "output_type": "display_data"
    }
   ],
   "source": [
    "a"
   ]
  },
  {
   "cell_type": "code",
   "execution_count": null,
   "id": "106c10e7-aead-4409-a0b0-dabda7d39d1e",
   "metadata": {},
   "outputs": [],
   "source": []
  }
 ],
 "metadata": {
  "kernelspec": {
   "display_name": "R",
   "language": "R",
   "name": "ir"
  },
  "language_info": {
   "codemirror_mode": "r",
   "file_extension": ".r",
   "mimetype": "text/x-r-source",
   "name": "R",
   "pygments_lexer": "r",
   "version": "3.6.3"
  }
 },
 "nbformat": 4,
 "nbformat_minor": 5
}
