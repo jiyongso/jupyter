{
 "cells": [
  {
   "cell_type": "code",
   "execution_count": 1,
   "id": "a138f68f-2619-4c8d-98e1-d838725488c1",
   "metadata": {},
   "outputs": [],
   "source": [
    "%matplotlib inline\n",
    "\n",
    "%load_ext autoreload\n",
    "%autoreload 2\n",
    "\n",
    "#%matplotlib notebook\n",
    "#%matplotlib widget\n",
    "import matplotlib \n",
    "import numpy as np\n",
    "import pandas as pd\n",
    "import os, sys, time, random\n",
    "#import ipywidgets\n",
    "from mpl_toolkits.mplot3d import Axes3D\n",
    "import matplotlib.pyplot as plt\n",
    "from matplotlib import cm\n",
    "from matplotlib.ticker import LinearLocator, FormatStrFormatter\n",
    "from mpl_toolkits.mplot3d.art3d import Poly3DCollection    \n",
    " \n",
    "# use LaTeX, choose nice some looking fonts and tweak some settings\n",
    "matplotlib.rc('font', family='serif')\n",
    "matplotlib.rc('font', size=16)\n",
    "matplotlib.rc('legend', fontsize=16)\n",
    "matplotlib.rc('legend', numpoints=1)\n",
    "matplotlib.rc('legend', handlelength=1.5)\n",
    "matplotlib.rc('legend', frameon=True)\n",
    "matplotlib.rc('xtick.major', pad=7)\n",
    "matplotlib.rc('xtick', direction=\"in\")\n",
    "matplotlib.rc('ytick', direction=\"in\")\n",
    "matplotlib.rc('xtick', top = True)\n",
    "matplotlib.rc('ytick', right =True )\n",
    "matplotlib.rc('xtick.minor', pad=7)\n",
    "matplotlib.rc('text', usetex=True)\n",
    "# matplotlib.rc('text.latex', \n",
    "#               preamble=[r'\\usepackage[T1]{fontenc}',\n",
    "#                         r'\\usepackage{amsmath}',\n",
    "#                         r'\\usepackage{txfonts}',\n",
    "#                         r'\\usepackage{textcomp}'])\n",
    "\n",
    "matplotlib.rc('figure', figsize=(12, 9))\n",
    "\n",
    "import torch\n",
    "import torch.nn as nn\n",
    "import torch.nn.functional as F\n",
    "import torch.optim as optim\n",
    "device = torch.device('cuda:0')"
   ]
  },
  {
   "cell_type": "code",
   "execution_count": 417,
   "id": "692d6170-df9a-48a7-8087-32be0d0f9093",
   "metadata": {},
   "outputs": [],
   "source": [
    "from ptrac import *\n",
    "rawdatafolder = r\"/home/jiyongso/jhjeon/multi4/multi4/ptrac_CGMF\"\n",
    "pkldatafolder = r\"./data\"\n",
    "jjhdatafolder = r\"/home/jiyongso/jhjeon/intermediate\""
   ]
  },
  {
   "cell_type": "code",
   "execution_count": 341,
   "id": "1bb9111c-6714-4663-9e0d-4e0619181652",
   "metadata": {},
   "outputs": [],
   "source": [
    "#ptrac_analysis_all_save(rawdatafolder, 3)\n"
   ]
  },
  {
   "cell_type": "code",
   "execution_count": 183,
   "id": "0aa66229-54ea-4172-b2f4-0f161985d3ef",
   "metadata": {},
   "outputs": [],
   "source": [
    "sjyanalysis = read_ptrac_analysis(\"./data/C3_analysis.pkl\")\n",
    "jjhanalysis = read_jjh(rawdatafolder, 3, None, 0)\n",
    "#jjhnl, jjhpl = list((jjhanalysis0[0]).values()), list((jjhanalysis0[1]).values())\n",
    "kks = sjyanalysis.keys()\n",
    "sjynl = [sjyanalysis[kk] for kk in kks if kk.split(\"_\")[2]==\"neutron\"]\n",
    "sjypl = [sjyanalysis[kk] for kk in kks if kk.split(\"_\")[2]==\"photon\"]\n",
    "\n",
    "kks = jjhanalysis.keys()\n",
    "jjhnl = [jjhanalysis[kk] for kk in kks if kk.split(\"_\")[2]==\"neutron\"]\n",
    "jjhpl = [jjhanalysis[kk] for kk in kks if kk.split(\"_\")[2]==\"photon\"]\n",
    "\n",
    "jjhn, jjhp = pd.concat(jjhnl), pd.concat(jjhpl)\n",
    "sjyn, sjyp = pd.concat(sjynl), pd.concat(sjypl)"
   ]
  },
  {
   "cell_type": "code",
   "execution_count": 347,
   "id": "be26892c-5446-4b5d-be7a-dcc6777be9f6",
   "metadata": {},
   "outputs": [
    {
     "name": "stdout",
     "output_type": "stream",
     "text": [
      "C3_1_neutron 241.61 99986.0\n",
      "C3_1_photon 73.283 99963.0\n",
      "C3_2_neutron 254.09 99969.0\n",
      "C3_2_photon 147.68 99970.0\n",
      "C3_3_neutron 48.863 99941.0\n",
      "C3_3_photon 30.766 99957.0\n",
      "C3_4_neutron 16.668 99593.0\n",
      "C3_4_photon 15.896 99993.0\n",
      "C3_5_neutron 475.12 99928.0\n",
      "C3_5_photon 11.543 99969.0\n",
      "C3_6_neutron 54.818 99963.0\n",
      "C3_6_photon 17.129 99917.0\n",
      "C3_7_neutron 117.27 99906.0\n",
      "C3_7_photon 114.56 99993.0\n",
      "C3_8_neutron 144.0 99802.0\n",
      "C3_8_photon 14.967 99801.0\n",
      "C3_9_neutron 49.022 99921.0\n",
      "C3_9_photon 47.85 99920.0\n",
      "C3_10_neutron 11.824 99926.0\n",
      "C3_10_photon 2.0718 99929.0\n",
      "C3_11_neutron 18.431 99958.0\n",
      "C3_11_photon 17.724 99980.0\n",
      "C3_12_neutron 25.748 99954.0\n",
      "C3_12_photon 25.064 99954.0\n",
      "C3_13_neutron 3.2563 99827.0\n",
      "C3_13_photon 2.6636 99975.0\n",
      "C3_14_neutron 84.791 99940.0\n",
      "C3_14_photon 82.696 99964.0\n",
      "C3_15_neutron 215.37 99769.0\n",
      "C3_15_photon 49.508 99807.0\n",
      "C3_16_neutron 6.4798 99953.0\n",
      "C3_16_photon 0.099205 99954.0\n",
      "C3_17_neutron 37.088 99906.0\n",
      "C3_17_photon 36.694 99904.0\n",
      "C3_18_neutron 17.47 99898.0\n",
      "C3_18_photon 16.963 99895.0\n",
      "C3_19_neutron 131.5 99938.0\n",
      "C3_19_photon 2.5091 99937.0\n",
      "C3_20_neutron 382.35 99855.0\n",
      "C3_20_photon 31.875 99986.0\n"
     ]
    }
   ],
   "source": [
    "for k, v in sjyanalysis.items():\n",
    "    print(k, v.time.min(), v.time.max())"
   ]
  },
  {
   "cell_type": "code",
   "execution_count": 350,
   "id": "1b86b881-6681-4951-a7b2-1b52cc799064",
   "metadata": {},
   "outputs": [],
   "source": [
    "# jjhk = list(jjhanalysis0[1].keys())\n",
    "# for k, v in sjyanalysis.items():\n",
    "#     if k.endswith(\"photon\"):\n",
    "#         #print(k)\n",
    "#         print(k, sjyanalysis[k].shape[0]-jjhanalysis0[1][k+\"_analysis\"].shape[0])\n",
    "\n",
    "sjyreduce = ptrac_reduce(sjyanalysis, False)\n",
    "jjhreduce = read_jjh(rawdatafolder, 3, None, 1)"
   ]
  },
  {
   "cell_type": "code",
   "execution_count": 195,
   "id": "9323138d-2cd9-4cd9-bda8-8c3273620ce5",
   "metadata": {},
   "outputs": [
    {
     "name": "stdout",
     "output_type": "stream",
     "text": [
      "{128, 129, 141, 142, 143, 321, 322, 323, 324, 325, 326, 327, 328, 329, 341, 342, 343, 221, 222, 223, 224, 225, 226, 227, 228, 229, 241, 242, 243, 121, 122, 123, 124, 125, 126, 127}\n",
      "{128, 1, 129, 521, 141, 142, 143, 321, 322, 323, 324, 325, 326, 327, 328, 329, 341, 342, 343, 221, 222, 223, 224, 225, 226, 227, 228, 229, 241, 242, 243, 121, 122, 123, 124, 125, 126, 127}\n",
      "set()\n",
      "{1, 521}\n"
     ]
    }
   ],
   "source": [
    "sjycombine = ptrac_combine(sjyreduce)"
   ]
  },
  {
   "cell_type": "code",
   "execution_count": 351,
   "id": "e109377a-eac2-4079-979c-47ae9425c42d",
   "metadata": {},
   "outputs": [
    {
     "name": "stdout",
     "output_type": "stream",
     "text": [
      "C3_1_neutron_reduced 241.61 99986.0\n",
      "C3_1_photon_reduced 74.055 99963.0\n",
      "C3_2_neutron_reduced 254.09 99969.0\n",
      "C3_2_photon_reduced 147.91 99968.0\n",
      "C3_3_neutron_reduced 48.863 99941.0\n",
      "C3_3_photon_reduced 31.888 99957.0\n",
      "C3_4_neutron_reduced 16.668 99593.0\n",
      "C3_4_photon_reduced 16.187 99993.0\n",
      "C3_5_neutron_reduced 475.12 99928.0\n",
      "C3_5_photon_reduced 11.592 99968.0\n",
      "C3_6_neutron_reduced 54.818 99841.0\n",
      "C3_6_photon_reduced 17.133 99917.0\n",
      "C3_7_neutron_reduced 117.27 99906.0\n",
      "C3_7_photon_reduced 116.27 99992.0\n",
      "C3_8_neutron_reduced 144.0 99802.0\n",
      "C3_8_photon_reduced 15.087 99801.0\n",
      "C3_9_neutron_reduced 49.022 99921.0\n",
      "C3_9_photon_reduced 47.969 99920.0\n",
      "C3_10_neutron_reduced 11.824 99926.0\n",
      "C3_10_photon_reduced 92.681 99929.0\n",
      "C3_11_neutron_reduced 18.431 99890.0\n",
      "C3_11_photon_reduced 17.848 99980.0\n",
      "C3_12_neutron_reduced 25.748 99954.0\n",
      "C3_12_photon_reduced 25.412 99954.0\n",
      "C3_13_neutron_reduced 3.2563 99827.0\n",
      "C3_13_photon_reduced 4.5586 99975.0\n",
      "C3_14_neutron_reduced 84.791 99940.0\n",
      "C3_14_photon_reduced 84.714 99964.0\n",
      "C3_15_neutron_reduced 215.37 99769.0\n",
      "C3_15_photon_reduced 50.342 99807.0\n",
      "C3_16_neutron_reduced 6.4798 99953.0\n",
      "C3_16_photon_reduced 0.56303 99951.0\n",
      "C3_17_neutron_reduced 37.088 99905.0\n",
      "C3_17_photon_reduced 37.106 99904.0\n",
      "C3_18_neutron_reduced 17.47 99898.0\n",
      "C3_18_photon_reduced 16.989 99894.0\n",
      "C3_19_neutron_reduced 131.5 99938.0\n",
      "C3_19_photon_reduced 2.5768 99937.0\n",
      "C3_20_neutron_reduced 382.35 99855.0\n",
      "C3_20_photon_reduced 31.893 99985.0\n"
     ]
    }
   ],
   "source": [
    "for k, v in jjhreduce.items():\n",
    "    print(k, v.time.min(), v.time.max())"
   ]
  },
  {
   "cell_type": "code",
   "execution_count": null,
   "id": "572665d0-209c-4fcc-b367-f1188f8875bb",
   "metadata": {},
   "outputs": [],
   "source": []
  },
  {
   "cell_type": "code",
   "execution_count": null,
   "id": "2ac7a59a-c47f-4fc5-b737-703f6b7fb5e8",
   "metadata": {},
   "outputs": [],
   "source": []
  },
  {
   "cell_type": "code",
   "execution_count": 198,
   "id": "5ad62174-1e82-44a3-bc2a-ecdcfd77581e",
   "metadata": {},
   "outputs": [
    {
     "name": "stdout",
     "output_type": "stream",
     "text": [
      "      time  cell  Nhist origin\n",
      "0  99400.0     1      2      E\n",
      "1  99400.0   324      2      O\n",
      "2  87542.0     1      3      E\n",
      "3  29840.0     1      4      E\n",
      "4  91117.0     1      5      E\n",
      "5  12973.0     1      6      E\n",
      "6  35184.0     1      7      E\n",
      "7  60746.0     1      8      E\n",
      "8  43387.0     1      9      E\n",
      "9  13916.0     1     10      E\n"
     ]
    }
   ],
   "source": [
    "print(sjyreduce[\"C3_2_photon\"][0:10])"
   ]
  },
  {
   "cell_type": "code",
   "execution_count": 197,
   "id": "df5f6b74-2b25-43b9-8812-15bd87e0c4b3",
   "metadata": {},
   "outputs": [
    {
     "name": "stdout",
     "output_type": "stream",
     "text": [
      "      time  cell  Nhist         origin\n",
      "0  99400.0     1      2  photoelectric\n",
      "1  99400.0   324      2        compton\n",
      "2  99400.0     1      2  photoelectric\n",
      "3  87542.0     1      3  photoelectric\n",
      "4  29840.0     1      4  photoelectric\n",
      "5  91117.0     1      5  photoelectric\n",
      "6  12973.0     1      6  photoelectric\n",
      "7  35184.0     1      7  photoelectric\n",
      "8  60746.0     1      8  photoelectric\n",
      "9  43387.0     1      9  photoelectric\n"
     ]
    }
   ],
   "source": [
    "print(jjhreduce[\"C3_2_photon_reduced\"][0:10])"
   ]
  },
  {
   "cell_type": "code",
   "execution_count": 168,
   "id": "7a7d5b1b-3907-4310-9ae3-5fe87703a6b4",
   "metadata": {},
   "outputs": [
    {
     "data": {
      "text/html": [
       "<div>\n",
       "<style scoped>\n",
       "    .dataframe tbody tr th:only-of-type {\n",
       "        vertical-align: middle;\n",
       "    }\n",
       "\n",
       "    .dataframe tbody tr th {\n",
       "        vertical-align: top;\n",
       "    }\n",
       "\n",
       "    .dataframe thead th {\n",
       "        text-align: right;\n",
       "    }\n",
       "</style>\n",
       "<table border=\"1\" class=\"dataframe\">\n",
       "  <thead>\n",
       "    <tr style=\"text-align: right;\">\n",
       "      <th></th>\n",
       "      <th>time</th>\n",
       "      <th>cell</th>\n",
       "      <th>Nhist</th>\n",
       "      <th>origin</th>\n",
       "    </tr>\n",
       "  </thead>\n",
       "  <tbody>\n",
       "    <tr>\n",
       "      <th>9</th>\n",
       "      <td>48848.0</td>\n",
       "      <td>121</td>\n",
       "      <td>11</td>\n",
       "      <td>C</td>\n",
       "    </tr>\n",
       "    <tr>\n",
       "      <th>10</th>\n",
       "      <td>48848.0</td>\n",
       "      <td>121</td>\n",
       "      <td>11</td>\n",
       "      <td>P</td>\n",
       "    </tr>\n",
       "    <tr>\n",
       "      <th>11</th>\n",
       "      <td>45178.0</td>\n",
       "      <td>226</td>\n",
       "      <td>12</td>\n",
       "      <td>C</td>\n",
       "    </tr>\n",
       "    <tr>\n",
       "      <th>12</th>\n",
       "      <td>56555.0</td>\n",
       "      <td>129</td>\n",
       "      <td>14</td>\n",
       "      <td>C</td>\n",
       "    </tr>\n",
       "    <tr>\n",
       "      <th>13</th>\n",
       "      <td>56555.0</td>\n",
       "      <td>342</td>\n",
       "      <td>14</td>\n",
       "      <td>C</td>\n",
       "    </tr>\n",
       "    <tr>\n",
       "      <th>14</th>\n",
       "      <td>86842.0</td>\n",
       "      <td>123</td>\n",
       "      <td>17</td>\n",
       "      <td>C</td>\n",
       "    </tr>\n",
       "    <tr>\n",
       "      <th>15</th>\n",
       "      <td>68971.0</td>\n",
       "      <td>126</td>\n",
       "      <td>18</td>\n",
       "      <td>P</td>\n",
       "    </tr>\n",
       "    <tr>\n",
       "      <th>16</th>\n",
       "      <td>21152.0</td>\n",
       "      <td>229</td>\n",
       "      <td>19</td>\n",
       "      <td>C</td>\n",
       "    </tr>\n",
       "    <tr>\n",
       "      <th>17</th>\n",
       "      <td>86553.0</td>\n",
       "      <td>221</td>\n",
       "      <td>21</td>\n",
       "      <td>C</td>\n",
       "    </tr>\n",
       "    <tr>\n",
       "      <th>18</th>\n",
       "      <td>5012.3</td>\n",
       "      <td>229</td>\n",
       "      <td>22</td>\n",
       "      <td>C</td>\n",
       "    </tr>\n",
       "    <tr>\n",
       "      <th>19</th>\n",
       "      <td>56672.0</td>\n",
       "      <td>229</td>\n",
       "      <td>23</td>\n",
       "      <td>C</td>\n",
       "    </tr>\n",
       "  </tbody>\n",
       "</table>\n",
       "</div>"
      ],
      "text/plain": [
       "       time  cell  Nhist origin\n",
       "9   48848.0   121     11      C\n",
       "10  48848.0   121     11      P\n",
       "11  45178.0   226     12      C\n",
       "12  56555.0   129     14      C\n",
       "13  56555.0   342     14      C\n",
       "14  86842.0   123     17      C\n",
       "15  68971.0   126     18      P\n",
       "16  21152.0   229     19      C\n",
       "17  86553.0   221     21      C\n",
       "18   5012.3   229     22      C\n",
       "19  56672.0   229     23      C"
      ]
     },
     "execution_count": 168,
     "metadata": {},
     "output_type": "execute_result"
    }
   ],
   "source": [
    "sjyanalysis[\"C3_2_neutron\"][9:20]"
   ]
  },
  {
   "cell_type": "code",
   "execution_count": 204,
   "id": "34014edc-d83a-4cdd-ac2d-5e73954a997f",
   "metadata": {},
   "outputs": [],
   "source": [
    "sjycombine_n, sjycombine_p= ptrac_combine(sjyreduce)"
   ]
  },
  {
   "cell_type": "code",
   "execution_count": 231,
   "id": "2cfe9414-2c7e-46e5-8e56-3e9e630b61c1",
   "metadata": {},
   "outputs": [
    {
     "name": "stdout",
     "output_type": "stream",
     "text": [
      "(21892, 4)\n"
     ]
    },
    {
     "data": {
      "image/png": "[encoded data removed]",
      "text/plain": [
       "<Figure size 864x648 with 1 Axes>"
      ]
     },
     "metadata": {
      "needs_background": "light"
     },
     "output_type": "display_data"
    }
   ],
   "source": [
    "sjycombine_n.hist(\"time\", bins=300)\n",
    "print(sjycombine_n.shape)"
   ]
  },
  {
   "cell_type": "code",
   "execution_count": 260,
   "id": "51fe5510-c68b-4016-b630-2fd37feaf5ee",
   "metadata": {},
   "outputs": [
    {
     "data": {
      "image/png": "[encoded data removed]",
      "text/plain": [
       "<Figure size 864x648 with 1 Axes>"
      ]
     },
     "metadata": {
      "needs_background": "light"
     },
     "output_type": "display_data"
    }
   ],
   "source": [
    "jjhcombine = np.loadtxt(os.path.join(rawdatafolder, \"C3_neutron.o\"))\n",
    "histx, histy, _ =plt.hist(jjhcombine, bins=300)"
   ]
  },
  {
   "cell_type": "code",
   "execution_count": 353,
   "id": "ca746133-1bcc-425d-a3e8-1497b76d8d23",
   "metadata": {},
   "outputs": [
    {
     "name": "stdout",
     "output_type": "stream",
     "text": [
      "1\n",
      "1\n",
      "2\n",
      "2\n",
      "3\n",
      "3\n",
      "4\n",
      "4\n",
      "5\n",
      "5\n",
      "6\n",
      "6\n",
      "7\n",
      "7\n",
      "8\n",
      "8\n",
      "9\n",
      "9\n",
      "10\n",
      "10\n",
      "11\n",
      "11\n",
      "12\n",
      "12\n",
      "13\n",
      "13\n",
      "14\n",
      "14\n",
      "15\n",
      "15\n",
      "16\n",
      "16\n",
      "17\n",
      "17\n",
      "18\n",
      "18\n",
      "19\n",
      "19\n",
      "20\n",
      "20\n",
      "{128, 129, 141, 142, 143, 321, 322, 323, 324, 325, 326, 327, 328, 329, 341, 342, 343, 221, 222, 223, 224, 225, 226, 227, 228, 229, 241, 242, 243, 121, 122, 123, 124, 125, 126, 127}\n",
      "{128, 1, 129, 521, 141, 142, 143, 321, 322, 323, 324, 325, 326, 327, 328, 329, 341, 342, 343, 221, 222, 223, 224, 225, 226, 227, 228, 229, 241, 242, 243, 121, 122, 123, 124, 125, 126, 127}\n",
      "set()\n",
      "{1, 521}\n"
     ]
    }
   ],
   "source": [
    "jjhcombine_my_n, jjhcombine_my_p = ptrac_combine(jjhreduce)"
   ]
  },
  {
   "cell_type": "code",
   "execution_count": 368,
   "id": "b0a8443d-72f4-4a9b-bdeb-047e87d2a015",
   "metadata": {},
   "outputs": [
    {
     "data": {
      "text/plain": [
       "0.9990000000107102"
      ]
     },
     "execution_count": 368,
     "metadata": {},
     "output_type": "execute_result"
    }
   ],
   "source": [
    "(jjhcombine_my_n.time - jjhcombine).max()"
   ]
  },
  {
   "cell_type": "code",
   "execution_count": 352,
   "id": "ae90350b-3194-45a6-9f3a-c5ade2e9cc36",
   "metadata": {},
   "outputs": [
    {
     "name": "stdout",
     "output_type": "stream",
     "text": [
      "C3_1_neutron_reduced 241.61 99986.0\n",
      "C3_1_photon_reduced 74.055 99963.0\n",
      "C3_2_neutron_reduced 254.09 99969.0\n",
      "C3_2_photon_reduced 147.91 99968.0\n",
      "C3_3_neutron_reduced 48.863 99941.0\n",
      "C3_3_photon_reduced 31.888 99957.0\n",
      "C3_4_neutron_reduced 16.668 99593.0\n",
      "C3_4_photon_reduced 16.187 99993.0\n",
      "C3_5_neutron_reduced 475.12 99928.0\n",
      "C3_5_photon_reduced 11.592 99968.0\n",
      "C3_6_neutron_reduced 54.818 99841.0\n",
      "C3_6_photon_reduced 17.133 99917.0\n",
      "C3_7_neutron_reduced 117.27 99906.0\n",
      "C3_7_photon_reduced 116.27 99992.0\n",
      "C3_8_neutron_reduced 144.0 99802.0\n",
      "C3_8_photon_reduced 15.087 99801.0\n",
      "C3_9_neutron_reduced 49.022 99921.0\n",
      "C3_9_photon_reduced 47.969 99920.0\n",
      "C3_10_neutron_reduced 11.824 99926.0\n",
      "C3_10_photon_reduced 92.681 99929.0\n",
      "C3_11_neutron_reduced 18.431 99890.0\n",
      "C3_11_photon_reduced 17.848 99980.0\n",
      "C3_12_neutron_reduced 25.748 99954.0\n",
      "C3_12_photon_reduced 25.412 99954.0\n",
      "C3_13_neutron_reduced 3.2563 99827.0\n",
      "C3_13_photon_reduced 4.5586 99975.0\n",
      "C3_14_neutron_reduced 84.791 99940.0\n",
      "C3_14_photon_reduced 84.714 99964.0\n",
      "C3_15_neutron_reduced 215.37 99769.0\n",
      "C3_15_photon_reduced 50.342 99807.0\n",
      "C3_16_neutron_reduced 6.4798 99953.0\n",
      "C3_16_photon_reduced 0.56303 99951.0\n",
      "C3_17_neutron_reduced 37.088 99905.0\n",
      "C3_17_photon_reduced 37.106 99904.0\n",
      "C3_18_neutron_reduced 17.47 99898.0\n",
      "C3_18_photon_reduced 16.989 99894.0\n",
      "C3_19_neutron_reduced 131.5 99938.0\n",
      "C3_19_photon_reduced 2.5768 99937.0\n",
      "C3_20_neutron_reduced 382.35 99855.0\n",
      "C3_20_photon_reduced 31.893 99985.0\n"
     ]
    }
   ],
   "source": [
    "for k, v in jjhreduce.items():\n",
    "    print(k, v.time.min(),v.time.max())"
   ]
  },
  {
   "cell_type": "code",
   "execution_count": 369,
   "id": "868de789-796b-487b-a037-7fdc2c539da4",
   "metadata": {},
   "outputs": [],
   "source": [
    "jjhrossi=np.loadtxt(os.path.join(rawdatafolder, \"C3_neutron_rossi.o\"))\n",
    "print(jjhrossi)\n",
    "a=plt.hist(jjhrossi, bins=100)\n",
    "#plt.yscale('log')\n",
    "jjhrossi_my_n = jjh_rossi(jjhcombine_my_n)"
   ]
  },
  {
   "cell_type": "code",
   "execution_count": 374,
   "id": "3fa6cead-44e6-49bb-83ac-64031e93cc36",
   "metadata": {},
   "outputs": [
    {
     "name": "stdout",
     "output_type": "stream",
     "text": [
      "(54014,) (54013,)\n"
     ]
    }
   ],
   "source": [
    "print(jjhrossi.shape, jjhrossi_my_n.shape)"
   ]
  },
  {
   "cell_type": "code",
   "execution_count": 419,
   "id": "8ea0d876-2138-4706-b45c-28b396bd879e",
   "metadata": {},
   "outputs": [
    {
     "name": "stdout",
     "output_type": "stream",
     "text": [
      "(22216,)\n"
     ]
    }
   ],
   "source": [
    "ss=ptrac_rossi0(jjhcombine_my_n)"
   ]
  },
  {
   "cell_type": "code",
   "execution_count": 431,
   "id": "1b99c247-c62a-4047-bc25-924b61e3c51e",
   "metadata": {},
   "outputs": [
    {
     "data": {
      "text/plain": [
       "Text(0, 0.5, 'count (C3)')"
      ]
     },
     "execution_count": 431,
     "metadata": {},
     "output_type": "execute_result"
    },
    {
     "data": {
      "image/png": "[encoded data removed]",
      "text/plain": [
       "<Figure size 864x648 with 1 Axes>"
      ]
     },
     "metadata": {
      "needs_background": "light"
     },
     "output_type": "display_data"
    }
   ],
   "source": [
    "rossihist1=np.histogram(jjhrossi.astype(np.int64), bins=100)\n",
    "rossihist2=np.histogram(jjhrossi_my_n, bins=100)\n",
    "plt.plot(rossihist1[0], 'b-', label='JJH')\n",
    "#plt.plot(rossihist2[0])\n",
    "#plt.plot(np.histogram(ss.astype(np.int64), bins=100)[0])\n",
    "plt.plot(np.histogram(sjyrossi_n, bins=100)[0], 'r-', label='SJY')\n",
    "plt.yscale('log')\n",
    "plt.legend()\n",
    "plt.xlabel(\"time [shake]\")\n",
    "plt.ylabel(\"count (C3)\")\n",
    "#plt.ylim(0, 500)"
   ]
  },
  {
   "cell_type": "code",
   "execution_count": 424,
   "id": "0a10d9a3-e20e-465c-8c2f-3880b3a078de",
   "metadata": {},
   "outputs": [
    {
     "data": {
      "image/png": "[encoded data removed]",
      "text/plain": [
       "<Figure size 864x648 with 1 Axes>"
      ]
     },
     "metadata": {
      "needs_background": "light"
     },
     "output_type": "display_data"
    }
   ],
   "source": [
    "plt.hist(jjhrossi, bins=100)\n",
    "plt.yscale('log')"
   ]
  },
  {
   "cell_type": "code",
   "execution_count": 214,
   "id": "5b61a847-a1ed-4a1a-b7fa-c81ad245e7fa",
   "metadata": {},
   "outputs": [
    {
     "data": {
      "image/png": "[encoded data removed]",
      "text/plain": [
       "<Figure size 864x648 with 1 Axes>"
      ]
     },
     "metadata": {
      "needs_background": "light"
     },
     "output_type": "display_data"
    }
   ],
   "source": [
    "plt.hist(sjyrossi_n, bins=100)\n",
    "plt.yscale('log')"
   ]
  },
  {
   "cell_type": "code",
   "execution_count": 385,
   "id": "9b948a6a-492a-42dd-956c-116986a2c51f",
   "metadata": {},
   "outputs": [
    {
     "data": {
      "text/html": [
       "<div>\n",
       "<style scoped>\n",
       "    .dataframe tbody tr th:only-of-type {\n",
       "        vertical-align: middle;\n",
       "    }\n",
       "\n",
       "    .dataframe tbody tr th {\n",
       "        vertical-align: top;\n",
       "    }\n",
       "\n",
       "    .dataframe thead th {\n",
       "        text-align: right;\n",
       "    }\n",
       "</style>\n",
       "<table border=\"1\" class=\"dataframe\">\n",
       "  <thead>\n",
       "    <tr style=\"text-align: right;\">\n",
       "      <th></th>\n",
       "      <th>time</th>\n",
       "      <th>cell</th>\n",
       "      <th>Nhist</th>\n",
       "      <th>origin</th>\n",
       "    </tr>\n",
       "  </thead>\n",
       "  <tbody>\n",
       "    <tr>\n",
       "      <th>0</th>\n",
       "      <td>241.61</td>\n",
       "      <td>325</td>\n",
       "      <td>1183</td>\n",
       "      <td>proton production</td>\n",
       "    </tr>\n",
       "    <tr>\n",
       "      <th>1</th>\n",
       "      <td>243.56</td>\n",
       "      <td>225</td>\n",
       "      <td>661</td>\n",
       "      <td>proton production</td>\n",
       "    </tr>\n",
       "    <tr>\n",
       "      <th>2</th>\n",
       "      <td>501.66</td>\n",
       "      <td>142</td>\n",
       "      <td>218</td>\n",
       "      <td>proton production</td>\n",
       "    </tr>\n",
       "    <tr>\n",
       "      <th>3</th>\n",
       "      <td>502.05</td>\n",
       "      <td>223</td>\n",
       "      <td>218</td>\n",
       "      <td>carbon scattering</td>\n",
       "    </tr>\n",
       "    <tr>\n",
       "      <th>4</th>\n",
       "      <td>597.03</td>\n",
       "      <td>229</td>\n",
       "      <td>635</td>\n",
       "      <td>carbon scattering</td>\n",
       "    </tr>\n",
       "    <tr>\n",
       "      <th>...</th>\n",
       "      <td>...</td>\n",
       "      <td>...</td>\n",
       "      <td>...</td>\n",
       "      <td>...</td>\n",
       "    </tr>\n",
       "    <tr>\n",
       "      <th>22211</th>\n",
       "      <td>1998994.00</td>\n",
       "      <td>343</td>\n",
       "      <td>799</td>\n",
       "      <td>carbon scattering</td>\n",
       "    </tr>\n",
       "    <tr>\n",
       "      <th>22212</th>\n",
       "      <td>1998999.00</td>\n",
       "      <td>324</td>\n",
       "      <td>477</td>\n",
       "      <td>carbon scattering</td>\n",
       "    </tr>\n",
       "    <tr>\n",
       "      <th>22213</th>\n",
       "      <td>1999122.00</td>\n",
       "      <td>323</td>\n",
       "      <td>1021</td>\n",
       "      <td>carbon scattering</td>\n",
       "    </tr>\n",
       "    <tr>\n",
       "      <th>22214</th>\n",
       "      <td>1999794.00</td>\n",
       "      <td>143</td>\n",
       "      <td>524</td>\n",
       "      <td>carbon scattering</td>\n",
       "    </tr>\n",
       "    <tr>\n",
       "      <th>22215</th>\n",
       "      <td>1999855.00</td>\n",
       "      <td>226</td>\n",
       "      <td>301</td>\n",
       "      <td>carbon scattering</td>\n",
       "    </tr>\n",
       "  </tbody>\n",
       "</table>\n",
       "<p>22216 rows × 4 columns</p>\n",
       "</div>"
      ],
      "text/plain": [
       "             time  cell  Nhist             origin\n",
       "0          241.61   325   1183  proton production\n",
       "1          243.56   225    661  proton production\n",
       "2          501.66   142    218  proton production\n",
       "3          502.05   223    218  carbon scattering\n",
       "4          597.03   229    635  carbon scattering\n",
       "...           ...   ...    ...                ...\n",
       "22211  1998994.00   343    799  carbon scattering\n",
       "22212  1998999.00   324    477  carbon scattering\n",
       "22213  1999122.00   323   1021  carbon scattering\n",
       "22214  1999794.00   143    524  carbon scattering\n",
       "22215  1999855.00   226    301  carbon scattering\n",
       "\n",
       "[22216 rows x 4 columns]"
      ]
     },
     "execution_count": 385,
     "metadata": {},
     "output_type": "execute_result"
    }
   ],
   "source": [
    "jjhcombine_my_n"
   ]
  },
  {
   "cell_type": "code",
   "execution_count": 401,
   "id": "740d2b72-6317-430e-b70d-c552461c9b6e",
   "metadata": {},
   "outputs": [
    {
     "name": "stdout",
     "output_type": "stream",
     "text": [
      "[    241     243     501 ... 1999122 1999794 1999855]\n"
     ]
    }
   ],
   "source": [
    "sjyrossi_n=ptrac_rossi(sjycombine_n)"
   ]
  },
  {
   "cell_type": "code",
   "execution_count": 407,
   "id": "4e0a8643-2c81-407c-8a4f-f55cbd90af42",
   "metadata": {},
   "outputs": [],
   "source": [
    "st=ss[ss==0]"
   ]
  },
  {
   "cell_type": "code",
   "execution_count": 410,
   "id": "603f3598-07b1-4cce-94a5-63c92de3a101",
   "metadata": {},
   "outputs": [
    {
     "data": {
      "text/plain": [
       "(1452,)"
      ]
     },
     "execution_count": 410,
     "metadata": {},
     "output_type": "execute_result"
    }
   ],
   "source": [
    "st.shape"
   ]
  },
  {
   "cell_type": "code",
   "execution_count": 412,
   "id": "7c337c1f-4122-4e59-909f-34c750205d48",
   "metadata": {},
   "outputs": [
    {
     "name": "stdout",
     "output_type": "stream",
     "text": [
      "[    241     243     501 ... 1999122 1999794 1999855]\n"
     ]
    }
   ],
   "source": [
    "ll=ptrac_rossi0(sjycombine_n)"
   ]
  },
  {
   "cell_type": "code",
   "execution_count": 414,
   "id": "f1d2c6bd-f801-4f71-9a6e-e24d5f2cb29d",
   "metadata": {},
   "outputs": [],
   "source": [
    "qt = sjycombine_n.time\n"
   ]
  },
  {
   "cell_type": "code",
   "execution_count": 415,
   "id": "ad13940d-b659-431a-b674-4d7ed08180e3",
   "metadata": {},
   "outputs": [
    {
     "data": {
      "text/plain": [
       "0            241.61\n",
       "1            243.56\n",
       "2            501.66\n",
       "3            502.05\n",
       "4            597.03\n",
       "            ...    \n",
       "21887    1998994.00\n",
       "21888    1998999.00\n",
       "21889    1999122.00\n",
       "21890    1999794.00\n",
       "21891    1999855.00\n",
       "Name: time, Length: 21892, dtype: float64"
      ]
     },
     "execution_count": 415,
     "metadata": {},
     "output_type": "execute_result"
    }
   ],
   "source": [
    "qt"
   ]
  },
  {
   "cell_type": "code",
   "execution_count": 433,
   "id": "c66e89b0-2b08-4ba7-a540-9d142f89344d",
   "metadata": {},
   "outputs": [
    {
     "name": "stdout",
     "output_type": "stream",
     "text": [
      "[    241     243     501 ... 1999122 1999794 1999855]\n"
     ]
    }
   ],
   "source": [
    "sjyrossi_n=ptrac_rossi(sjycombine_n, 100)"
   ]
  },
  {
   "cell_type": "code",
   "execution_count": 471,
   "id": "52267d56-f371-40ff-8213-cac4f1ca22b2",
   "metadata": {},
   "outputs": [
    {
     "name": "stdout",
     "output_type": "stream",
     "text": [
      "[2.416100e+02 2.435600e+02 5.016600e+02 ... 1.999122e+06 1.999794e+06\n",
      " 1.999855e+06]\n"
     ]
    },
    {
     "data": {
      "image/png": "[encoded data removed]",
      "text/plain": [
       "<Figure size 864x648 with 1 Axes>"
      ]
     },
     "metadata": {
      "needs_background": "light"
     },
     "output_type": "display_data"
    }
   ],
   "source": [
    "plt.hist(ptrac_rossi(sjycombine_n, 1100), bins=np.arange(0., 201., np.e/np.pi))\n",
    "plt.yscale('log')"
   ]
  },
  {
   "cell_type": "code",
   "execution_count": 447,
   "id": "11352eac-3254-41ee-ac41-1a401d0dbfaf",
   "metadata": {},
   "outputs": [
    {
     "data": {
      "text/plain": [
       "time      1999855.0\n",
       "cell            343\n",
       "Nhist          1531\n",
       "origin            P\n",
       "dtype: object"
      ]
     },
     "execution_count": 447,
     "metadata": {},
     "output_type": "execute_result"
    }
   ],
   "source": [
    "sjycombine_n.max()"
   ]
  },
  {
   "cell_type": "code",
   "execution_count": 450,
   "id": "7a4b030c-abe3-4186-90d8-808c5c134444",
   "metadata": {},
   "outputs": [],
   "source": [
    "ddd = np.random.random(100000)*1000"
   ]
  },
  {
   "cell_type": "code",
   "execution_count": 451,
   "id": "dbd33812-b7b9-4243-acf9-aa92ffbbb1b5",
   "metadata": {},
   "outputs": [
    {
     "data": {
      "text/plain": [
       "(array([ 969.,  967.,  973.,  974.,  976.,  989.,  942., 1044., 1019.,\n",
       "        1010., 1021.,  911.,  987., 1036.,  969.,  970.,  968.,  993.,\n",
       "        1024., 1016.,  996., 1022., 1023., 1009.,  953., 1056., 1033.,\n",
       "         967., 1010., 1013., 1032.,  989., 1034., 1027.,  966., 1011.,\n",
       "        1047., 1034., 1028.,  985., 1008., 1016.,  952.,  998.,  978.,\n",
       "         989.,  999.,  988.,  983.,  992.,  996.,  955.,  965.,  968.,\n",
       "        1042., 1058., 1026., 1007., 1012., 1015., 1051.,  971., 1024.,\n",
       "         979.,  972.,  977.,  993.,  999., 1047., 1004., 1040.,  954.,\n",
       "         982.,  968., 1029., 1024.,  995.,  962., 1019.,  989.,  972.,\n",
       "        1000., 1027., 1003.,  991., 1069., 1007., 1030., 1021.,  991.,\n",
       "         974.,  938., 1028.,  957.,  992., 1035., 1003.,  961., 1058.,\n",
       "        1024.]),\n",
       " array([1.38729698e-02, 1.00135496e+01, 2.00132262e+01, 3.00129028e+01,\n",
       "        4.00125794e+01, 5.00122560e+01, 6.00119326e+01, 7.00116092e+01,\n",
       "        8.00112858e+01, 9.00109624e+01, 1.00010639e+02, 1.10010316e+02,\n",
       "        1.20009992e+02, 1.30009669e+02, 1.40009345e+02, 1.50009022e+02,\n",
       "        1.60008699e+02, 1.70008375e+02, 1.80008052e+02, 1.90007728e+02,\n",
       "        2.00007405e+02, 2.10007082e+02, 2.20006758e+02, 2.30006435e+02,\n",
       "        2.40006112e+02, 2.50005788e+02, 2.60005465e+02, 2.70005141e+02,\n",
       "        2.80004818e+02, 2.90004495e+02, 3.00004171e+02, 3.10003848e+02,\n",
       "        3.20003524e+02, 3.30003201e+02, 3.40002878e+02, 3.50002554e+02,\n",
       "        3.60002231e+02, 3.70001907e+02, 3.80001584e+02, 3.90001261e+02,\n",
       "        4.00000937e+02, 4.10000614e+02, 4.20000290e+02, 4.29999967e+02,\n",
       "        4.39999644e+02, 4.49999320e+02, 4.59998997e+02, 4.69998673e+02,\n",
       "        4.79998350e+02, 4.89998027e+02, 4.99997703e+02, 5.09997380e+02,\n",
       "        5.19997056e+02, 5.29996733e+02, 5.39996410e+02, 5.49996086e+02,\n",
       "        5.59995763e+02, 5.69995439e+02, 5.79995116e+02, 5.89994793e+02,\n",
       "        5.99994469e+02, 6.09994146e+02, 6.19993823e+02, 6.29993499e+02,\n",
       "        6.39993176e+02, 6.49992852e+02, 6.59992529e+02, 6.69992206e+02,\n",
       "        6.79991882e+02, 6.89991559e+02, 6.99991235e+02, 7.09990912e+02,\n",
       "        7.19990589e+02, 7.29990265e+02, 7.39989942e+02, 7.49989618e+02,\n",
       "        7.59989295e+02, 7.69988972e+02, 7.79988648e+02, 7.89988325e+02,\n",
       "        7.99988001e+02, 8.09987678e+02, 8.19987355e+02, 8.29987031e+02,\n",
       "        8.39986708e+02, 8.49986384e+02, 8.59986061e+02, 8.69985738e+02,\n",
       "        8.79985414e+02, 8.89985091e+02, 8.99984767e+02, 9.09984444e+02,\n",
       "        9.19984121e+02, 9.29983797e+02, 9.39983474e+02, 9.49983151e+02,\n",
       "        9.59982827e+02, 9.69982504e+02, 9.79982180e+02, 9.89981857e+02,\n",
       "        9.99981534e+02]),\n",
       " <BarContainer object of 100 artists>)"
      ]
     },
     "execution_count": 451,
     "metadata": {},
     "output_type": "execute_result"
    },
    {
     "data": {
      "image/png": "[encoded data removed]",
      "text/plain": [
       "<Figure size 864x648 with 1 Axes>"
      ]
     },
     "metadata": {
      "needs_background": "light"
     },
     "output_type": "display_data"
    }
   ],
   "source": [
    "plt.hist(ddd, bins=100)"
   ]
  },
  {
   "cell_type": "code",
   "execution_count": null,
   "id": "f50c98c1-16bc-4977-b31b-1cccac9d856c",
   "metadata": {},
   "outputs": [],
   "source": []
  }
 ],
 "metadata": {
  "kernelspec": {
   "display_name": "Python 3",
   "language": "python",
   "name": "python3"
  },
  "language_info": {
   "codemirror_mode": {
    "name": "ipython",
    "version": 3
   },
   "file_extension": ".py",
   "mimetype": "text/x-python",
   "name": "python",
   "nbconvert_exporter": "python",
   "pygments_lexer": "ipython3",
   "version": "3.8.10"
  }
 },
 "nbformat": 4,
 "nbformat_minor": 5
}
