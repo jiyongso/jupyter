{
 "cells": [
  {
   "cell_type": "code",
   "execution_count": 1,
   "id": "monthly-vacation",
   "metadata": {},
   "outputs": [],
   "source": [
    "%matplotlib inline\n",
    "#%matplotlib notebook\n",
    "#%matplotlib widget\n",
    "import matplotlib \n",
    "import numpy as np\n",
    "import pandas as pd\n",
    "import os, sys, time, pickle\n",
    "#import ipywidgets\n",
    "from mpl_toolkits.mplot3d import Axes3D\n",
    "import matplotlib.pyplot as plt\n",
    "from matplotlib import cm\n",
    "from matplotlib.ticker import LinearLocator, FormatStrFormatter\n",
    "from mpl_toolkits.mplot3d.art3d import Poly3DCollection    \n",
    "\n",
    "from scipy import optimize\n",
    "# use LaTeX, choose nice some looking fonts and tweak some settings\n",
    "matplotlib.rc('font', family='serif')\n",
    "matplotlib.rc('font', size=16)\n",
    "matplotlib.rc('legend', fontsize=16)\n",
    "matplotlib.rc('legend', numpoints=1)\n",
    "matplotlib.rc('legend', handlelength=1.5)\n",
    "matplotlib.rc('legend', frameon=True)\n",
    "matplotlib.rc('xtick.major', pad=7)\n",
    "matplotlib.rc('xtick', direction=\"in\")\n",
    "matplotlib.rc('ytick', direction=\"in\")\n",
    "matplotlib.rc('xtick', top = True)\n",
    "matplotlib.rc('ytick', right =True )\n",
    "matplotlib.rc('xtick.minor', pad=7)\n",
    "matplotlib.rc('text', usetex=True)\n",
    "# matplotlib.rc('text.latex', \n",
    "#               preamble=[r'\\usepackage[T1]{fontenc}',\n",
    "#                         r'\\usepackage{amsmath}',\n",
    "#                         r'\\usepackage{txfonts}',\n",
    "#                         r'\\usepackage{textcomp}'])\n",
    "\n",
    "matplotlib.rc('figure', figsize=(12, 9))\n",
    "\n",
    "#plt.style.use([\"default\"])\n"
   ]
  },
  {
   "cell_type": "code",
   "execution_count": 2,
   "id": "rough-share",
   "metadata": {},
   "outputs": [],
   "source": [
    "psddatafolder = r\"/home/jiyongso/mydocs/psddata/FILTERED\"\n",
    "psddatafolder2 = r\"/home/jiyongso/mydocs/psddata\"\n",
    "\n",
    "# psd = pd.read_pickle(os.path.join(psddatafolder, \"ch2data_2.pkl\"))\n",
    "# psd.columns=[\"TimeTag\"]+list(np.arange(168))\n",
    "\n",
    "# # # 앞으로 데이터 해석하는데 필요할 backgroun와  maximum value 를 column으로 채워 넣음.\n",
    "# bgval = psd.loc[:, 5:35].apply(np.mean, axis=1)\n",
    "# bgstd = psd.loc[:, 5:35].apply(np.std, axis=1)\n",
    "# psd.insert(loc=1, column = \"BgVal\", value=bgval)\n",
    "# psd.insert(loc=2, column = \"BgStd\", value=bgstd)\n",
    "# psd.insert(loc=3, column = \"MaxIndex\", value=psd.loc[:, 0:100].apply(np.argmax, axis=1))\n",
    "# psd.insert(loc=4, column = \"MaxVal\", value = psd.loc[:, 0:100].apply(np.max, axis=1))\n",
    "\n",
    "# psd.sort_values(\"MaxVal\", ascending=False, inplace=True)\n",
    "\n",
    "# psd.to_pickle(os.path.join(psddatafolder, \"ch2data_3.pkl\"))\n",
    "\n",
    "psd = pd.read_pickle(os.path.join(psddatafolder, \"ch2data_3.pkl\"))\n",
    "smoothfitting=pickle.load(open(os.path.join(psddatafolder2, \"smoothstepfit.pkl\"), \"rb\"))\n",
    "psd_to_remove = [505591, ]"
   ]
  },
  {
   "cell_type": "code",
   "execution_count": 3,
   "id": "published-guinea",
   "metadata": {},
   "outputs": [],
   "source": [
    "def smoothstep(x, a, b, c, d):\n",
    "    return a/(1.0+np.exp(-b*((x-c))))+d\n",
    "\n",
    "def residual(p, x, y):\n",
    "    return y-smoothstep(x, p[0], p[1], p[2], p[3])\n",
    "\n",
    "def gaussian(x, a, x0, sig):\n",
    "    return a*np.exp(-(x-x0)**2/(2*sig**2))\n",
    "\n",
    "\n",
    "def residual_psd(p, x, y):\n",
    "    return (y-(gaussian(x, p[0], p[1], p[2])+\n",
    "               gaussian(x, p[3], p[4], p[5])+p[6]))\n",
    "\n",
    "def psd_fit(x, a1, c1, s1, a2, c2, s2, bg):\n",
    "    return (gaussian(x, a1, c1, s1)+\n",
    "               gaussian(x, a2, c2, s2)+bg)\n",
    "\n",
    "def plotsmottfit(index):\n",
    "    x=np.arange(159)\n",
    "    p = smf.loc[index, [\"a\", \"b\", \"c\", \"d\"]]\n",
    "    y1 = smoothstep(x, p[0], p[1], p[2]+5, p[3])\n",
    "    y2 = psd.loc[index, np.arange(159)]\n",
    "    plt.plot(x, y1, \"r-\", lw=4, label=\"smoothfit\")\n",
    "    plt.plot(x, y2, \"bo\", ms=6, label=\"data\")\n",
    "    plt.xlabel(\"Channel [2ns unit]\")\n",
    "    #plt.yscale('log')\n",
    "    plt.legend()"
   ]
  },
  {
   "cell_type": "code",
   "execution_count": 20,
   "id": "canadian-pathology",
   "metadata": {},
   "outputs": [],
   "source": [
    "smf1=[a[0] for a in smoothfitting]\n",
    "smf2=[a[1][0] for a in smoothfitting]\n",
    "smf3=[a[1][1] for a in smoothfitting]\n",
    "smf = pd.DataFrame(data = smf2, index = smf1, columns = (\"a\", \"b\", \"c\", \"d\"))\n",
    "smf.insert(loc = 4, column = \"pcov\", value = smf3 )\n",
    "\n",
    "index1 = smf[\"pcov\"]<=3\n",
    "psd1 = psd[index1]\n",
    "smf1 = smf[index1]\n",
    "index2 = smf1[\"b\"]>0.1\n",
    "psd1 = psd1[index2]\n",
    "smf1 = smf1[index2]\n",
    "index3 = smf1[\"c\"]<60\n",
    "psd1=psd1[index3]\n",
    "smf1=smf1[index3]"
   ]
  },
  {
   "cell_type": "code",
   "execution_count": 21,
   "id": "insured-reserve",
   "metadata": {},
   "outputs": [],
   "source": [
    "inds = smf1.index\n",
    "#inds = smf1.index\n",
    "area1=[]\n",
    "area2=[]\n",
    "for ind in inds :\n",
    "    #print(ind)\n",
    "    mind = int(smf1.loc[ind, \"c\"].round())+5\n",
    "    area1.append((psd1.loc[ind, mind:mind+10]).sum()-(psd1.loc[ind, \"BgVal\"])*11)\n",
    "    area2.append((psd1.loc[ind, mind:mind+90]).sum()-(psd1.loc[ind, \"BgVal\"])*91)\n",
    "aa = (np.array(area2)-np.array(area1))/np.array(area2)\n",
    "psdresult=pd.DataFrame({\"Qshort\": area1, \"Qlong\" : area2, \"PsdValue\": aa }, \n",
    "                       index = inds)\n",
    "#psdresult.to_pickle(os.path.join(psddatafolder, \"psdresult_2.pkl\"))"
   ]
  },
  {
   "cell_type": "code",
   "execution_count": 22,
   "id": "accompanied-topic",
   "metadata": {},
   "outputs": [
    {
     "data": {
      "text/plain": [
       "(-14.962879640045, 6.450600637411133)"
      ]
     },
     "execution_count": 22,
     "metadata": {},
     "output_type": "execute_result"
    }
   ],
   "source": [
    "psdresult[\"PsdValue\"].min(), psdresult[\"PsdValue\"].max()"
   ]
  },
  {
   "cell_type": "code",
   "execution_count": 52,
   "id": "sunrise-grocery",
   "metadata": {},
   "outputs": [
    {
     "data": {
      "image/png": "[encoded data removed]",
      "text/plain": [
       "<Figure size 864x648 with 1 Axes>"
      ]
     },
     "metadata": {
      "needs_background": "light"
     },
     "output_type": "display_data"
    }
   ],
   "source": [
    "inds = smf1.index\n",
    "result = plt.hist2d(psd1.loc[inds][\"MaxVal\"], psdresult[\"PsdValue\"] , \n",
    "                   bins=[np.arange(0, 20000, 100), np.arange(-1, 1, 0.005)], \n",
    "                   norm=matplotlib.colors.LogNorm())\n",
    "plt.ylim([0.0, 0.75])\n",
    "plt.clim(1, 1360)\n",
    "#plt.xlim(200, 17500)\n",
    "plt.grid()\n",
    "#print(aa.min(), aa.max())\n",
    "psdfitresult=[]"
   ]
  },
  {
   "cell_type": "code",
   "execution_count": 77,
   "id": "yellow-classification",
   "metadata": {},
   "outputs": [
    {
     "name": "stdout",
     "output_type": "stream",
     "text": [
      "[ 1.27880855e+02  2.75032054e-01  1.40852224e-02 -4.14626179e+01\n",
      "  2.56343172e-01  6.93621402e-03  3.80320967e-02]\n",
      "a1 = 127.88085 +/- 2.22023\n",
      "a2 = -41.46262 +/- 6.95994\n",
      "c1 = 0.27503 +/- 0.00073\n",
      "c2 = 0.25634 +/- 0.00046\n",
      "g1 = 0.03317 +/- 0.00107\n",
      "g2 = 0.01633 +/- 0.00172\n",
      "FOM=0.3775 +/- 0.0233\n"
     ]
    },
    {
     "data": {
      "image/png": "[encoded data removed]",
      "text/plain": [
       "<Figure size 864x648 with 1 Axes>"
      ]
     },
     "metadata": {
      "needs_background": "light"
     },
     "output_type": "display_data"
    }
   ],
   "source": [
    "\n",
    "fomx=0.5*(result[2][1:]+result[2][:-1])\n",
    "fomy = result[0][115:125, :].sum(axis=0)\n",
    "p0=[fomy.max(), 0.27, 0.012, 15, 0.37, 0.012, 10]\n",
    "ydata = psd_fit(fomx, p0[0], p0[1], p0[2], p0[3], p0[4], p0[5], p0[6])\n",
    "popt, pcov = optimize.curve_fit(psd_fit, fomx, fomy, p0)\n",
    "xx = np.arange(0.0, 0.7, 0.01)\n",
    "print(popt)\n",
    "plt.plot(fomx, fomy, \"bo-\")\n",
    "plt.plot(xx, gaussian(xx, popt[0], popt[1], popt[2])+gaussian(xx, popt[3], popt[4], popt[5])+popt[6], 'r-')\n",
    "plt.xlim([0.0, 0.7])\n",
    "#plt.ylim([1, 500000])\n",
    "#plt.yscale('log')\n",
    "plt.grid()\n",
    "plt.xlabel(\"PSD Parameters\")\n",
    "plt.ylabel(\"Counts\")\n",
    "\n",
    "# g1, g2 : FWHM of two psd peak\n",
    "g1, g2 = np.abs(popt[2])*2.3548, np.abs(popt[5])*2.3548\n",
    "\n",
    "# fomv : FOM value\n",
    "fomv = np.abs(popt[1]-popt[4])/(g1+g2)\n",
    "\n",
    "fit_diag = pcov.diagonal()\n",
    "c1_err, c2_err, g1_err, g2_err = np.sqrt(fit_diag[1]), np.sqrt(fit_diag[4]),\\\n",
    "    np.sqrt(fit_diag[2])*2.3548, np.sqrt(fit_diag[5])*2.3548  \n",
    "err1=np.sqrt(c1_err**2+c2_err**2)\n",
    "cc1=np.abs(popt[1]-popt[4])\n",
    "err2=np.sqrt(g1_err**2+g2_err**2)\n",
    "gg2 = g1+g2\n",
    "fome = np.abs(fomv)*np.sqrt(err1**2/cc1**2+err2**2/gg2**2)\n",
    "plt.title(\"FOM=%6.4f $\\pm$ %6.4f\"%(fomv, fome))\n",
    "print(\"a1 = %7.5f +/- %7.5f\"%(popt[0], np.sqrt(fit_diag[0])))\n",
    "print(\"a2 = %7.5f +/- %7.5f\"%(popt[3], np.sqrt(fit_diag[3])))\n",
    "print(\"c1 = %7.5f +/- %7.5f\"%(popt[1], np.sqrt(fit_diag[1])))\n",
    "print(\"c2 = %7.5f +/- %7.5f\"%(popt[4], np.sqrt(fit_diag[4])))\n",
    "print(\"g1 = %7.5f +/- %7.5f\"%(g1, g1_err))\n",
    "print(\"g2 = %7.5f +/- %7.5f\"%(g2, g2_err))\n",
    "print(\"FOM=%6.4f +/- %6.4f\"%(fomv, fome))"
   ]
  },
  {
   "cell_type": "code",
   "execution_count": 74,
   "id": "sorted-bracket",
   "metadata": {},
   "outputs": [],
   "source": [
    "\n",
    "psdfitresult=[[2000, 23227.27898, 57.28263, 2245.40082, 54.42151, 0.26533, 0.00004, \n",
    "              0.40700, 0.00040, 0.03024 ,0.00009, 0.03352, 0.00094, 2.2222 ,0.0336],\n",
    "              [3000, 11341.84057, 39.66800, 946.72361, 38.55048, 0.26474,  0.00005,\n",
    "               0.39084, 0.00061, 0.02885, 0.00012, 0.03056, 0.00144, 2.1226, 0.0527],\n",
    "              [4000, 6968.49507, 31.20365, 474.89896, 30.57850, 0.26513,  0.00006, \n",
    "              0.38033, 0.00094, 0.02858, 0.00015, 0.02976, 0.00222, 1.9745, 0.0771], \n",
    "              [5000, 4246.15360, 23.63185, 262.07754, 23.50574, 0.26582, 0.00008, \n",
    "              0.37302, 0.00126, 0.02841, 0.00018, 0.02872, 0.00299, 1.8766, 0.1007],\n",
    "              [6000, 3269.05720, 19.63343, 148.82144, 20.12027, 0.26726, 0.00008, \n",
    "              0.36709, 0.00179, 0.02835, 0.00020, 0.02699, 0.00423, 1.8042, 0.1417],\n",
    "              [7000, 1592.86110, 10.03814, 79.15910, 10.06100, 0.26937, 0.00009,\n",
    "               0.36280, 0.00176, 0.02843, 0.00021, 0.02830, 0.00417, 1.6466, 0.1251],\n",
    "              [8000, 814.01479, 6.60712, 48.71729, 6.67154, 0.27104, 0.00011,\n",
    "               0.35982, 0.00187, 0.02847, 0.00027, 0.02792, 0.00443, 1.5746, 0.1283],\n",
    "              [9000, 447.97402, 3.74756, 29.23024, 3.71793, 0.27286, 0.00012, \n",
    "               0.35778, 0.00182, 0.02872, 0.00028, 0.02918, 0.00430, 1.4668, 0.1137],\n",
    "              [10000, 275.55502, 2.46587, 18.15285, 2.61285, 0.27427, 0.00012,\n",
    "               0.35551, 0.00178, 0.02840, 0.00029, 0.02529, 0.00422, 1.5131, 0.1237], \n",
    "              [11000, 170.96139, 1.61219, 9.58747, 1.62591, 0.27648, 0.00014, \n",
    "               0.35572, 0.00239, 0.02934, 0.00032, 0.02884, 0.00567, 1.3620, 0.1392],\n",
    "             ]\n",
    "              \n",
    "pp = np.array(psdfitresult)"
   ]
  },
  {
   "cell_type": "code",
   "execution_count": 75,
   "id": "atmospheric-livestock",
   "metadata": {},
   "outputs": [
    {
     "data": {
      "text/plain": [
       "array([[2.00000000e+03, 2.32272790e+04, 5.72826300e+01, 2.24540082e+03,\n",
       "        5.44215100e+01, 2.65330000e-01, 4.00000000e-05, 4.07000000e-01,\n",
       "        4.00000000e-04, 3.02400000e-02, 9.00000000e-05, 3.35200000e-02,\n",
       "        9.40000000e-04, 2.22220000e+00, 3.36000000e-02],\n",
       "       [3.00000000e+03, 1.13418406e+04, 3.96680000e+01, 9.46723610e+02,\n",
       "        3.85504800e+01, 2.64740000e-01, 5.00000000e-05, 3.90840000e-01,\n",
       "        6.10000000e-04, 2.88500000e-02, 1.20000000e-04, 3.05600000e-02,\n",
       "        1.44000000e-03, 2.12260000e+00, 5.27000000e-02],\n",
       "       [4.00000000e+03, 6.96849507e+03, 3.12036500e+01, 4.74898960e+02,\n",
       "        3.05785000e+01, 2.65130000e-01, 6.00000000e-05, 3.80330000e-01,\n",
       "        9.40000000e-04, 2.85800000e-02, 1.50000000e-04, 2.97600000e-02,\n",
       "        2.22000000e-03, 1.97450000e+00, 7.71000000e-02],\n",
       "       [5.00000000e+03, 4.24615360e+03, 2.36318500e+01, 2.62077540e+02,\n",
       "        2.35057400e+01, 2.65820000e-01, 8.00000000e-05, 3.73020000e-01,\n",
       "        1.26000000e-03, 2.84100000e-02, 1.80000000e-04, 2.87200000e-02,\n",
       "        2.99000000e-03, 1.87660000e+00, 1.00700000e-01],\n",
       "       [6.00000000e+03, 3.26905720e+03, 1.96334300e+01, 1.48821440e+02,\n",
       "        2.01202700e+01, 2.67260000e-01, 8.00000000e-05, 3.67090000e-01,\n",
       "        1.79000000e-03, 2.83500000e-02, 2.00000000e-04, 2.69900000e-02,\n",
       "        4.23000000e-03, 1.80420000e+00, 1.41700000e-01],\n",
       "       [7.00000000e+03, 1.59286110e+03, 1.00381400e+01, 7.91591000e+01,\n",
       "        1.00610000e+01, 2.69370000e-01, 9.00000000e-05, 3.62800000e-01,\n",
       "        1.76000000e-03, 2.84300000e-02, 2.10000000e-04, 2.83000000e-02,\n",
       "        4.17000000e-03, 1.64660000e+00, 1.25100000e-01],\n",
       "       [8.00000000e+03, 8.14014790e+02, 6.60712000e+00, 4.87172900e+01,\n",
       "        6.67154000e+00, 2.71040000e-01, 1.10000000e-04, 3.59820000e-01,\n",
       "        1.87000000e-03, 2.84700000e-02, 2.70000000e-04, 2.79200000e-02,\n",
       "        4.43000000e-03, 1.57460000e+00, 1.28300000e-01],\n",
       "       [9.00000000e+03, 4.47974020e+02, 3.74756000e+00, 2.92302400e+01,\n",
       "        3.71793000e+00, 2.72860000e-01, 1.20000000e-04, 3.57780000e-01,\n",
       "        1.82000000e-03, 2.87200000e-02, 2.80000000e-04, 2.91800000e-02,\n",
       "        4.30000000e-03, 1.46680000e+00, 1.13700000e-01],\n",
       "       [1.00000000e+04, 2.75555020e+02, 2.46587000e+00, 1.81528500e+01,\n",
       "        2.61285000e+00, 2.74270000e-01, 1.20000000e-04, 3.55510000e-01,\n",
       "        1.78000000e-03, 2.84000000e-02, 2.90000000e-04, 2.52900000e-02,\n",
       "        4.22000000e-03, 1.51310000e+00, 1.23700000e-01],\n",
       "       [1.10000000e+04, 1.70961390e+02, 1.61219000e+00, 9.58747000e+00,\n",
       "        1.62591000e+00, 2.76480000e-01, 1.40000000e-04, 3.55720000e-01,\n",
       "        2.39000000e-03, 2.93400000e-02, 3.20000000e-04, 2.88400000e-02,\n",
       "        5.67000000e-03, 1.36200000e+00, 1.39200000e-01]])"
      ]
     },
     "execution_count": 75,
     "metadata": {},
     "output_type": "execute_result"
    }
   ],
   "source": [
    "pp"
   ]
  },
  {
   "cell_type": "code",
   "execution_count": null,
   "id": "gorgeous-bahrain",
   "metadata": {},
   "outputs": [],
   "source": []
  }
 ],
 "metadata": {
  "kernelspec": {
   "display_name": "Python 3",
   "language": "python",
   "name": "python3"
  },
  "language_info": {
   "codemirror_mode": {
    "name": "ipython",
    "version": 3
   },
   "file_extension": ".py",
   "mimetype": "text/x-python",
   "name": "python",
   "nbconvert_exporter": "python",
   "pygments_lexer": "ipython3",
   "version": "3.8.8"
  }
 },
 "nbformat": 4,
 "nbformat_minor": 5
}
