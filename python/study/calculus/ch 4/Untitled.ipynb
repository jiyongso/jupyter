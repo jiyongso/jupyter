{
 "cells": [
  {
   "cell_type": "code",
   "execution_count": 1,
   "id": "592fbeaf-25bf-4d35-8468-52edc8841613",
   "metadata": {},
   "outputs": [],
   "source": [
    "%matplotlib inline\n",
    "#%matplotlib notebook\n",
    "#%matplotlib widget\n",
    "import matplotlib \n",
    "import numpy as np\n",
    "import pandas as pd\n",
    "import os, sys, time, pickle\n",
    "#import ipywidgets\n",
    "from mpl_toolkits.mplot3d import Axes3D\n",
    "import matplotlib.pyplot as plt\n",
    "from matplotlib import cm\n",
    "from matplotlib.ticker import LinearLocator, FormatStrFormatter\n",
    "from mpl_toolkits.mplot3d.art3d import Poly3DCollection    \n",
    "\n",
    "from scipy import optimize\n",
    "# use LaTeX, choose nice some looking fonts and tweak some settings\n",
    "matplotlib.rc('font', family='serif')\n",
    "matplotlib.rc('font', size=16)\n",
    "matplotlib.rc('legend', fontsize=16)\n",
    "matplotlib.rc('legend', numpoints=1)\n",
    "matplotlib.rc('legend', handlelength=1.5)\n",
    "matplotlib.rc('legend', frameon=True)\n",
    "matplotlib.rc('xtick.major', pad=7)\n",
    "matplotlib.rc('xtick', direction=\"in\")\n",
    "matplotlib.rc('ytick', direction=\"in\")\n",
    "matplotlib.rc('xtick', top = True)\n",
    "matplotlib.rc('ytick', right =True )\n",
    "matplotlib.rc('xtick.minor', pad=7)\n",
    "matplotlib.rc('text', usetex=True)\n",
    "# matplotlib.rc('text.latex', \n",
    "#               preamble=[r'\\usepackage[T1]{fontenc}',\n",
    "#                         r'\\usepackage{amsmath}',\n",
    "#                         r'\\usepackage{txfonts}',\n",
    "#                         r'\\usepackage{textcomp}'])\n",
    "\n",
    "matplotlib.rc('figure', figsize=(12, 9))\n",
    "\n",
    "import sympy as sp\n",
    "sp.init_printing(use_latex=True)"
   ]
  },
  {
   "cell_type": "code",
   "execution_count": 23,
   "id": "137cf733-a36d-474b-8a4e-11eecfe544fc",
   "metadata": {},
   "outputs": [],
   "source": [
    "def CartesianToSpheciral(x, y, z):\n",
    "    r = np.sqrt(x**2+y**2+z**2)\n",
    "    if r == 0 :\n",
    "        return (0., 0., 0.)\n",
    "    theta = np.arctan2(z, np.sqrt(x**2+y**2))\n",
    "    phi = np.arctan2(x, y)\n",
    "    return (r, phi, theta)\n",
    "\n",
    "def CartesianToCylindrical(x, y, z):\n",
    "    rho = np.sqrt(x**2+y**2)\n",
    "    theta = 0.0\n",
    "    if rho > 0.0:\n",
    "        theta = np.arctan2(x, y)\n",
    "    return (rho, theta, z)\n",
    "\n",
    "def SphericalToCartesian(r, phi, theta):\n",
    "    x = r*np.sin(theta)*np.cos(phi)\n",
    "    y = r*np.sin(theta)*np.sin(phi)\n",
    "    z = r*np.cos(theta)\n",
    "    return (x, y, z)\n",
    "\n",
    "def CylindricalToCartesian(r, theta, z):\n",
    "    x = r*np.cos(theta)\n",
    "    y = r*np.sin(theta)\n",
    "    return (x, y, z)\n"
   ]
  },
  {
   "cell_type": "code",
   "execution_count": 15,
   "id": "998f3f8a-9721-4141-9d57-4636aa029ed8",
   "metadata": {},
   "outputs": [
    {
     "data": {
      "image/png": "[encoded data removed]",
      "text/latex": [
       "$\\displaystyle 0.25$"
      ],
      "text/plain": [
       "0.25"
      ]
     },
     "execution_count": 15,
     "metadata": {},
     "output_type": "execute_result"
    }
   ],
   "source": [
    "CartesianToSpheciral(1, 1, 0)[2]/np.pi"
   ]
  },
  {
   "cell_type": "code",
   "execution_count": 16,
   "id": "4d380345-8da8-4c32-9096-6268d04166f3",
   "metadata": {},
   "outputs": [
    {
     "data": {
      "image/png": "[encoded data removed]",
      "text/latex": [
       "$\\displaystyle \\left( 1.4142135623731, \\  0.785398163397448, \\  0\\right)$"
      ],
      "text/plain": [
       "(1.4142135623730951, 0.7853981633974483, 0)"
      ]
     },
     "execution_count": 16,
     "metadata": {},
     "output_type": "execute_result"
    }
   ],
   "source": [
    "CartesianToCylindrical(1, 1, 0)"
   ]
  },
  {
   "cell_type": "code",
   "execution_count": 17,
   "id": "d472f7f8-e743-4366-9e28-fb8f2c4705db",
   "metadata": {},
   "outputs": [
    {
     "data": {
      "image/png": "[encoded data removed]",
      "text/latex": [
       "$\\displaystyle \\left( 1.0, \\  0.0, \\  1.0\\right)$"
      ],
      "text/plain": [
       "(1.0, 0.0, 1.0000000000000002)"
      ]
     },
     "execution_count": 17,
     "metadata": {},
     "output_type": "execute_result"
    }
   ],
   "source": [
    "SphericalToCartesian(np.sqrt(2), np.pi/4, 0)"
   ]
  },
  {
   "cell_type": "code",
   "execution_count": 26,
   "id": "b5aab2b4-bc5a-4533-8bf9-9853dca4625d",
   "metadata": {},
   "outputs": [
    {
     "data": {
      "image/png": "[encoded data removed]",
      "text/latex": [
       "$\\displaystyle \\left( 1.4142135623731, \\  -2.35619449019234, \\  -1\\right)$"
      ],
      "text/plain": [
       "(1.4142135623730951, -2.356194490192345, -1)"
      ]
     },
     "execution_count": 26,
     "metadata": {},
     "output_type": "execute_result"
    }
   ],
   "source": [
    "CartesianToCylindrical(-1, -1, -1)"
   ]
  },
  {
   "cell_type": "code",
   "execution_count": 27,
   "id": "036e7cd1-ac32-4e1b-ab4c-1b41956d654c",
   "metadata": {},
   "outputs": [
    {
     "data": {
      "image/png": "[encoded data removed]",
      "text/latex": [
       "$\\displaystyle \\left( 1.73205080756888, \\  -2.35619449019234, \\  -0.615479708670387\\right)$"
      ],
      "text/plain": [
       "(1.7320508075688772, -2.356194490192345, -0.6154797086703873)"
      ]
     },
     "execution_count": 27,
     "metadata": {},
     "output_type": "execute_result"
    }
   ],
   "source": [
    "CartesianToSpheciral(-1, -1, -1)"
   ]
  },
  {
   "cell_type": "code",
   "execution_count": 30,
   "id": "a1bc2e14-abec-4c55-b278-d28f8c0c1eed",
   "metadata": {},
   "outputs": [
    {
     "data": {
      "image/png": "[encoded data removed]",
      "text/latex": [
       "$\\displaystyle -0.195913276015304$"
      ],
      "text/plain": [
       "-0.19591327601530353"
      ]
     },
     "execution_count": 30,
     "metadata": {},
     "output_type": "execute_result"
    }
   ],
   "source": [
    "-0.615479708670387/np.pi"
   ]
  },
  {
   "cell_type": "code",
   "execution_count": 35,
   "id": "7ebde94c-3615-4e67-bff2-324e96dc078b",
   "metadata": {},
   "outputs": [
    {
     "data": {
      "image/png": "[encoded data removed]",
      "text/latex": [
       "$\\displaystyle -0.615479708670387$"
      ],
      "text/plain": [
       "-0.6154797086703873"
      ]
     },
     "execution_count": 35,
     "metadata": {},
     "output_type": "execute_result"
    }
   ],
   "source": [
    "np.arctan2(-1, np.sqrt(2))"
   ]
  },
  {
   "cell_type": "code",
   "execution_count": null,
   "id": "49701572-6922-4a4d-a919-14560bf379ea",
   "metadata": {},
   "outputs": [],
   "source": []
  }
 ],
 "metadata": {
  "kernelspec": {
   "display_name": "Python 3",
   "language": "python",
   "name": "python3"
  },
  "language_info": {
   "codemirror_mode": {
    "name": "ipython",
    "version": 3
   },
   "file_extension": ".py",
   "mimetype": "text/x-python",
   "name": "python",
   "nbconvert_exporter": "python",
   "pygments_lexer": "ipython3",
   "version": "3.8.10"
  }
 },
 "nbformat": 4,
 "nbformat_minor": 5
}
