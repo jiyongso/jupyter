{
 "cells": [
  {
   "cell_type": "code",
   "execution_count": 73,
   "id": "0e671bd3-252a-4b6e-a947-78647116f9d7",
   "metadata": {},
   "outputs": [],
   "source": [
    "%matplotlib inline\n",
    "#%matplotlib notebook\n",
    "#%matplotlib widget\n",
    "import matplotlib \n",
    "import numpy as np\n",
    "import pandas as pd\n",
    "import os, sys, time, pickle\n",
    "#import ipywidgets\n",
    "from mpl_toolkits.mplot3d import Axes3D\n",
    "import matplotlib.pyplot as plt\n",
    "from matplotlib import cm\n",
    "from matplotlib.ticker import LinearLocator, FormatStrFormatter\n",
    "from mpl_toolkits.mplot3d.art3d import Poly3DCollection    \n",
    "\n",
    "from scipy import optimize\n",
    "# use LaTeX, choose nice some looking fonts and tweak some settings\n",
    "matplotlib.rc('font', family='serif')\n",
    "matplotlib.rc('font', size=16)\n",
    "matplotlib.rc('legend', fontsize=16)\n",
    "matplotlib.rc('legend', numpoints=1)\n",
    "matplotlib.rc('legend', handlelength=1.5)\n",
    "matplotlib.rc('legend', frameon=True)\n",
    "matplotlib.rc('xtick.major', pad=7)\n",
    "matplotlib.rc('xtick', direction=\"in\")\n",
    "matplotlib.rc('ytick', direction=\"in\")\n",
    "matplotlib.rc('xtick', top = True)\n",
    "matplotlib.rc('ytick', right =True )\n",
    "matplotlib.rc('xtick.minor', pad=7)\n",
    "matplotlib.rc('text', usetex=True)\n",
    "# matplotlib.rc('text.latex', \n",
    "#               preamble=[r'\\usepackage[T1]{fontenc}',\n",
    "#                         r'\\usepackage{amsmath}',\n",
    "#                         r'\\usepackage{txfonts}',\n",
    "#                         r'\\usepackage{textcomp}'])\n",
    "\n",
    "matplotlib.rc('figure', figsize=(12, 9))\n",
    "\n",
    "import sympy as sp\n",
    "sp.init_printing(use_latex=True)"
   ]
  },
  {
   "cell_type": "code",
   "execution_count": 69,
   "id": "26ff240d-c7cd-431a-9a39-b19059afdfd0",
   "metadata": {},
   "outputs": [],
   "source": [
    "\n",
    "# 시간 측정 자동화를 위한 데커레이터의 정의\n",
    "\n",
    "from functools import wraps\n",
    "\n",
    "def timefn(fn):\n",
    "    @wraps(fn)\n",
    "    def measure_time(*args, **kwargs):\n",
    "        t1=time.time()\n",
    "        result = fn(*args, **kwargs)\n",
    "        t2=time.time()\n",
    "        print(f\"@timefn : {fn.__name__} took {t2-t1} seconds\")\n",
    "        return result\n",
    "    return measure_time\n",
    "\n",
    "\n",
    "x1, x2, y1, y2 = -1.8, 1.8, -1.8, 1.8\n",
    "c_real, c_imag = -0.62772, -0.42193\n",
    "\n",
    "@timefn\n",
    "def calculate_z_serial_purepython(maxiter, zs, cs):\n",
    "    output = [0] * len(zs)\n",
    "    \n",
    "    for i in range(len(zs)):\n",
    "        n = 0\n",
    "        z = zs[i]\n",
    "        c = cs[i]\n",
    "        while (abs(z) < 2. and n < maxiter):\n",
    "\n",
    "            z = z*z+c\n",
    "            n += 1\n",
    "        output[i]=n\n",
    "    return output\n",
    "\n",
    "def calc_pure_python(desired_width, max_iterations):\n",
    "    x_step = (x2-x1)/desired_width\n",
    "    y_step = (y2-y1)/desired_width\n",
    "    x=[]\n",
    "    y=[]\n",
    "    \n",
    "    ycoord=y1\n",
    "    \n",
    "    while ycoord < y2:\n",
    "        y.append(ycoord)\n",
    "        ycoord += y_step\n",
    "    xcoord = x1\n",
    "    while xcoord < x2:\n",
    "        x.append(xcoord)\n",
    "        xcoord += x_step\n",
    "    \n",
    "    #return x, y\n",
    "    zs=[]\n",
    "    cs=[]\n",
    "    \n",
    "    for ycoord in y:\n",
    "        for xcoord in x:\n",
    "            zs.append(complex(xcoord, ycoord))\n",
    "            cs.append(complex(c_real, c_imag))\n",
    "    print(\"Length of x : \", len(x))\n",
    "    print(\"Total elements : \", len(zs))\n",
    "    start_time = time.time()\n",
    "    output = calculate_z_serial_purepython(max_iterations, zs, cs)\n",
    "    end_time = time.time()\n",
    "    secs=end_time-start_time\n",
    "    print(calculate_z_serial_purepython.__name__ + \" took\", secs, \"seconds\")\n",
    "    \n",
    "    \n",
    "    #return output\n",
    "    assert sum(output) == 33219980\n",
    "    \n",
    "\n"
   ]
  },
  {
   "cell_type": "code",
   "execution_count": null,
   "id": "dd7a2fa6-37a6-47a8-97c7-bdffb16170fa",
   "metadata": {},
   "outputs": [],
   "source": []
  },
  {
   "cell_type": "code",
   "execution_count": 70,
   "id": "de67d6e9-fd8f-442f-9bf8-52d7034fe31a",
   "metadata": {},
   "outputs": [
    {
     "name": "stdout",
     "output_type": "stream",
     "text": [
      "Length of x :  1000\n",
      "Total elements :  1000000\n",
      "@timefn : calculate_z_serial_purepython took 3.36116623878479 seconds\n",
      "calculate_z_serial_purepython took 3.3612351417541504 seconds\n"
     ]
    }
   ],
   "source": [
    "calc_pure_python(1000, 300)"
   ]
  },
  {
   "cell_type": "code",
   "execution_count": 65,
   "id": "5325394a-89d9-4504-acaf-52d5aa882954",
   "metadata": {},
   "outputs": [
    {
     "data": {
      "image/png": "[encoded data removed]",
      "text/latex": [
       "$\\displaystyle 33219980$"
      ],
      "text/plain": [
       "33219980"
      ]
     },
     "execution_count": 65,
     "metadata": {},
     "output_type": "execute_result"
    }
   ],
   "source": [
    "sum(output)"
   ]
  },
  {
   "cell_type": "code",
   "execution_count": 7,
   "id": "3c2d19d1-9095-4d4a-9b40-bab0b65a6598",
   "metadata": {},
   "outputs": [
    {
     "data": {
      "text/plain": [
       "0"
      ]
     },
     "execution_count": 7,
     "metadata": {},
     "output_type": "execute_result"
    }
   ],
   "source": [
    "out.sum()"
   ]
  },
  {
   "cell_type": "code",
   "execution_count": 42,
   "id": "fc40b1f8-9f67-4b09-b497-0dbe40bcf608",
   "metadata": {},
   "outputs": [],
   "source": [
    "s[1]=1"
   ]
  },
  {
   "cell_type": "code",
   "execution_count": 43,
   "id": "c7bd4657-64a8-4266-92bf-daf21efc917c",
   "metadata": {},
   "outputs": [
    {
     "data": {
      "image/png": "[encoded data removed]",
      "text/latex": [
       "$\\displaystyle \\left[ 0, \\  1, \\  0, \\  0, \\  0, \\  0, \\  0, \\  0, \\  0, \\  0\\right]$"
      ],
      "text/plain": [
       "[0, 1, 0, 0, 0, 0, 0, 0, 0, 0]"
      ]
     },
     "execution_count": 43,
     "metadata": {},
     "output_type": "execute_result"
    }
   ],
   "source": [
    "s"
   ]
  },
  {
   "cell_type": "code",
   "execution_count": 44,
   "id": "e9ac8dba-d408-42a6-91e3-d7dc2a9f614f",
   "metadata": {},
   "outputs": [
    {
     "data": {
      "image/png": "[encoded data removed]",
      "text/latex": [
       "$\\displaystyle 1$"
      ],
      "text/plain": [
       "1"
      ]
     },
     "execution_count": 44,
     "metadata": {},
     "output_type": "execute_result"
    }
   ],
   "source": [
    "sum(s)"
   ]
  },
  {
   "cell_type": "code",
   "execution_count": 72,
   "id": "f26b67dd-f625-4c3e-af7a-05632244961a",
   "metadata": {},
   "outputs": [
    {
     "data": {
      "image/png": "[encoded data removed]",
      "text/latex": [
       "$\\displaystyle 5$"
      ],
      "text/plain": [
       "5"
      ]
     },
     "execution_count": 72,
     "metadata": {},
     "output_type": "execute_result"
    }
   ],
   "source": [
    "2+3\n"
   ]
  },
  {
   "cell_type": "code",
   "execution_count": 74,
   "id": "da0f1267-0ca9-42cb-b771-c7b072421562",
   "metadata": {},
   "outputs": [],
   "source": [
    "import pstats"
   ]
  },
  {
   "cell_type": "code",
   "execution_count": null,
   "id": "f3212bfa-b025-4e46-8c18-2218c7c80a5a",
   "metadata": {},
   "outputs": [],
   "source": []
  }
 ],
 "metadata": {
  "kernelspec": {
   "display_name": "Python 3",
   "language": "python",
   "name": "python3"
  },
  "language_info": {
   "codemirror_mode": {
    "name": "ipython",
    "version": 3
   },
   "file_extension": ".py",
   "mimetype": "text/x-python",
   "name": "python",
   "nbconvert_exporter": "python",
   "pygments_lexer": "ipython3",
   "version": "3.8.10"
  }
 },
 "nbformat": 4,
 "nbformat_minor": 5
}
