{
 "cells": [
  {
   "cell_type": "code",
   "execution_count": 1,
   "id": "3c1ff372-d6b7-4dce-9aa6-4c860ff88a80",
   "metadata": {},
   "outputs": [],
   "source": [
    "%matplotlib inline\n",
    "#%matplotlib notebook\n",
    "#%matplotlib widget\n",
    "import matplotlib \n",
    "import numpy as np\n",
    "import pandas as pd\n",
    "import os, sys, time, pickle\n",
    "#import ipywidgets\n",
    "from mpl_toolkits.mplot3d import Axes3D\n",
    "import matplotlib.pyplot as plt\n",
    "from matplotlib import cm\n",
    "from matplotlib.ticker import LinearLocator, FormatStrFormatter\n",
    "from mpl_toolkits.mplot3d.art3d import Poly3DCollection    \n",
    "\n",
    "from scipy import optimize\n",
    "# use LaTeX, choose nice some looking fonts and tweak some settings\n",
    "matplotlib.rc('font', family='serif')\n",
    "matplotlib.rc('font', size=16)\n",
    "matplotlib.rc('legend', fontsize=16)\n",
    "matplotlib.rc('legend', numpoints=1)\n",
    "matplotlib.rc('legend', handlelength=1.5)\n",
    "matplotlib.rc('legend', frameon=True)\n",
    "matplotlib.rc('xtick.major', pad=7)\n",
    "matplotlib.rc('xtick', direction=\"in\")\n",
    "matplotlib.rc('ytick', direction=\"in\")\n",
    "matplotlib.rc('xtick', top = True)\n",
    "matplotlib.rc('ytick', right =True )\n",
    "matplotlib.rc('xtick.minor', pad=7)\n",
    "matplotlib.rc('text', usetex=True)\n",
    "# matplotlib.rc('text.latex', \n",
    "#               preamble=[r'\\usepackage[T1]{fontenc}',\n",
    "#                         r'\\usepackage{amsmath}',\n",
    "#                         r'\\usepackage{txfonts}',\n",
    "#                         r'\\usepackage{textcomp}'])\n",
    "\n",
    "matplotlib.rc('figure', figsize=(12, 9))\n",
    "\n",
    "import sympy as sp\n",
    "sp.init_printing(use_latex=True)"
   ]
  },
  {
   "cell_type": "code",
   "execution_count": 4,
   "id": "c4f9c2c1-c95e-47db-b995-1036136ecca2",
   "metadata": {},
   "outputs": [
    {
     "data": {
      "image/png": "[encoded data removed]",
      "text/latex": [
       "$\\displaystyle 39.0624999348958$"
      ],
      "text/plain": [
       "39.0624999348958"
      ]
     },
     "execution_count": 4,
     "metadata": {},
     "output_type": "execute_result"
    }
   ],
   "source": [
    "x=sp.symbols('x')\n",
    "((sp.Derivative(x/sp.sinh(x), x,x, x, x)).doit()).subs({x:0.0001})"
   ]
  },
  {
   "cell_type": "code",
   "execution_count": 5,
   "id": "b60b49b4-fb83-4e84-8170-bd8802f961cd",
   "metadata": {},
   "outputs": [
    {
     "data": {
      "image/png": "[encoded data removed]",
      "text/latex": [
       "$\\displaystyle \\frac{x \\left(5 - \\frac{28 \\cosh^{2}{\\left(x \\right)}}{\\sinh^{2}{\\left(x \\right)}} + \\frac{24 \\cosh^{4}{\\left(x \\right)}}{\\sinh^{4}{\\left(x \\right)}}\\right) + \\frac{4 \\left(5 - \\frac{6 \\cosh^{2}{\\left(x \\right)}}{\\sinh^{2}{\\left(x \\right)}}\\right) \\cosh{\\left(x \\right)}}{\\sinh{\\left(x \\right)}}}{\\sinh{\\left(x \\right)}}$"
      ],
      "text/plain": [
       "                                      ⎛          2   ⎞        \n",
       "                                      ⎜    6⋅cosh (x)⎟        \n",
       "                                    4⋅⎜5 - ──────────⎟⋅cosh(x)\n",
       "  ⎛           2             4   ⎞     ⎜         2    ⎟        \n",
       "  ⎜    28⋅cosh (x)   24⋅cosh (x)⎟     ⎝     sinh (x) ⎠        \n",
       "x⋅⎜5 - ─────────── + ───────────⎟ + ──────────────────────────\n",
       "  ⎜          2             4    ⎟            sinh(x)          \n",
       "  ⎝      sinh (x)      sinh (x) ⎠                             \n",
       "──────────────────────────────────────────────────────────────\n",
       "                           sinh(x)                            "
      ]
     },
     "execution_count": 5,
     "metadata": {},
     "output_type": "execute_result"
    }
   ],
   "source": [
    "((sp.Derivative(x/sp.sinh(x), x,x, x, x)).doit())"
   ]
  },
  {
   "cell_type": "code",
   "execution_count": 10,
   "id": "6f303be4-54ab-4f34-83ea-d1d79b7eeb5d",
   "metadata": {},
   "outputs": [
    {
     "data": {
      "image/png": "[encoded data removed]",
      "text/latex": [
       "$\\displaystyle 3.0$"
      ],
      "text/plain": [
       "3.00000000000000"
      ]
     },
     "execution_count": 10,
     "metadata": {},
     "output_type": "execute_result"
    }
   ],
   "source": [
    "((sp.Derivative(x**2+x+1, x)).doit()).subs({x:1.})"
   ]
  },
  {
   "cell_type": "code",
   "execution_count": 11,
   "id": "b84a9401-d6c0-4ab9-ab94-0fc52f2fee71",
   "metadata": {},
   "outputs": [
    {
     "data": {
      "image/png": "[encoded data removed]",
      "text/latex": [
       "$\\displaystyle 1023$"
      ],
      "text/plain": [
       "1023"
      ]
     },
     "execution_count": 11,
     "metadata": {},
     "output_type": "execute_result"
    }
   ],
   "source": [
    "31*33"
   ]
  },
  {
   "cell_type": "code",
   "execution_count": 12,
   "id": "182ef344-892a-4bf8-869f-73d946ca50e0",
   "metadata": {},
   "outputs": [
    {
     "data": {
      "image/png": "[encoded data removed]",
      "text/latex": [
       "$\\displaystyle 22.3606797749979$"
      ],
      "text/plain": [
       "22.360679774997898"
      ]
     },
     "execution_count": 12,
     "metadata": {},
     "output_type": "execute_result"
    }
   ],
   "source": [
    "np.sqrt(500)"
   ]
  },
  {
   "cell_type": "code",
   "execution_count": 87,
   "id": "625c500d-883f-4775-a6dd-a4e49065874f",
   "metadata": {},
   "outputs": [],
   "source": [
    "nn = np.arange(0,30)\n",
    "pp = ((-1)**nn) /(2*nn+1)/(4*nn+3)"
   ]
  },
  {
   "cell_type": "code",
   "execution_count": 92,
   "id": "cb2b54a7-6330-42ea-abef-e1104b435c39",
   "metadata": {},
   "outputs": [
    {
     "name": "stdout",
     "output_type": "stream",
     "text": [
      "[ 3.33333333e-01 -4.76190476e-02  1.81818182e-02 -9.52380952e-03\n",
      "  5.84795322e-03 -3.95256917e-03  2.84900285e-03 -2.15053763e-03\n",
      "  1.68067227e-03 -1.34952767e-03  1.10741971e-03 -9.25069380e-04\n",
      "  7.84313725e-04 -6.73400673e-04  5.84453536e-04 -5.12032770e-04\n",
      "  4.52284034e-04 -4.02414487e-04  3.60360360e-04 -3.24569945e-04\n",
      "  2.93858360e-04 -2.67308206e-04  2.44200244e-04 -2.23964166e-04\n",
      "  2.06143063e-04 -1.90367409e-04  1.76335743e-04 -1.63800164e-04\n",
      "  1.52555301e-04 -1.42429853e-04]\n",
      "0.2984047079489637\n"
     ]
    }
   ],
   "source": [
    "pp.sum()\n",
    "print(pp)\n",
    "print(pp[0:11].sum())"
   ]
  },
  {
   "cell_type": "code",
   "execution_count": 83,
   "id": "5fe7a3ec-d334-436a-b544-1473080209ac",
   "metadata": {},
   "outputs": [],
   "source": [
    "ss=np.arange(0., 1.000, 0.0001)\n",
    "yy =np.arctan2(ss**2, 1)"
   ]
  },
  {
   "cell_type": "code",
   "execution_count": 84,
   "id": "b8e08a67-5df1-4602-9e79-c1ee2028b315",
   "metadata": {},
   "outputs": [
    {
     "data": {
      "image/png": "[encoded data removed]",
      "text/latex": [
       "$\\displaystyle 0.297863399923251$"
      ],
      "text/plain": [
       "0.2978633999232508"
      ]
     },
     "execution_count": 84,
     "metadata": {},
     "output_type": "execute_result"
    },
    {
     "data": {
      "image/png": "[encoded data removed]",
      "text/plain": [
       "<Figure size 864x648 with 1 Axes>"
      ]
     },
     "metadata": {
      "needs_background": "light"
     },
     "output_type": "display_data"
    }
   ],
   "source": [
    "plt.plot(ss, yy)\n",
    "yy.sum()*0.0001"
   ]
  },
  {
   "cell_type": "code",
   "execution_count": 95,
   "id": "3665bdae-655d-49b5-a463-58c81f43c70e",
   "metadata": {},
   "outputs": [
    {
     "data": {
      "image/png": "[encoded data removed]",
      "text/latex": [
       "$\\displaystyle 0.297902668998087$"
      ],
      "text/plain": [
       "0.297902668998087"
      ]
     },
     "execution_count": 95,
     "metadata": {},
     "output_type": "execute_result"
    }
   ],
   "source": [
    "sp.integrate( sp.atan(x**2), (x, 0, 1)).evalf()"
   ]
  },
  {
   "cell_type": "code",
   "execution_count": 91,
   "id": "c9afd4ea-00f7-4d4f-a4e5-5a855d3386dd",
   "metadata": {},
   "outputs": [
    {
     "data": {
      "image/png": "[encoded data removed]",
      "text/latex": [
       "$\\displaystyle 1081$"
      ],
      "text/plain": [
       "1081"
      ]
     },
     "execution_count": 91,
     "metadata": {},
     "output_type": "execute_result"
    }
   ],
   "source": [
    "(2*11+1)*(4*11+3)"
   ]
  },
  {
   "cell_type": "code",
   "execution_count": null,
   "id": "5d29f289-1445-4dac-887a-5b9b5bcc0a1f",
   "metadata": {},
   "outputs": [],
   "source": []
  }
 ],
 "metadata": {
  "kernelspec": {
   "display_name": "Python 3",
   "language": "python",
   "name": "python3"
  },
  "language_info": {
   "codemirror_mode": {
    "name": "ipython",
    "version": 3
   },
   "file_extension": ".py",
   "mimetype": "text/x-python",
   "name": "python",
   "nbconvert_exporter": "python",
   "pygments_lexer": "ipython3",
   "version": "3.8.10"
  }
 },
 "nbformat": 4,
 "nbformat_minor": 5
}
