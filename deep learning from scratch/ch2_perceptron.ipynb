{
 "cells": [
  {
   "cell_type": "markdown",
   "metadata": {},
   "source": [
    "## 1. Perceptron\n",
    "\n",
    "* perceptron 은 다수의 신호를 입력받아 하나의 신호를 출력하며 그 값은 0 혹은 1이다.\n",
    "예를 들어 $x_1,\\ldots,\\,x_n$ 의 신호를 받아 출력하는 perceptron 의 출력값을 $y$ 라 하면,\n",
    "$$\n",
    "y = \\left\\{ \\begin{array}{ll} 0 \\qquad & b+\\text{if } \\sum_{i=1}^n w_i, x_i \\le 0 \\\\ 1 \\qquad & b+\\text{if } \\sum_{i=1}^n w_i, x_i >0  \\end{array} \\right.\n",
    "$$\n",
    "이며 $y$ 는 0 혹은 1의 값을 갖는다. 여기서 $w_i$ 를 가중치라 하고 $b$를 편향이라 한다. 편항은 perceptron의 활성화 정도를 나타내는 값이다."
   ]
  },
  {
   "cell_type": "code",
   "execution_count": 1,
   "metadata": {},
   "outputs": [
    {
     "name": "stderr",
     "output_type": "stream",
     "text": [
      "Matplotlib is building the font cache; this may take a moment.\n"
     ]
    }
   ],
   "source": [
    "%matplotlib inline\n",
    "import numpy as np\n",
    "import pandas as pd\n",
    "import matplotlib.pyplot as plt\n",
    "from numba import jit\n",
    "from itertools import combinations\n",
    "import time"
   ]
  },
  {
   "cell_type": "markdown",
   "metadata": {},
   "source": [
    "## 2. 논리 회로\n",
    "\n",
    "간단한 Perceptron. $x_1,\\,x_2$ 는 $0$ or $1$ 값을 가진다고 하자.\n",
    "\n",
    "#### 2.1 AND gate\n",
    "$w_1=w_2=0.5 = 1$, $b = -0.7$ 로 놓으면 AND gate 가 된다.(구현하는 가짓수는 무한개이다.)\n",
    "\n",
    "#### 2.2 OR gate\n",
    "$w_1=w_2=0.5$, $b=0.3$ 으로 놓으면 OR gate가 된다.\n",
    "\n",
    "#### 2.3 NAND gate\n",
    "$w_1=w_2=-0.5$, $b=0.7$ 로 놓으면 NAND gate가 된다.\n",
    "\n",
    "#### 2.4 NOR gate\n",
    "$w_1=w_2 = -0.5$, $b=0.3$ 으로 놓으면 NOR gate가 된다.\n",
    "\n",
    "#### 2.5 XOR gate\n",
    "XOR gate 는 비선형성으로 인해 단일 perceptron으로 구현할 수 없으며 소위 다층 퍼셉트론 (*multi-layer perceptron*) 으로 구현할 수 있다. XOR gate는 AND, OR, NAND gate 각각 1개씩을 이용해서 만들 수도 있고, 다수의 NAND 혹은 NOR gate 로만 만들 수 도 있다.\n",
    "\n",
    "![XOR gate](./254px_3gate_XOR.jpg)"
   ]
  },
  {
   "cell_type": "code",
   "execution_count": 41,
   "metadata": {},
   "outputs": [],
   "source": [
    "b_and = 0.0\n",
    "b_or = 0.0\n",
    "def AND(x1, x2):\n",
    "    x=np.array([x1, x2])\n",
    "    w = np.array([0.5, 0.5])\n",
    "    tmp = np.sum(w*x)+b_and\n",
    "    if tmp <= 0.999:\n",
    "        return 0\n",
    "    else :\n",
    "        return 1\n",
    "\n",
    "def NAND(x1, x2):\n",
    "    return 1-AND(x1, x2)\n",
    "\n",
    "def OR(x1, x2):\n",
    "    x=np.array([x1, x2])\n",
    "    w=np.array([0.5, 0.5])\n",
    "    tmp = np.sum(w*x)+b_or\n",
    "    if tmp <= 0.001 :\n",
    "        return 0\n",
    "    else :\n",
    "        return 1\n",
    "\n",
    "def NOR(x1, x2):\n",
    "    return 1-OR(x1, x2)\n",
    "\n",
    "def XOR(x1, x2):\n",
    "    r1 = NAND(x1, x2)\n",
    "    r2 = OR(x1, x2)\n",
    "    return AND(r1, r2)"
   ]
  },
  {
   "cell_type": "code",
   "execution_count": 45,
   "metadata": {},
   "outputs": [
    {
     "data": {
      "text/plain": [
       "0"
      ]
     },
     "execution_count": 45,
     "metadata": {},
     "output_type": "execute_result"
    }
   ],
   "source": [
    "XOR(1, 1)"
   ]
  },
  {
   "cell_type": "code",
   "execution_count": 40,
   "metadata": {},
   "outputs": [
    {
     "data": {
      "text/plain": [
       "1"
      ]
     },
     "execution_count": 40,
     "metadata": {},
     "output_type": "execute_result"
    }
   ],
   "source": [
    "NAND(0,1)"
   ]
  },
  {
   "cell_type": "code",
   "execution_count": null,
   "metadata": {},
   "outputs": [],
   "source": []
  }
 ],
 "metadata": {
  "kernelspec": {
   "display_name": "Python 3",
   "language": "python",
   "name": "python3"
  },
  "language_info": {
   "codemirror_mode": {
    "name": "ipython",
    "version": 3
   },
   "file_extension": ".py",
   "mimetype": "text/x-python",
   "name": "python",
   "nbconvert_exporter": "python",
   "pygments_lexer": "ipython3",
   "version": "3.7.9"
  }
 },
 "nbformat": 4,
 "nbformat_minor": 4
}
