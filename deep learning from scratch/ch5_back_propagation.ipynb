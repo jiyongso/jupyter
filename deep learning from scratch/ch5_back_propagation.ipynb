{
 "cells": [
  {
   "cell_type": "markdown",
   "metadata": {},
   "source": [
    "## 5. 오차 역전파법(Backward propagation of errors)\n",
    "\n",
    "* 지금까지 신경망의 가중치의 매개변수에 대한 손실함수의 기울기를 수치미분을 사용하여 구했다. 수치미분은 단순하고 구현하기도 쉽지만 계산 시간이 오래 걸리는 단점이 있는데 이번 장에서는 가중치 매개변수의 기울기를 효율적으로 계산하는 **오차역전파법(backward propagation of errors)**을 배워보자.\n"
   ]
  },
  {
   "cell_type": "code",
   "execution_count": null,
   "metadata": {},
   "outputs": [],
   "source": []
  }
 ],
 "metadata": {
  "kernelspec": {
   "display_name": "Python 3",
   "language": "python",
   "name": "python3"
  },
  "language_info": {
   "codemirror_mode": {
    "name": "ipython",
    "version": 3
   },
   "file_extension": ".py",
   "mimetype": "text/x-python",
   "name": "python",
   "nbconvert_exporter": "python",
   "pygments_lexer": "ipython3",
   "version": "3.7.9"
  }
 },
 "nbformat": 4,
 "nbformat_minor": 4
}
