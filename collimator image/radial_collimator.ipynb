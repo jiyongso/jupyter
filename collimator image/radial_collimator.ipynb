{
 "cells": [
  {
   "cell_type": "code",
   "execution_count": 3,
   "metadata": {},
   "outputs": [],
   "source": [
    "%matplotlib inline\n",
    "import matplotlib \n",
    "import numpy as np\n",
    "import pandas as pd\n",
    "import matplotlib.pyplot as plt\n",
    " \n",
    "# use LaTeX, choose nice some looking fonts and tweak some settings\n",
    "matplotlib.rc('font', family='serif')\n",
    "matplotlib.rc('font', size=16)\n",
    "matplotlib.rc('legend', fontsize=16)\n",
    "matplotlib.rc('legend', numpoints=1)\n",
    "matplotlib.rc('legend', handlelength=1.5)\n",
    "matplotlib.rc('legend', frameon=False)\n",
    "matplotlib.rc('xtick.major', pad=7)\n",
    "matplotlib.rc('xtick.minor', pad=7)\n",
    "matplotlib.rc('text', usetex=True)\n",
    "# matplotlib.rc('text.latex', \n",
    "#               preamble=[r'\\usepackage[T1]{fontenc}',\n",
    "#                         r'\\usepackage{amsmath}',\n",
    "#                         r'\\usepackage{txfonts}',\n",
    "#                         r'\\usepackage{textcomp}'])\n",
    "\n",
    "matplotlib.rc('figure', figsize=(8, 6))"
   ]
  },
  {
   "cell_type": "code",
   "execution_count": 106,
   "metadata": {},
   "outputs": [
    {
     "name": "stdout",
     "output_type": "stream",
     "text": [
      "[1. 1. 1. ... 0. 0. 0.]\n"
     ]
    }
   ],
   "source": [
    "# 상수 정의\n",
    "deg_to_rad = np.pi/180.0\n",
    "\n",
    "# R_out : external collimator 반지름 (mm)\n",
    "# R_in : internal collimator 반지름 (mm)\n",
    "# R_d : 검출기 반경 (mm) . 현재는 R_in/2.0 으로 설정.\n",
    "\n",
    "R_out = 95.0\n",
    "R_in = 25.0\n",
    "\n",
    "R_d = R_in /2.0\n",
    "\n",
    "# detector pixel assignment\n",
    "# Number of bins in x and y axis\n",
    "Nbins = 100\n",
    "y0 = np.linspace(-1.0*R_d, R_d, Nbins)\n",
    "z0 = np.linspace(-1.0*R_d, R_d, Nbins)\n",
    "y1, z1 = 0.5*(x0[1:]+x0[:-1]), 0.5*(y0[1:]+y0[:-1])\n",
    "dy, dz = x0[1]-x0[0], y0[1]-y0[0]\n",
    "\n",
    "YY, ZZ = np.meshgrid(x1, y1)\n",
    "RR = np.sqrt(YY**2+ZZ**2)\n",
    "\n",
    "# generate slit in degree\n",
    "\n",
    "slit_open_deg = 5.0\n",
    "slit_period_deg = 15.0\n",
    "slit_angle_start = -77.5\n",
    "\n",
    "\n",
    "slit_open_list_rad = []\n",
    "slit_open_list_deg = []\n",
    "for t_ang in np.arange(slit_angle_start, 90.0-slit_open_deg, slit_period_deg):\n",
    "    slit_open_list_rad.append((t_ang*deg_to_rad, (t_ang+slit_open_deg)*deg_to_rad))\n",
    "    slit_open_list_deg.append((t_ang, t_ang+slit_open_deg))\n",
    "\n",
    "def is_open(angle):\n",
    "    \"\"\"\n",
    "    angle : angle in degree\n",
    "    \"\"\"\n",
    "    result = True\n",
    "    angrad = angle*deg_to_rad\n",
    "    \n",
    "    for angs in slit_open_list:\n",
    "        if angrad < angs[0]:\n",
    "            pass\n",
    "        elif (angrad >= angs[0]) and (angrad <= angs[1]):\n",
    "            result = False\n",
    "            break\n",
    "        \n",
    "    return result\n",
    "\n",
    "ex_angle_mask =np.fromiter((is_open(ai) for ai in np.arange(-90, 90.005, 0.01)), aa.dtype)\n",
    "print(ex_angle_mask)\n",
    "\n",
    "\n",
    "def generate_solid_angle(sample_position):\n",
    "    xs, ys, zs = sample_position[0], sample_position[1], sample_position[2]\n",
    "    n_area = dx * dy\n",
    "    M_theta = np.arccos(xs/np.sqrt((xs)**2+(ys-YY)**2+(zs-ZZ)**2))\n",
    "    \n",
    "    return M_theta\n"
   ]
  },
  {
   "cell_type": "code",
   "execution_count": 89,
   "metadata": {},
   "outputs": [
    {
     "data": {
      "text/plain": [
       "[(-77.5, -72.5),\n",
       " (-62.5, -57.5),\n",
       " (-47.5, -42.5),\n",
       " (-32.5, -27.5),\n",
       " (-17.5, -12.5),\n",
       " (-2.5, 2.5),\n",
       " (12.5, 17.5),\n",
       " (27.5, 32.5),\n",
       " (42.5, 47.5),\n",
       " (57.5, 62.5),\n",
       " (72.5, 77.5)]"
      ]
     },
     "execution_count": 89,
     "metadata": {},
     "output_type": "execute_result"
    }
   ],
   "source": [
    "slit_open_list_deg"
   ]
  },
  {
   "cell_type": "code",
   "execution_count": 107,
   "metadata": {},
   "outputs": [],
   "source": [
    "TT=generate_solid_angle([1000., 0., 0.])"
   ]
  },
  {
   "cell_type": "code",
   "execution_count": 117,
   "metadata": {},
   "outputs": [
    {
     "data": {
      "text/plain": [
       "0.0014284975762429424"
      ]
     },
     "execution_count": 117,
     "metadata": {},
     "output_type": "execute_result"
    }
   ],
   "source": [
    "TT[45,45]"
   ]
  },
  {
   "cell_type": "code",
   "execution_count": 75,
   "metadata": {},
   "outputs": [
    {
     "data": {
      "text/plain": [
       "1.0"
      ]
     },
     "execution_count": 75,
     "metadata": {},
     "output_type": "execute_result"
    }
   ],
   "source": [
    "bb[9000]"
   ]
  },
  {
   "cell_type": "code",
   "execution_count": 62,
   "metadata": {},
   "outputs": [
    {
     "data": {
      "text/plain": [
       "array(<map object at 0x000001FB403C9288>, dtype=object)"
      ]
     },
     "execution_count": 62,
     "metadata": {},
     "output_type": "execute_result"
    }
   ],
   "source": [
    "cc\n"
   ]
  },
  {
   "cell_type": "code",
   "execution_count": null,
   "metadata": {},
   "outputs": [],
   "source": []
  }
 ],
 "metadata": {
  "kernelspec": {
   "display_name": "Python 3",
   "language": "python",
   "name": "python3"
  },
  "language_info": {
   "codemirror_mode": {
    "name": "ipython",
    "version": 3
   },
   "file_extension": ".py",
   "mimetype": "text/x-python",
   "name": "python",
   "nbconvert_exporter": "python",
   "pygments_lexer": "ipython3",
   "version": "3.7.9"
  }
 },
 "nbformat": 4,
 "nbformat_minor": 4
}
