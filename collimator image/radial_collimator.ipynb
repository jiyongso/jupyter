{
 "cells": [
  {
   "cell_type": "code",
   "execution_count": 1,
   "metadata": {},
   "outputs": [],
   "source": [
    "%matplotlib inline\n",
    "#%matplotlib notebook\n",
    "#%matplotlib widget\n",
    "import matplotlib \n",
    "import numpy as np\n",
    "import pandas as pd\n",
    "#import ipywidgets\n",
    "import matplotlib.pyplot as plt\n",
    " \n",
    "# use LaTeX, choose nice some looking fonts and tweak some settings\n",
    "matplotlib.rc('font', family='serif')\n",
    "matplotlib.rc('font', size=16)\n",
    "matplotlib.rc('legend', fontsize=16)\n",
    "matplotlib.rc('legend', numpoints=1)\n",
    "matplotlib.rc('legend', handlelength=1.5)\n",
    "matplotlib.rc('legend', frameon=False)\n",
    "matplotlib.rc('xtick.major', pad=7)\n",
    "matplotlib.rc('xtick.minor', pad=7)\n",
    "matplotlib.rc('text', usetex=True)\n",
    "# matplotlib.rc('text.latex', \n",
    "#               preamble=[r'\\usepackage[T1]{fontenc}',\n",
    "#                         r'\\usepackage{amsmath}',\n",
    "#                         r'\\usepackage{txfonts}',\n",
    "#                         r'\\usepackage{textcomp}'])\n",
    "\n",
    "matplotlib.rc('figure', figsize=(8, 6))"
   ]
  },
  {
   "cell_type": "code",
   "execution_count": 70,
   "metadata": {},
   "outputs": [
    {
     "name": "stdout",
     "output_type": "stream",
     "text": [
      "[0. 0. 0. ... 0. 0. 0.]\n"
     ]
    }
   ],
   "source": [
    "# 상수 정의\n",
    "deg_to_rad = np.pi/180.0\n",
    "rad_to_deg = 180.0/np.pi\n",
    "\n",
    "# R_out : external collimator 반지름 (mm)\n",
    "# R_in : internal collimator 반지름 (mm)\n",
    "# R_d : 검출기 반경 (mm) . 현재는 R_in/2.0 으로 설정.\n",
    "\n",
    "R_out = 95.0\n",
    "R_in = 25.0\n",
    "\n",
    "R_d = R_out/2.0\n",
    "# detector pixel assignment\n",
    "# Number of bins in x and y axis\n",
    "Nbins = 1000\n",
    "y0 = np.linspace(-1.0*R_d, R_d, Nbins)\n",
    "z0 = np.linspace(-1.0*R_d, R_d, Nbins)\n",
    "y1, z1 = 0.5*(y0[1:]+y0[:-1]), 0.5*(z0[1:]+z0[:-1])\n",
    "dy, dz = y0[1]-y0[0], z0[1]-z0[0]\n",
    "\n",
    "YY, ZZ = np.meshgrid(y1, z1)\n",
    "RR = np.sqrt(YY**2+ZZ**2)\n",
    "\n",
    "# generate slit in degree\n",
    "\n",
    "slit_open_deg = 5.0\n",
    "slit_period_deg = 15.0\n",
    "slit_angle_start = -77.5\n",
    "\n",
    "\n",
    "def get_solution2(a,b,c):\n",
    "    \"\"\"\n",
    "    $ax^2+bx+c=0$ 의 2차방정식의 해를 return 한다.\n",
    "    \n",
    "    $D=\\sqrt{b^2-4ac}$ 하 할 때,\n",
    "    \n",
    "    answer :\n",
    "    \n",
    "    (-b+D)/2, (-b-D)/2a\n",
    "    \n",
    "    \"\"\"\n",
    "    D=np.sqrt(b**2-4*a*c)\n",
    "    \n",
    "    return ((-b+D)/(2*a), (-b-D)/(2*a))\n",
    "\n",
    "\n",
    "def cartesian_to_spherical2(x, y, z):\n",
    "    \"\"\"\n",
    "    args\n",
    "    ----\n",
    "    x, y, z\n",
    "    \n",
    "    return sperical coordinate from given cartesian coordinate (x, y, z) \n",
    "    \n",
    "    return\n",
    "    ---\n",
    "    (r, theta [deg], phi [deg])\n",
    "    \n",
    "    Warning : if x=y=z=0.0, return (0.0, 0.0, 0.0)\n",
    "    \"\"\"\n",
    "    r=np.sqrt(x**2+y**2+z**2)\n",
    "    theta = 0.0\n",
    "    phi = 0.0\n",
    "    if r==0.0:\n",
    "        return (0.0, 0.0, 0.0)\n",
    "    if z==0.0:\n",
    "        theta = np.pi/2.0\n",
    "    else :\n",
    "        theta = np.arccos(z/r)\n",
    "    if x == 0.0:\n",
    "        phi = 0.0\n",
    "    else :\n",
    "        phi = np.arctan2(y, x)\n",
    "    \n",
    "    return (r, theta*rad_to_deg, phi*rad_to_deg)\n",
    "\n",
    "def cartesian_to_spherical(x, y, z):\n",
    "    \"\"\"\n",
    "    args\n",
    "    ----\n",
    "    x, y, z\n",
    "    \n",
    "    return sperical coordinate from given cartesian coordinate (x, y, z) \n",
    "    \n",
    "    return\n",
    "    ---\n",
    "    (r, theta [deg], phi [deg])\n",
    "    \n",
    "    Warning : if x=y=z=0.0, return (0.0, 0.0, 0.0)\n",
    "    \"\"\"\n",
    "    theta = np.zeros(x.shape)\n",
    "    phi = np.zeros(x.shape)\n",
    "    r=np.sqrt(x**2+y**2+z**2)\n",
    "    r0ind=np.where(r==0.0)\n",
    "    rind = np.where(r>0.0)\n",
    "    x0ind = np.where(x==0.0)\n",
    "    #xind = np.where(x!=0.0)\n",
    "    theta[rind] = np.arccos(z[rind]/r[rind])\n",
    "    phi= np.arctan2(y, x)\n",
    "    \n",
    "    return (r, theta*rad_to_deg, phi*rad_to_deg)\n",
    "\n",
    "\n",
    "def spherical_to_cartesian(r, theta, phi):\n",
    "    \"\"\"\n",
    "    args\n",
    "    ----\n",
    "    r, theta [deg], phi[deg]\n",
    "    \n",
    "    return sperical coordinate from given cartesian coordinate (x, y, z) \n",
    "    \n",
    "    return\n",
    "    ---\n",
    "    (x, y, z)\n",
    "    \"\"\"\n",
    "    th, ph = theta*deg_to_rad, phi*deg_to_rad\n",
    "    \n",
    "    return (r*np.sin(th)*np.cos(ph), r*np.sin(th)*np.sin(ph), r*np.cos(th))\n",
    "    \n",
    "    \n",
    "\n",
    "slit_open_list_rad = []\n",
    "slit_open_list_deg = []\n",
    "for t_ang in np.arange(slit_angle_start, 90.0-slit_open_deg, slit_period_deg):\n",
    "    slit_open_list_rad.append((t_ang*deg_to_rad, (t_ang+slit_open_deg)*deg_to_rad))\n",
    "    slit_open_list_deg.append((t_ang, t_ang+slit_open_deg))\n",
    "\n",
    "def is_open(angle):\n",
    "    \"\"\"\n",
    "    angle : angle in degree\n",
    "    \"\"\"\n",
    "    result = False\n",
    "    angrad = angle*deg_to_rad\n",
    "    \n",
    "    for angs in slit_open_list_rad:\n",
    "        if angrad < angs[0]:\n",
    "            pass\n",
    "        elif (angrad >= angs[0]) and (angrad <= angs[1]):\n",
    "            result = True\n",
    "            break\n",
    "        \n",
    "    return result\n",
    "\n",
    "aa=np.arange(-90, 90.005, 0.01)\n",
    "ex_angle_mask =np.fromiter((is_open(ai) for ai in aa), aa.dtype)\n",
    "print(ex_angle_mask)\n",
    "\n",
    "\n",
    "def generate_solid_angle(source_position):\n",
    "    xs, ys, zs = source_position[0], source_position[1], source_position[2]\n",
    "    n_area = dy * dz\n",
    "    M_cos = xs/np.sqrt((xs)**2+(ys-YY)**2+(zs-ZZ)**2)\n",
    "    \n",
    "    return M_cos\n",
    "\n",
    "def get_position_on_Rsphere_cartesian(source_position, Rsp, Y, Z):\n",
    "    \"\"\"\n",
    "    hemisphere의 반경을 R 이라 하자. source가 (x, y, z)에 위치할 때 source에서 \n",
    "    각 pixel의 중앙으로 직선을 그렸을 때 반경 R 인 구와 만나는 점의 3차원 좌표\n",
    "    를 return 한다.\n",
    "    \n",
    "    args\n",
    "    -------\n",
    "    source_position : list/tuple/array with 3 elements in mm \n",
    "    d_pixel : 검출기 중앙에서 각 pixel 까지의 거리를 나타내는 nxn array\n",
    "    Rsp : spherical collimator 반경\n",
    "    Y : 각 pixel의 y값을 나타내는 nxn array\n",
    "    Z : 각 pixel의 z값을 나타내는 nxn array\n",
    "    \n",
    "    return\n",
    "    ------\n",
    "    (XR, YR, ZR)\n",
    "       \n",
    "    \"\"\"\n",
    "    \n",
    "    xs, ys, zs = source_position[0], source_position[1], source_position[2]\n",
    "    \n",
    "    A=xs**2+(ys-Y)**2+(zs-Z)**2\n",
    "    B=2.0*(Y*(ys-Y)+Z*(zs-Z))\n",
    "    #C=Y**2+Z**2-d_pixel**2\n",
    "    C=Y**2+Z**2-Rsp**2\n",
    "    \n",
    "    t1, t2=get_solution2(A, B, C)\n",
    "    \n",
    "    XR=xs*t1\n",
    "    YR=(ys-Y)*t1+Y\n",
    "    ZR=(zs-Z)*t1+Z\n",
    "    \n",
    "    return (XR, YR, ZR)\n",
    "\n",
    "def get_position_on_Rsphere_spherical(source_position, Rph, Y, Z):\n",
    "    XR, YR, ZR = get_position_on_Rsphere_cartesian(source_position, Rph, Y, Z)\n",
    "    #ex_angle_mask =np.fromiter((is_open(ai) for ai in aa), aa.dtype)\n",
    "    M_R, M_theta, M_phi = cartesian_to_spherical(XR, YR, ZR)\n",
    "    print(M_R.max(), M_R.min(),M_theta.min(), M_theta.max(), M_phi.min(), M_phi.max())\n",
    "    return M_theta, M_phi\n",
    "\n",
    "\n",
    "def calc_valid_phi(source_position, d_pixel, Y, Z):\n",
    "    Mth, Mph = get_position_on_Rsphere_spherical(source_position, d_pixel, Y, Z)\n",
    "    M1=np.fromiter((is_open(mi) for mi in Mph.flatten()), Mph.dtype)\n",
    "    return M1.reshape(Mph.shape)\n",
    "\n"
   ]
  },
  {
   "cell_type": "code",
   "execution_count": 71,
   "metadata": {},
   "outputs": [
    {
     "data": {
      "text/plain": [
       "<mpl_toolkits.mplot3d.art3d.Path3DCollection at 0x26bf723b100>"
      ]
     },
     "execution_count": 71,
     "metadata": {},
     "output_type": "execute_result"
    },
    {
     "data": {
      "image/png": "[encoded data removed]",
      "text/plain": [
       "<Figure size 576x432 with 1 Axes>"
      ]
     },
     "metadata": {
      "needs_background": "light"
     },
     "output_type": "display_data"
    }
   ],
   "source": [
    "#slit_open_list_deg\n",
    "xx, yy, zz=get_position_on_Rsphere_cartesian([200, 200, 50], R_out, YY, ZZ)\n",
    "x1, y1, z1 = xx.flatten(), yy.flatten(), zz.flatten()\n",
    "r1=np.sqrt(x1**2+y1**2+z1**2)\n",
    "r1.min(), r1.max()\n",
    "fig = plt.figure()\n",
    "ax = fig.add_subplot(111, projection='3d')\n",
    "\n",
    "ax.plot([200, 0.0], [200, YY[0,98]], [50, ZZ[0,98]], 'r-')\n",
    "ax.scatter([0.0, xx[0,98]], [0.0,yy[0, 98]], [0.0,zz[0,98]])"
   ]
  },
  {
   "cell_type": "code",
   "execution_count": 72,
   "metadata": {},
   "outputs": [
    {
     "name": "stdout",
     "output_type": "stream",
     "text": [
      "95.00000000000004 94.99999999999996 62.456105901971924 117.54389409802808 26.274361315096396 66.64072166114714\n"
     ]
    }
   ],
   "source": [
    "M_theta, M_phi = get_position_on_Rsphere_spherical([450., 450., 0], R_out, YY, ZZ)"
   ]
  },
  {
   "cell_type": "code",
   "execution_count": 88,
   "metadata": {},
   "outputs": [
    {
     "name": "stdout",
     "output_type": "stream",
     "text": [
      "95.00000000000004 94.99999999999996 61.90905366361865 118.09094633638138 -2.2006116488340393 53.929905447037925\n"
     ]
    }
   ],
   "source": [
    "MK = calc_valid_phi([R_out*10.*np.cos(25.0*deg_to_rad), R_out*10.*np.sin(25.0*deg_to_rad), 0], R_out, YY, ZZ)"
   ]
  },
  {
   "cell_type": "code",
   "execution_count": 96,
   "metadata": {},
   "outputs": [
    {
     "data": {
      "image/png": "[encoded data removed]",
      "text/plain": [
       "<Figure size 576x432 with 2 Axes>"
      ]
     },
     "metadata": {
      "needs_background": "light"
     },
     "output_type": "display_data"
    }
   ],
   "source": [
    "plt.imshow(MK, origin='lower', extent=[-R_d, R_d, -R_d, R_d], cmap=\"Greys\")\n",
    "#plt.colormap(\"greys\")\n",
    "plt.colorbar()\n",
    "plt.xlabel(\"Detector X [mm]\")\n",
    "plt.ylabel(\"Detector Y [mm]\")\n",
    "plt.savefig(\"test1.pdf\")"
   ]
  },
  {
   "cell_type": "code",
   "execution_count": 66,
   "metadata": {},
   "outputs": [
    {
     "data": {
      "text/plain": [
       "array([1., 1., 1., ..., 1., 1., 1.])"
      ]
     },
     "execution_count": 66,
     "metadata": {},
     "output_type": "execute_result"
    }
   ],
   "source": [
    "MM.flatten()"
   ]
  },
  {
   "cell_type": "code",
   "execution_count": 31,
   "metadata": {},
   "outputs": [
    {
     "data": {
      "text/plain": [
       "(1.7320508075688772, 54.735610317245346, 45.0)"
      ]
     },
     "execution_count": 31,
     "metadata": {},
     "output_type": "execute_result"
    }
   ],
   "source": [
    "cartesian_to_spherical(1.0, 1.0, 1.0)"
   ]
  },
  {
   "cell_type": "code",
   "execution_count": 34,
   "metadata": {},
   "outputs": [
    {
     "data": {
      "text/plain": [
       "(0.7071067811865476, 0.7071067811865476, 6.123233995736766e-17)"
      ]
     },
     "execution_count": 34,
     "metadata": {},
     "output_type": "execute_result"
    }
   ],
   "source": [
    "spherical_to_cartesian(1, 90., 45.0)"
   ]
  },
  {
   "cell_type": "code",
   "execution_count": 63,
   "metadata": {},
   "outputs": [
    {
     "data": {
      "text/plain": [
       "90.0"
      ]
     },
     "execution_count": 63,
     "metadata": {},
     "output_type": "execute_result"
    }
   ],
   "source": [
    "np.arctan2(1.0, 0.0)*180.0/np.pi"
   ]
  },
  {
   "cell_type": "code",
   "execution_count": 80,
   "metadata": {},
   "outputs": [
    {
     "data": {
      "text/plain": [
       "-12.373737373737374"
      ]
     },
     "execution_count": 80,
     "metadata": {},
     "output_type": "execute_result"
    }
   ],
   "source": [
    "YY.min()"
   ]
  },
  {
   "cell_type": "code",
   "execution_count": 81,
   "metadata": {},
   "outputs": [
    {
     "data": {
      "text/plain": [
       "12.373737373737374"
      ]
     },
     "execution_count": 81,
     "metadata": {},
     "output_type": "execute_result"
    }
   ],
   "source": [
    "YY.max()"
   ]
  },
  {
   "cell_type": "code",
   "execution_count": 82,
   "metadata": {},
   "outputs": [
    {
     "data": {
      "text/plain": [
       "-12.373737373737374"
      ]
     },
     "execution_count": 82,
     "metadata": {},
     "output_type": "execute_result"
    }
   ],
   "source": [
    "ZZ.min()"
   ]
  },
  {
   "cell_type": "code",
   "execution_count": 83,
   "metadata": {},
   "outputs": [
    {
     "data": {
      "text/plain": [
       "12.373737373737374"
      ]
     },
     "execution_count": 83,
     "metadata": {},
     "output_type": "execute_result"
    }
   ],
   "source": [
    "ZZ.max()"
   ]
  },
  {
   "cell_type": "code",
   "execution_count": 83,
   "metadata": {},
   "outputs": [
    {
     "data": {
      "text/plain": [
       "[(-77.5, -72.5),\n",
       " (-62.5, -57.5),\n",
       " (-47.5, -42.5),\n",
       " (-32.5, -27.5),\n",
       " (-17.5, -12.5),\n",
       " (-2.5, 2.5),\n",
       " (12.5, 17.5),\n",
       " (27.5, 32.5),\n",
       " (42.5, 47.5),\n",
       " (57.5, 62.5),\n",
       " (72.5, 77.5)]"
      ]
     },
     "execution_count": 83,
     "metadata": {},
     "output_type": "execute_result"
    }
   ],
   "source": [
    "slit_open_list_deg"
   ]
  },
  {
   "cell_type": "code",
   "execution_count": 21,
   "metadata": {},
   "outputs": [
    {
     "data": {
      "text/plain": [
       "True"
      ]
     },
     "execution_count": 21,
     "metadata": {},
     "output_type": "execute_result"
    }
   ],
   "source": [
    "is_open(10.0)"
   ]
  },
  {
   "cell_type": "code",
   "execution_count": 29,
   "metadata": {},
   "outputs": [
    {
     "data": {
      "text/plain": [
       "353.20850782505227"
      ]
     },
     "execution_count": 29,
     "metadata": {},
     "output_type": "execute_result"
    }
   ],
   "source": [
    "np.sqrt(350.0**2+(95.0/2.0)**2)"
   ]
  },
  {
   "cell_type": "code",
   "execution_count": 32,
   "metadata": {},
   "outputs": [
    {
     "data": {
      "text/plain": [
       "9.21379421263367"
      ]
     },
     "execution_count": 32,
     "metadata": {},
     "output_type": "execute_result"
    }
   ],
   "source": [
    "np.arccos((353.21**2-303.21**2)/(2.0*95.0/2.0*350.0))*rad_to_deg"
   ]
  },
  {
   "cell_type": "code",
   "execution_count": 74,
   "metadata": {},
   "outputs": [],
   "source": [
    "tt=np.arctan2(4,  1.)"
   ]
  },
  {
   "cell_type": "code",
   "execution_count": 75,
   "metadata": {},
   "outputs": [
    {
     "data": {
      "text/plain": [
       "61.92751306414706"
      ]
     },
     "execution_count": 75,
     "metadata": {},
     "output_type": "execute_result"
    }
   ],
   "source": [
    "(np.pi/2-(np.pi-2*tt))*rad_to_deg"
   ]
  },
  {
   "cell_type": "code",
   "execution_count": 76,
   "metadata": {},
   "outputs": [
    {
     "data": {
      "text/plain": [
       "75.96375653207353"
      ]
     },
     "execution_count": 76,
     "metadata": {},
     "output_type": "execute_result"
    }
   ],
   "source": [
    "tt*rad_to_deg"
   ]
  },
  {
   "cell_type": "code",
   "execution_count": 77,
   "metadata": {},
   "outputs": [
    {
     "data": {
      "text/plain": [
       "(1.9914848894267452, -1.5064136393540795)"
      ]
     },
     "execution_count": 77,
     "metadata": {},
     "output_type": "execute_result"
    }
   ],
   "source": [
    "get_solution2(1., -2.0*np.cos(tt), -3)"
   ]
  },
  {
   "cell_type": "code",
   "execution_count": 79,
   "metadata": {},
   "outputs": [],
   "source": [
    "yy=np.sqrt(17.)-1.99149"
   ]
  },
  {
   "cell_type": "code",
   "execution_count": 80,
   "metadata": {},
   "outputs": [
    {
     "data": {
      "text/plain": [
       "2.131615625617661"
      ]
     },
     "execution_count": 80,
     "metadata": {},
     "output_type": "execute_result"
    }
   ],
   "source": [
    "yy"
   ]
  },
  {
   "cell_type": "code",
   "execution_count": 82,
   "metadata": {},
   "outputs": [
    {
     "data": {
      "text/plain": [
       "14.979672452162394"
      ]
     },
     "execution_count": 82,
     "metadata": {},
     "output_type": "execute_result"
    }
   ],
   "source": [
    "np.arccos((2**2+4**2-2.1316**2)/2.0/2.0/4.0)*rad_to_deg"
   ]
  },
  {
   "cell_type": "code",
   "execution_count": null,
   "metadata": {},
   "outputs": [],
   "source": []
  }
 ],
 "metadata": {
  "kernelspec": {
   "display_name": "Python 3",
   "language": "python",
   "name": "python3"
  },
  "language_info": {
   "codemirror_mode": {
    "name": "ipython",
    "version": 3
   },
   "file_extension": ".py",
   "mimetype": "text/x-python",
   "name": "python",
   "nbconvert_exporter": "python",
   "pygments_lexer": "ipython3",
   "version": "3.8.5"
  }
 },
 "nbformat": 4,
 "nbformat_minor": 4
}
