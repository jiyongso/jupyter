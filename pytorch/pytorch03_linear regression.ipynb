{
 "cells": [
  {
   "cell_type": "code",
   "execution_count": 3,
   "metadata": {},
   "outputs": [],
   "source": [
    "%matplotlib inline\n",
    "import numpy as np\n",
    "import matplotlib.pyplot as plt\n",
    "import torch"
   ]
  },
  {
   "cell_type": "markdown",
   "metadata": {},
   "source": [
    "#### Cost function\n",
    "\n",
    "Deep learning 에서 다음 용어는 같은 의미이다.\n",
    "\n",
    "비용 함수(cost function) = 손실 함수(loss function) = 오차 함수(error function) = 목적 함수(objective function)"
   ]
  },
  {
   "cell_type": "markdown",
   "metadata": {},
   "source": [
    "## 1. 선형 회귀\n",
    "\n",
    "$(x,\\, y)$ 데이터셋이 다음 관계를 갖는다고 가정하자\n",
    "\n",
    "$$ y = Wx +b$$\n",
    "\n",
    "이 때 $W$ 를 가중치 (weight), $b$ 를 편항 (bias) 라 한다.\n",
    "\n",
    "만약 $n$개의. $(x,\\,y)$ 데이터 셋이 있고 이를 $\\{(x^{(i)},\\,y^{(i)} | i=1,\\,\\ldots,\\,n\\}$ 라 하자. 이 대 오차함수는 다음과 같다.\n",
    "\n",
    "$$\n",
    "\\text{cost}(W,\\,b) = \\sum_{i=1}^n \\left[y^{(i)} - W\\cdot x^{(i)} \\right]^2\n",
    "$$\n",
    "\n",
    "그리고 $\\dfrac{\\text{cost}(W,\\,b)}{n}$ 을 **평균제곱오차**(Mean square error, MSE) 라 한다."
   ]
  },
  {
   "cell_type": "code",
   "execution_count": null,
   "metadata": {},
   "outputs": [],
   "source": []
  }
 ],
 "metadata": {
  "kernelspec": {
   "display_name": "Python 3",
   "language": "python",
   "name": "python3"
  },
  "language_info": {
   "codemirror_mode": {
    "name": "ipython",
    "version": 3
   },
   "file_extension": ".py",
   "mimetype": "text/x-python",
   "name": "python",
   "nbconvert_exporter": "python",
   "pygments_lexer": "ipython3",
   "version": "3.7.9"
  }
 },
 "nbformat": 4,
 "nbformat_minor": 4
}
