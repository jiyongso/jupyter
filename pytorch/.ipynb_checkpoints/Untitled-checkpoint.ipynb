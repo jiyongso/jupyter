{
 "cells": [
  {
   "cell_type": "code",
   "execution_count": 5,
   "id": "outdoor-drain",
   "metadata": {},
   "outputs": [],
   "source": [
    "%matplotlib inline\n",
    "#%matplotlib notebook\n",
    "#%matplotlib widget\n",
    "import matplotlib \n",
    "import numpy as np\n",
    "import pandas as pd\n",
    "import os, sys, time\n",
    "#import ipywidgets\n",
    "from mpl_toolkits.mplot3d import Axes3D\n",
    "import matplotlib.pyplot as plt\n",
    "from matplotlib import cm\n",
    "from matplotlib.ticker import LinearLocator, FormatStrFormatter\n",
    "from mpl_toolkits.mplot3d.art3d import Poly3DCollection    \n",
    " \n",
    "import torch\n",
    "# use LaTeX, choose nice some looking fonts and tweak some settings\n",
    "matplotlib.rc('font', family='serif')\n",
    "matplotlib.rc('font', size=16)\n",
    "matplotlib.rc('legend', fontsize=16)\n",
    "matplotlib.rc('legend', numpoints=1)\n",
    "matplotlib.rc('legend', handlelength=1.5)\n",
    "matplotlib.rc('legend', frameon=False)\n",
    "matplotlib.rc('xtick.major', pad=7)\n",
    "matplotlib.rc('xtick.minor', pad=7)\n",
    "matplotlib.rc('text', usetex=True)\n",
    "# matplotlib.rc('text.latex', \n",
    "#               preamble=[r'\\usepackage[T1]{fontenc}',\n",
    "#                         r'\\usepackage{amsmath}',\n",
    "#                         r'\\usepackage{txfonts}',\n",
    "#                         r'\\usepackage{textcomp}'])\n",
    "\n",
    "matplotlib.rc('figure', figsize=(12, 9))"
   ]
  },
  {
   "cell_type": "code",
   "execution_count": 27,
   "id": "abroad-robinson",
   "metadata": {},
   "outputs": [],
   "source": [
    "def torchtest(dev=\"cpu\"):\n",
    "    if dev not in [\"cpu\", \"cuda:0\", \"cuda:1\"]:\n",
    "        return None\n",
    "    dtype = torch.float\n",
    "    device = torch.device(dev)\n",
    "    # device = torch.device(\"cuda:0\") # GPU에서 실행하려면 이 주석을 제거하세요.\n",
    "    t1=time.time()\n",
    "    # N은 배치 크기이며, D_in은 입력의 차원입니다;\n",
    "    # H는 은닉층의 차원이며, D_out은 출력 차원입니다.\n",
    "    N, D_in, H, D_out = 64, 1000, 100, 10\n",
    "\n",
    "    # 무작위의 입력과 출력 데이터를 생성합니다.\n",
    "    x = torch.randn(N, D_in, device=device, dtype=dtype)\n",
    "    y = torch.randn(N, D_out, device=device, dtype=dtype)\n",
    "\n",
    "    # 무작위로 가중치를 초기화합니다.\n",
    "    w1 = torch.randn(D_in, H, device=device, dtype=dtype)\n",
    "    w2 = torch.randn(H, D_out, device=device, dtype=dtype)\n",
    "\n",
    "    learning_rate = 1e-6\n",
    "  \n",
    "    for t in range(500):\n",
    "        # 순전파 단계: 예측값 y를 계산합니다.\n",
    "        h = x.mm(w1)\n",
    "        h_relu = h.clamp(min=0)\n",
    "        y_pred = h_relu.mm(w2)\n",
    "\n",
    "        # 손실(loss)을 계산하고 출력합니다.\n",
    "        loss = (y_pred - y).pow(2).sum().item()\n",
    "        if t % 100 == 99:\n",
    "            print(t, loss)\n",
    "\n",
    "        # 손실에 따른 w1, w2의 변화도를 계산하고 역전파합니다.\n",
    "        grad_y_pred = 2.0 * (y_pred - y)\n",
    "        grad_w2 = h_relu.t().mm(grad_y_pred)\n",
    "        grad_h_relu = grad_y_pred.mm(w2.t())\n",
    "        grad_h = grad_h_relu.clone()\n",
    "        grad_h[h < 0] = 0\n",
    "        grad_w1 = x.t().mm(grad_h)\n",
    "\n",
    "        # 경사하강법(gradient descent)를 사용하여 가중치를 갱신합니다.\n",
    "        w1 -= learning_rate * grad_w1\n",
    "        w2 -= learning_rate * grad_w2\n",
    "    print(time.time()-t1, \"secs for execute by \"+dev+\" .\")"
   ]
  },
  {
   "cell_type": "code",
   "execution_count": 28,
   "id": "manufactured-observer",
   "metadata": {},
   "outputs": [
    {
     "name": "stdout",
     "output_type": "stream",
     "text": [
      "99 nan\n",
      "199 nan\n",
      "299 nan\n",
      "399 nan\n",
      "499 nan\n",
      "0.22258901596069336 secs for execute by cuda:0 .\n"
     ]
    }
   ],
   "source": [
    "torchtest(\"cuda:0\")"
   ]
  },
  {
   "cell_type": "code",
   "execution_count": 29,
   "id": "drawn-boring",
   "metadata": {},
   "outputs": [
    {
     "name": "stdout",
     "output_type": "stream",
     "text": [
      "99 nan\n",
      "199 nan\n",
      "299 nan\n",
      "399 nan\n",
      "499 nan\n",
      "7.406389474868774 secs for execute by cpu .\n"
     ]
    }
   ],
   "source": [
    "torchtest(\"cpu\")"
   ]
  },
  {
   "cell_type": "code",
   "execution_count": 31,
   "id": "multiple-investigation",
   "metadata": {},
   "outputs": [
    {
     "name": "stdout",
     "output_type": "stream",
     "text": [
      "99 nan\n",
      "199 nan\n",
      "299 nan\n",
      "399 nan\n",
      "499 nan\n",
      "0.1970672607421875 secs for execute by cuda:1 .\n"
     ]
    }
   ],
   "source": [
    "torchtest(\"cuda:1\")"
   ]
  },
  {
   "cell_type": "code",
   "execution_count": 32,
   "id": "aggregate-variance",
   "metadata": {},
   "outputs": [
    {
     "data": {
      "text/plain": [
       "(torch.Size([64, 1000]), torch.Size([1000, 100]))"
      ]
     },
     "execution_count": 32,
     "metadata": {},
     "output_type": "execute_result"
    }
   ],
   "source": [
    "x.shape, w1.shape"
   ]
  },
  {
   "cell_type": "code",
   "execution_count": 33,
   "id": "interior-scanning",
   "metadata": {},
   "outputs": [
    {
     "data": {
      "text/plain": [
       "tensor([[ 25.2480,  35.7939,  -1.6933,  ..., -25.3238,  20.6352, -14.1234],\n",
       "        [ 33.2458,  -0.7616,  -4.7463,  ..., -43.0959, -29.4794,   0.3630],\n",
       "        [ 22.3756, -20.5740,  37.1580,  ..., -23.2816,  -0.6073,   0.2749],\n",
       "        ...,\n",
       "        [ 10.8524,  -1.4147,  -9.8913,  ...,  24.1980,   5.9258,  28.1207],\n",
       "        [ 15.8510, -34.1364,  -0.4786,  ...,  19.6586,  -1.6031,   6.6792],\n",
       "        [ 22.3780, -53.2425, -30.6140,  ..., -22.0529,   6.9655,  31.2972]])"
      ]
     },
     "execution_count": 33,
     "metadata": {},
     "output_type": "execute_result"
    }
   ],
   "source": [
    "x@w1"
   ]
  },
  {
   "cell_type": "code",
   "execution_count": 34,
   "id": "informal-income",
   "metadata": {},
   "outputs": [
    {
     "data": {
      "text/plain": [
       "tensor([[ 25.2480,  35.7939,  -1.6933,  ..., -25.3238,  20.6352, -14.1234],\n",
       "        [ 33.2458,  -0.7616,  -4.7463,  ..., -43.0959, -29.4794,   0.3630],\n",
       "        [ 22.3756, -20.5740,  37.1580,  ..., -23.2816,  -0.6073,   0.2749],\n",
       "        ...,\n",
       "        [ 10.8524,  -1.4147,  -9.8913,  ...,  24.1980,   5.9258,  28.1207],\n",
       "        [ 15.8510, -34.1364,  -0.4786,  ...,  19.6586,  -1.6031,   6.6792],\n",
       "        [ 22.3780, -53.2425, -30.6140,  ..., -22.0529,   6.9655,  31.2972]])"
      ]
     },
     "execution_count": 34,
     "metadata": {},
     "output_type": "execute_result"
    }
   ],
   "source": [
    "x.mm(w1)"
   ]
  },
  {
   "cell_type": "code",
   "execution_count": null,
   "id": "nonprofit-amber",
   "metadata": {},
   "outputs": [],
   "source": []
  }
 ],
 "metadata": {
  "kernelspec": {
   "display_name": "Python 3",
   "language": "python",
   "name": "python3"
  },
  "language_info": {
   "codemirror_mode": {
    "name": "ipython",
    "version": 3
   },
   "file_extension": ".py",
   "mimetype": "text/x-python",
   "name": "python",
   "nbconvert_exporter": "python",
   "pygments_lexer": "ipython3",
   "version": "3.8.8"
  }
 },
 "nbformat": 4,
 "nbformat_minor": 5
}
